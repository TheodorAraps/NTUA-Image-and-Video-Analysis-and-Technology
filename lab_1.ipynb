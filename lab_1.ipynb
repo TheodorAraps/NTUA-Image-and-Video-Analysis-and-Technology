{
 "cells": [
  {
   "cell_type": "markdown",
   "metadata": {},
   "source": [
    "# <font color = 'white'> <div align = \"center\"> <strong> Τεχνολογία και Ανάλυση Εικόνων και Βίντεο: <br> 1η Εργαστηριακή Άσκηση </strong> </div> </font> <br>\n",
    "#### <font color = 'orange'> <div align = \"left\"> <strong> Θοδωρής Αράπης (03118028) <br> Κρις Κούτση (03118905) </strong> </div> </font> \n",
    "#### <font color = 'white'> <div align = \"left\"> <strong> 17/04/2022 </strong> </div> </font> <br>\n",
    "## <font color = 'turquoise'> <div align = \"center\"> <strong> 1. Θεωρητικό Μέρος </strong> </div> </font> <br>\n",
    "\n",
    "### <strong>α) </strong>\n",
    "> Το άρθρο αυτό αναλύει μία μέθοδο που εφαρμόζει τεχνικές πρόβλεψης και μετασχηματισμούς, προκειμένου να αποφευθχεί το πρόβλημα της υψηλής συσχέτισης των pixel, που συναντάται κατά την διάρκεια κωδικοποίησης και αποκωδικοποίησής μιάς εικόνας, αξιοποιώντας την ελάχιστη δυνατή υπολογιστική ισχύ. Συγκεκριμένα, η μέθοδος είναι η κωδικοποίηση της είκόνας με μορφή Laplacian-ης πυραμίδας και η χρήση του φίλτρου Gauss ώστε να αποτραπεί το aliasing.\n",
    "\n",
    "### <strong>β) </strong>\n",
    ">To φίλτρο Gauss ουσιαστικά βοηθάει στην αποφυγή του aliasing. Πιο συγκεκριμένα, ο ρυθμός δειγματοληψίας δεν είναι αρκετός για να ανιχνεύσει τις απότομες αλλαγές της εικόνας, οπότε με το Gaussian φίλτρο επιτυγχάνεται η εξομάλυνσή της (smoothing), με αποτέλεσμα να περνούν μόνο οι χαμηλές συχνότητες (βαθυπερατό φίλτρο) στις τιμές της εικόνας, αποφεύγοντας, έτσι, τις υψηλές που δεν εντοπίζονται από την υποδειγματοληψία. Ύστερα, σχηματίζεται η Laplacian Πυραμίδα σύμφωνα με την σχέση $L_i = g_i - EXPAND(g_{i-1})$. \n",
    ">Αν εφαρμόζαμε μόνο υποδειγματοληψία, θα είχαμε, όπως προαναφέρθηκε, φαινόμενο αλλοίωσης (aliasing) και επομένως απώλεια πληροφορίας.\n",
    "\n",
    "\n",
    "### <strong>γ) </strong>\n",
    ">Σύμφωνα με το άρθρο, η Laplacian πυραμίδα σχηματίζεται από μία ακολουθία από εικόνες σφάλματος ($L_1, L_2,\\dots, L_N$). Καθεμία από αυτές αποτελεί την διαφορά δύο διαδοχικών επιπέδων της Gaussian πυραμίδας ($L_i = g_i - EXPAND(g_{i-1})$, όπου $g_i$ το $i$-οστό επίπεδο της Gaussian πυραμίδας και $EXPAND()$ συνάρτηση η οποία μετατρέπει το μέγεθος του όρου $g_{i-1}$ ώστε να ισούται με του $g_i$), με εξαίρεση την $L_Ν$ για την οποία ισχύει $L_n$ = $g_n$. Με αυτόν τον τρόπο, επιτυγχάνεται η μείωση της υπολογιστικής πολυπλοκότητας, επιλύοντας, έτσι, το πρόβλημα που διαπραγματεύεται το άρθρο. <br>\n",
    ">Τα πλεονεκτήματα της μεθόδου αυτής έναντι της μεθόδους Gauss είναι η αποδοτικότερη αξιοποίηση της υπολογιστικής ισχύος, αφού η αναπαράσταση σε bit των $L_i$ είναι σημαντικά μικρότερη από την αντίστοιχη αναπαράσταση ολόκληρης της εικόνας, καθώς και ο μικρότερος ρυθμός δειγματοληψίας που απαιτείται για την κωδικοποίηση της $L_n$ = $g_n$, μιας και έχουν εφαρμοστεί επανειλημμένα φιλτραρίσματα και δειγματοληψίες.\n",
    "την αρχική εικόνα.\n",
    "\n",
    "### <strong>δ) </strong>\n",
    ">Όπως αναφέρεται στο άρθρο, η εικόνα μπορεί να ανακτηθεί πλήρως με την επέκταση και ύστερα το άθροισμα όλων των επιπέδων της Laplacian πυραμίδας: <br>\n",
    ">$$g_0=\\sum_{l=0}^N L_{l,l}$$ \n",
    ">Ακόμη πιο αποτελεσματικά, θα μπορούσαμε να επεκτείνουμε την $L_i$ μία φορά και να την προσθέταμε στην $L_{i-1}$, μετά να επεκτείναμε την εικόνα που πρόκυπτε μία φορά και να την προσθέταμε στην $L_{i-2}$ κλπ. ωσότου ανακτηθεί η $g_0$ (εν ολίγοις, να αντιστρέφαμε τα βήματα της παραγωγής της Laplacian πυραμίδας):\n",
    ">$$g_l = L_l + EXPAND(g_{l+1}) \\,\\, \\text{, για} \\,\\, l = N-1,N-2,\\dots,0 \\,\\, \\text{και} \\,\\, g_N = L_N$$\n",
    "<br>"
   ]
  },
  {
   "cell_type": "markdown",
   "metadata": {},
   "source": [
    "## <font color = 'turquoise'> <div align = \"center\"> <strong> 2. Εργαστηριακό Μέρος </strong> </div> </font>\n",
    "### <div align = \"center\"> <strong> Α. Υλοποίηση Αλγορίθμου </strong> </div> </font> <br> "
   ]
  },
  {
   "cell_type": "code",
   "execution_count": null,
   "metadata": {},
   "outputs": [],
   "source": [
    "# Modules\n",
    "import urllib.request\n",
    "import cv2\n",
    "import numpy as np\n",
    "from matplotlib import rcParams, pyplot as plt\n",
    "from skimage import  data\n",
    "import scipy.stats as st\n",
    "%matplotlib inline"
   ]
  },
  {
   "cell_type": "markdown",
   "metadata": {},
   "source": [
    "### <strong>α) </strong>"
   ]
  },
  {
   "cell_type": "code",
   "execution_count": null,
   "metadata": {},
   "outputs": [],
   "source": [
    "# Generating 2D Kernel based on value of parameter a\n",
    "def Gkernel(a):\n",
    "    b = 1/4\n",
    "    c = 1/4 - a/2\n",
    "    kernel_1D = np.array([[c], [b], [a], [b], [c]])\n",
    "    return kernel_1D @ kernel_1D.T"
   ]
  },
  {
   "cell_type": "markdown",
   "metadata": {},
   "source": [
    "### <strong>β) </strong>"
   ]
  },
  {
   "cell_type": "code",
   "execution_count": null,
   "metadata": {},
   "outputs": [],
   "source": [
    "# Convolution of image (I) with kernel (h) and down-sampling the result\n",
    "def GREDUCE(I, h): \n",
    "    filtered_I = cv2.filter2D(I, -1, h)\n",
    "    return cv2.resize(filtered_I, (filtered_I.shape[1]//2, filtered_I.shape[0]//2), interpolation=cv2.INTER_CUBIC)"
   ]
  },
  {
   "cell_type": "markdown",
   "metadata": {},
   "source": [
    "### <strong>γ) </strong>"
   ]
  },
  {
   "cell_type": "code",
   "execution_count": null,
   "metadata": {},
   "outputs": [],
   "source": [
    "# Gaussian Pyramid Generation\n",
    "def GPyramid(I, a, depth): \n",
    "    G_pyr = [I]\n",
    "    temp_I = I\n",
    "\n",
    "    for i in range(depth - 1):\n",
    "        temp_I = GREDUCE(temp_I, Gkernel(a))\n",
    "        G_pyr.append(temp_I)\n",
    "    return G_pyr"
   ]
  },
  {
   "cell_type": "markdown",
   "metadata": {},
   "source": [
    "### <strong>δ) </strong>"
   ]
  },
  {
   "cell_type": "code",
   "execution_count": null,
   "metadata": {},
   "outputs": [],
   "source": [
    "# Up-sampling and convolution of result with kernel\n",
    "def GEXPAND(I, h):\n",
    "    resized_I = cv2.resize(I, (I.shape[1]*2, I.shape[0]*2), interpolation=cv2.INTER_CUBIC)\n",
    "    return cv2.filter2D(resized_I, -1, h)    "
   ]
  },
  {
   "cell_type": "markdown",
   "metadata": {},
   "source": [
    "### <strong>ε) </strong>"
   ]
  },
  {
   "cell_type": "code",
   "execution_count": null,
   "metadata": {},
   "outputs": [],
   "source": [
    "# Laplacian Pyramid Generation\n",
    "def L_Pyramid(I, a, depth):\n",
    "    kernel = Gkernel(a)\n",
    "    G_pyr = GPyramid(I, a, depth)\n",
    "    L_pyr = [G_pyr[depth - 1]]\n",
    "\n",
    "    for i in range(depth - 1):\n",
    "        L_pyr.append(G_pyr[depth - i - 2] - GEXPAND(G_pyr[depth - i - 1], kernel) + 128)\n",
    "    \n",
    "    L_pyr.reverse()\n",
    "    return L_pyr"
   ]
  },
  {
   "cell_type": "markdown",
   "metadata": {},
   "source": [
    "### <strong>στ) </strong>"
   ]
  },
  {
   "cell_type": "code",
   "execution_count": null,
   "metadata": {},
   "outputs": [],
   "source": [
    "# Laplacian Pyrimid decoding \n",
    "def L_Pyramid_Decode(L, a):\n",
    "    kernel = Gkernel(a)\n",
    "    result = L[len(L) - 1]\n",
    "    \n",
    "    for n in range(len(L) - 1):\n",
    "        result = GEXPAND(result, kernel) + L[len(L) - n - 2] - 128\n",
    "    return result"
   ]
  },
  {
   "cell_type": "markdown",
   "metadata": {},
   "source": [
    "### <strong>ζ) </strong>"
   ]
  },
  {
   "cell_type": "code",
   "execution_count": null,
   "metadata": {},
   "outputs": [],
   "source": [
    "def L_Quantize(I, bins):\n",
    "    quantum = np.linspace(0, 255, num = bins)\n",
    "    roll_quantum = np.roll(quantum, -1)\n",
    "    roll_quantum[-1] = 255\n",
    "    Image = (np.digitize(I, quantum) + np.digitize(I, roll_quantum)) // 2 \n",
    "    return Image.astype(np.uint8)\n",
    "\n",
    "def L_Quantization(I, a, depth, bins):\n",
    "    h = Gkernel(a)\n",
    "    G = GPyramid(I, a, depth)\n",
    "    L = [L_Quantize(G[depth-1], bins[depth-1])]\n",
    "    for n in range(depth-1):\n",
    "        interpolation = GEXPAND(G[depth-n-1], h)\n",
    "        difference = G[depth-n-2] - interpolation + 128\n",
    "        temp = L_Quantize(difference, bins[depth-n-2])\n",
    "        L.append(temp) # quantize each level of the pyamid\n",
    "    L.reverse()\n",
    "    return L\n"
   ]
  },
  {
   "cell_type": "markdown",
   "metadata": {},
   "source": [
    "<br>"
   ]
  },
  {
   "cell_type": "markdown",
   "metadata": {},
   "source": [
    "### <div align = \"center\"> <strong> Β. Δοκιμές Αλγορίθμου </strong> </div> </font> <br> "
   ]
  },
  {
   "cell_type": "code",
   "execution_count": null,
   "metadata": {},
   "outputs": [],
   "source": [
    "# Importing images of Lena (coloured and grayed) and camera\n",
    "HTTP_response = urllib.request.urlopen('http://www.image.ntua.gr/~tpar/LABimage/lena.png')\n",
    "arr = np.asarray(bytearray(HTTP_response.read()), dtype=np.uint8)\n",
    "BGR_img = cv2.imdecode(arr, -1)\n",
    "\n",
    "Lena = cv2.cvtColor(BGR_img, cv2.COLOR_BGR2RGB)\n",
    "camera = data.camera()\n",
    "\n",
    "# Show imported images\n",
    "rcParams['figure.figsize'] = 20, 20\n",
    "figure, image = plt.subplots(1, 2)\n",
    "\n",
    "# Lena (Coloured)\n",
    "image[0].imshow(Lena)\n",
    "image[0].set_title('Lena (Coloured)', fontsize=15)\n",
    "\n",
    "# Camera (Grayscale)\n",
    "image[1].imshow(camera, cmap='gray')\n",
    "image[1].set_title('Camera (Grayscale)', fontsize=15)"
   ]
  },
  {
   "cell_type": "markdown",
   "metadata": {},
   "source": [
    "### <strong>α) </strong>"
   ]
  },
  {
   "cell_type": "code",
   "execution_count": null,
   "metadata": {},
   "outputs": [],
   "source": [
    "# Shows whole image\n",
    "def whole_image(image, a, depth):\n",
    "    L_pyr = L_Pyramid(image, a, depth)\n",
    "    figure, levels = plt.subplots(1, depth, figsize=(depth*7, 7))\n",
    "    title = 'Depth = ' + str(depth) + ', a = ' + str(a)\n",
    "    figure.suptitle(title, fontsize=20)\n",
    "    if len(image.shape) == 3:\n",
    "      for l in range(len(levels)):\n",
    "        levels[l].imshow(L_pyr[l].astype(np.uint8))\n",
    "        levels[l].set_title('L[' + str(l) + ']', fontsize=15)\n",
    "    else:\n",
    "      for l in range(len(levels)):\n",
    "        levels[l].imshow(L_pyr[l].astype(np.uint8), cmap=\"gray\")\n",
    "        levels[l].set_title('L[' + str(l) + ']', fontsize=15)\n",
    "    return L_pyr\n",
    "\n",
    "# Shows all Laplacian Pyramids levels (RGB and every channel seperately) and returns a list of them for every channel \n",
    "def pyramid_levels_plot(image, a, depth, RGB_split):\n",
    "  colors = ['RED', 'GREEN', 'BLUE']\n",
    "  if len(image.shape) == 3 and RGB_split: # Coloured images are 3-Dimensional (height, width, colour)\n",
    "    RGB_pyramids = []\n",
    "    whole_image(image, a, depth)\n",
    "    for i in range(3):\n",
    "      L_pyr = L_Pyramid(image[ : , : , i], a, depth)\n",
    "      figure, levels = plt.subplots(1, depth, figsize=(depth*7, 7))\n",
    "      \n",
    "      title = colors[i] + ' CHANNEL' + \"\\n\" + 'Depth = ' + str(depth) + ', a = ' + str(a)\n",
    "      figure.suptitle(title, fontsize=20)\n",
    "\n",
    "      for l in range(len(levels)):\n",
    "        levels[l].imshow(L_pyr[l].astype(np.uint8))\n",
    "        levels[l].set_title('L[' + str(l) + ']', fontsize=15)\n",
    "      RGB_pyramids.append(L_pyr)\n",
    "    return RGB_pyramids\n",
    "  else: \n",
    "    return whole_image(image, a, depth)\n",
    "\n",
    "# Comparison function that checks if the same image is produced and returns the decoded image \n",
    "def comp_decoded_original(original, L_pyramid, a, RGB_split): # RGB_split = True means we want to show each RGB channel seperately\n",
    "  rcParams['figure.figsize'] = 6, 6\n",
    "  figure, images = plt.subplots(1, 2, figsize=(20, 20))\n",
    "\n",
    "  if len(original.shape) == 3 and RGB_split: # For coloured images\n",
    "    decoded = np.zeros(original.shape)\n",
    "    for i in range(3):\n",
    "      decoded[ : , : , i] = L_Pyramid_Decode(L_pyramid[i], a)\n",
    "    images[0].imshow(decoded.astype(np.uint8))\n",
    "    images[0].set_title(\"Decoded\", fontsize=20)\n",
    "    images[1].imshow(Lena)\n",
    "    images[1].set_title(\"Original\", fontsize=20)\n",
    "\n",
    "  else:\n",
    "    decoded = L_Pyramid_Decode(L_pyramid, a)\n",
    "    images[0].imshow(decoded, cmap='gray')\n",
    "    images[0].set_title(\"Decoded\", fontsize=20)\n",
    "    images[1].imshow(original, cmap='gray')\n",
    "    images[1].set_title(\"Original\", fontsize=20)\n",
    "\n",
    "  if (np.array_equal(decoded, original)):\n",
    "    print(\"\\033[92m\" + \"\\n\" + 'The decoded image and the original are exactly the same!' + \"\\n\")\n",
    "  else:\n",
    "    print(\"\\033[93m\" + 'The image was distorted!')\n",
    "  return decoded"
   ]
  },
  {
   "cell_type": "markdown",
   "metadata": {},
   "source": [
    "#### <strong>Lena</strong>"
   ]
  },
  {
   "cell_type": "code",
   "execution_count": null,
   "metadata": {},
   "outputs": [],
   "source": [
    "Lena_Laplacian_Pyramid = pyramid_levels_plot(Lena, a = 0.4, depth = 5, RGB_split = True)"
   ]
  },
  {
   "cell_type": "markdown",
   "metadata": {},
   "source": [
    "#### <strong>Comparison </strong>"
   ]
  },
  {
   "cell_type": "code",
   "execution_count": null,
   "metadata": {},
   "outputs": [],
   "source": [
    "result1 = comp_decoded_original(Lena, Lena_Laplacian_Pyramid, a = 0.4, RGB_split = True)"
   ]
  },
  {
   "cell_type": "markdown",
   "metadata": {},
   "source": [
    "#### <strong> Camera </strong>"
   ]
  },
  {
   "cell_type": "code",
   "execution_count": null,
   "metadata": {},
   "outputs": [],
   "source": [
    "Camera_Laplacian_Pyramid = pyramid_levels_plot(camera, a = 0.4, depth = 5, RGB_split = False)"
   ]
  },
  {
   "cell_type": "markdown",
   "metadata": {},
   "source": [
    "#### <strong> Comparison </strong>"
   ]
  },
  {
   "cell_type": "code",
   "execution_count": null,
   "metadata": {},
   "outputs": [],
   "source": [
    "result2 = comp_decoded_original(camera, Camera_Laplacian_Pyramid, a = 0.4, RGB_split = False)"
   ]
  },
  {
   "cell_type": "markdown",
   "metadata": {},
   "source": [
    "### <strong>β) </strong>"
   ]
  },
  {
   "cell_type": "code",
   "execution_count": null,
   "metadata": {},
   "outputs": [],
   "source": [
    "a_value = [0.2, 0.3, 0.4, 0.5, 0.6, 0.7]"
   ]
  },
  {
   "cell_type": "markdown",
   "metadata": {},
   "source": [
    "#### <strong> Lena </strong>"
   ]
  },
  {
   "cell_type": "code",
   "execution_count": null,
   "metadata": {},
   "outputs": [],
   "source": [
    "# Lena\n",
    "for a in a_value:\n",
    "    result = comp_decoded_original(Lena, pyramid_levels_plot(Lena, a, 5, RGB_split = False), a, RGB_split = False)"
   ]
  },
  {
   "cell_type": "markdown",
   "metadata": {},
   "source": [
    "#### <strong> Camera </strong>"
   ]
  },
  {
   "cell_type": "code",
   "execution_count": null,
   "metadata": {},
   "outputs": [],
   "source": [
    "# Camera\n",
    "for a in a_value:\n",
    "    result = comp_decoded_original(camera, pyramid_levels_plot(camera, a, 5, RGB_split = False), a, RGB_split = False)    "
   ]
  },
  {
   "cell_type": "markdown",
   "metadata": {},
   "source": [
    "### <strong> <u> Παρατήρηση: </u> </strong>\n",
    "> Παρατηρούμε ότι καθώς αυξάνεται η τιμή του $a$, τα επίπεδα της Λαπλασιανής πυραμίδας γίνονται όλο και πιο θολά (blurred)."
   ]
  },
  {
   "cell_type": "markdown",
   "metadata": {},
   "source": [
    "### <strong>γ) </strong>"
   ]
  },
  {
   "cell_type": "code",
   "execution_count": null,
   "metadata": {},
   "outputs": [],
   "source": [
    "depth_value = [2, 3, 4, 5, 6, 7]"
   ]
  },
  {
   "cell_type": "markdown",
   "metadata": {},
   "source": [
    "#### <strong> Lena </strong>"
   ]
  },
  {
   "cell_type": "code",
   "execution_count": null,
   "metadata": {},
   "outputs": [],
   "source": [
    "# Lena\n",
    "for depth in depth_value:\n",
    "    result = pyramid_levels_plot(Lena, 0.4, depth, RGB_split = False)\n",
    "    comp_decoded_original(Lena, result, a = 0.4, RGB_split = False)"
   ]
  },
  {
   "cell_type": "markdown",
   "metadata": {},
   "source": [
    "#### <strong> Camera </strong>"
   ]
  },
  {
   "cell_type": "code",
   "execution_count": null,
   "metadata": {},
   "outputs": [],
   "source": [
    "# Camera\n",
    "for depth in depth_value:\n",
    "    result = pyramid_levels_plot(camera, 0.4, depth, RGB_split = False)\n",
    "    comp_decoded_original(camera, result, a = 0.4, RGB_split = False)"
   ]
  },
  {
   "cell_type": "markdown",
   "metadata": {},
   "source": [
    "### <strong> <u> Παρατήρηση: </u> </strong>\n",
    "> Παρατηρούμε ότι για σταθερή τιμή του $a$ και αυξανόμενο depth, σε κάθε περίπτωση η εικόνα ανακτάται πλήρως από την Λαπλασιανή πυραμίδα."
   ]
  },
  {
   "cell_type": "markdown",
   "metadata": {},
   "source": [
    "### <strong>δ) </strong>"
   ]
  },
  {
   "cell_type": "code",
   "execution_count": null,
   "metadata": {},
   "outputs": [],
   "source": [
    "# This function returns the histogram of the Laplacian Pyramid and the entropy based on that histogram and also plot it\n",
    "def L_histogram_entropy(pyramid, a, depth, normalised):\n",
    "  sum_hist = np.zeros([256, 1], np.float64)\n",
    "  for d in range(depth - 1):\n",
    "    hist = cv2.calcHist([pyramid[d]], [0], None, [256], [0, 256])\n",
    "    plt.plot (hist)\n",
    "    sum_hist += hist\n",
    "  if normalised:\n",
    "    plt.suptitle(\"Histogram of Laplacian Pyramid for a = \" + str(a) + \" and depth = \" + str(depth) + \"\\n (Normalised)\")\n",
    "  else:\n",
    "    plt.suptitle(\"Histogram of Laplacian Pyramid for a = \" + str(a) + \" and depth = \" + str(depth) + \"\\n\")\n",
    "  \n",
    "  if normalised:\n",
    "    plt.plot(sum_hist/sum_hist.max())\n",
    "  else:\n",
    "    plt.plot(sum_hist)\n",
    "  plt.xlim([0, 256])\n",
    "  plt.show()\n",
    "  entropy = st.entropy(sum_hist, base=2)[0]\n",
    "  \n",
    "  return (sum_hist, entropy)"
   ]
  },
  {
   "cell_type": "markdown",
   "metadata": {},
   "source": [
    "### <strong> Εξετάζουμε για διάφορες τιμές του $a$ τα Ιστογράμματα των Laplacian Πυραμίδων (βάθους 5) και τις Εντροπίες τους </strong>\n",
    "#### <strong> Lena </strong>"
   ]
  },
  {
   "cell_type": "code",
   "execution_count": null,
   "metadata": {},
   "outputs": [],
   "source": [
    "Lena_entropies = []\n",
    "camera_entropies = []\n",
    "\n",
    "# Histograms\n",
    "for a in a_value:\n",
    "    Lena_L_pyr = L_Pyramid(Lena, a, depth_value[3])\n",
    "    print(\"Histograms for a = \" + str(a))\n",
    "    (Lena_hist, entropy) = L_histogram_entropy(Lena_L_pyr, a, depth_value[3], normalised = False)\n",
    "    Lena_entropies.append(entropy)\n",
    "    histNorm_entropy =  L_histogram_entropy(Lena_L_pyr, a, depth_value[3], normalised = True)\n",
    "\n",
    "# Entropies\n",
    "print(\"\\n--------------------------------------------------------------------------------------------------\")\n",
    "for i in range(len(a_value)):\n",
    "    print('Η εντροπία της εικόνας Lena για a = ' + str(a_value[i]) + ' είναι: ' + str(Lena_entropies[i]))\n",
    "print(\"--------------------------------------------------------------------------------------------------\\n\")\n",
    "plt.figure()\n",
    "plt.plot(a_value, Lena_entropies)\n",
    "_=plt.title(\"Lena: Entropy based on a\")"
   ]
  },
  {
   "cell_type": "markdown",
   "metadata": {},
   "source": [
    "#### <strong> Camera </strong>"
   ]
  },
  {
   "cell_type": "code",
   "execution_count": null,
   "metadata": {},
   "outputs": [],
   "source": [
    "# Histograms\n",
    "for a in a_value:\n",
    "    camera_L_pyr = L_Pyramid(camera, a, depth_value[3])\n",
    "    print(\"Histograms for a = \" + str(a))\n",
    "    (camera_hist, entropy) = L_histogram_entropy(camera_L_pyr, a, depth_value[3], normalised = False)\n",
    "    camera_entropies.append(entropy)\n",
    "    histNorm_entropy =  L_histogram_entropy(camera_L_pyr, a, depth_value[3], normalised = True)\n",
    "\n",
    "# Entropies\n",
    "print(\"\\n--------------------------------------------------------------------------------------------------\")\n",
    "for i in range(len(a_value)):\n",
    "    print('Η εντροπία της εικόνας camera για a = ' + str(a_value[i]) + ' είναι: ' + str(camera_entropies[i]))\n",
    "print(\"--------------------------------------------------------------------------------------------------\\n\")\n",
    "plt.figure()\n",
    "plt.plot(a_value, camera_entropies)\n",
    "_=plt.title(\"Camera: Entropy based on a\")"
   ]
  },
  {
   "cell_type": "markdown",
   "metadata": {},
   "source": [
    "### <strong> <u> Παρατήρηση: </u> </strong>\n",
    "> Παρατηρώντας τα αποτελέσματα και για τις δύο εικόνες, συμπεραίνουμε ότι καθώς αυξάνεται η τιμή του $a$, μέχρι και την τιμή 0.6 (ελάχιστη εντροπία), η εντροπία μειώνεται, ενώ ύστερα παρουσιάζει αύξηση. Ως εκ τούτου, τα αντίστοιχα ιστογράμματα της πυραμίδας \"στενεύουν\", με αποτέλεσμα να απαιτείται μικρότερου μήκους (σε bit) κωδικοποίηση."
   ]
  },
  {
   "cell_type": "markdown",
   "metadata": {},
   "source": [
    "### <strong> Εξετάζουμε για διάφορες τιμές του βάθους της Laplacian Πυραμίδας ($a$ = 0.6) τα αντίστοιχα Ιστογράμματα και τις Εντροπίες τους </strong>\n",
    "#### <strong> Lena </strong>"
   ]
  },
  {
   "cell_type": "code",
   "execution_count": null,
   "metadata": {},
   "outputs": [],
   "source": [
    "Lena_entropies.clear()\n",
    "camera_entropies.clear()\n",
    "\n",
    "# Histograms\n",
    "for d in depth_value:\n",
    "    Lena_L_pyr = L_Pyramid(Lena, a_value[4], d)\n",
    "    print(\"Histograms for depth \" + str(d))\n",
    "    (Lena_hist, entropy) = L_histogram_entropy(Lena_L_pyr, a_value[4], d, normalised = False)\n",
    "    Lena_entropies.append(entropy)\n",
    "    histNorm_entropy =  L_histogram_entropy(Lena_L_pyr, a_value[4], d, normalised = True)\n",
    "\n",
    "# Entropies\n",
    "print(\"\\n--------------------------------------------------------------------------------------------------\")\n",
    "for i in range(len(depth_value)):\n",
    "    print('Η εντροπία της εικόνας Lena για βάθος ' + str(depth_value[i]) + ' είναι: ' + str(Lena_entropies[i]))\n",
    "print(\"--------------------------------------------------------------------------------------------------\\n\")\n",
    "plt.figure()\n",
    "plt.plot(depth_value, Lena_entropies)\n",
    "_=plt.title(\"Lena: Entropy based on depth\")"
   ]
  },
  {
   "cell_type": "markdown",
   "metadata": {},
   "source": [
    "#### <strong> Camera </strong>"
   ]
  },
  {
   "cell_type": "code",
   "execution_count": null,
   "metadata": {},
   "outputs": [],
   "source": [
    "# Histograms\n",
    "for d in depth_value:\n",
    "    camera_L_pyr = L_Pyramid(camera, a_value[4], d)\n",
    "    print(\"Histograms for depth \" + str(d))\n",
    "    (camera_hist, entropy) = L_histogram_entropy(camera_L_pyr, a_value[4], d, normalised = False)\n",
    "    camera_entropies.append(entropy)\n",
    "    histNorm_entropy =  L_histogram_entropy(camera_L_pyr, a_value[4], d, normalised = True)\n",
    "\n",
    "# Entropies\n",
    "print(\"\\n--------------------------------------------------------------------------------------------------\")\n",
    "for i in range(len(depth_value)):\n",
    "    print('Η εντροπία της εικόνας Camera για βάθος ' + str(depth_value[i]) + ' είναι: ' + str(camera_entropies[i]))\n",
    "print(\"--------------------------------------------------------------------------------------------------\\n\")\n",
    "plt.figure()\n",
    "plt.plot(depth_value, camera_entropies)\n",
    "_=plt.title(\"Camera: Entropy based on depth\")"
   ]
  },
  {
   "cell_type": "markdown",
   "metadata": {},
   "source": [
    "### <strong> <u> Παρατήρηση: </u> </strong>\n",
    "> Παρατηρώντας τα αποτελέσματα και για τις δύο εικόνες, συμπεραίνουμε ότι καθώς αυξάνονται τα επίπεδα της Laplacian υραμίδας, η εντροπία αυξάνεται (αντίθετα με ότι συνεβαινε με την τιμή του $α$). Ως εκ τούτου, τα αντίστοιχα ιστογράμματα της πυραμίδας \"ανοίγουν\", με αποτέλεσμα να απαιτείται μεγαλύτερυ μήκους (σε bit) κωδικοποίηση."
   ]
  },
  {
   "cell_type": "markdown",
   "metadata": {},
   "source": [
    "### <strong>ε) </strong>"
   ]
  },
  {
   "cell_type": "code",
   "execution_count": null,
   "metadata": {},
   "outputs": [],
   "source": [
    "# Function that prints Entropy and Variance for Level of Laplacian Pyramid\n",
    "a_value = [0.2, 0.3, 0.4, 0.5, 0.6, 0.7, 0.8, 0.9]\n",
    "def entropy_variance_per_level_per_a(image, level):\n",
    "    for a in a_value:\n",
    "        print('\\n\\033[4mValue of a:', '\\033[1ma', '=', str(a) + '\\033[0m')\n",
    "        pyramid = L_Pyramid(image, a, depth)\n",
    "        for d in range(level):\n",
    "            hist = cv2.calcHist([pyramid[d]], [0], None, [256], [0, 256])\n",
    "            print('\\033[96m\\033[1mLevel\\033[0m =', str(d + 1) + ',','\\033[96m\\033[1mEntropy\\033[0m =', str(st.entropy(hist, base = 2)[0]) + ',', '\\033[96m\\033[1mVariance\\033[0m =', np.var(pyramid[d], dtype=np.float64))\n",
    "\n",
    "print('\\n------------------------- \\033[1m\\033[95mLena Image\\033[0m\\033[0m -------------------------')\n",
    "entropy_variance_per_level_per_a(Lena, 5)\n",
    "print('\\n------------------------- \\033[1m\\033[95mCamera Image\\033[0m\\033[0m -------------------------')\n",
    "entropy_variance_per_level_per_a(camera, 5)"
   ]
  },
  {
   "cell_type": "markdown",
   "metadata": {},
   "source": [
    "### <strong> <u> Παρατήρηση: </u> </strong>\n",
    "> Παρατηρώντας τα αποτελέσματα και για τις δύο εικόνες, συμπεραίνουμε ότι όπως αναμέναμε για την τιμή $a$ = 0.6 εμφανίζεται η χαμηλότερη εντροπία, ενώ ακόμα παρουσιάζεται σχεδόν η ελάχιστη διακύμανση εικονοστιχείων (για $a$ = 0.7 έχουμε ελαφρώς μικρότερη τιμή διακύμανσης). Συνεπώς, το βέλτιστο $a$ για την κωδικοποίηση είναι το 0.6."
   ]
  },
  {
   "cell_type": "markdown",
   "metadata": {},
   "source": [
    "### <strong>στ) </strong>"
   ]
  },
  {
   "cell_type": "code",
   "execution_count": null,
   "metadata": {},
   "outputs": [],
   "source": [
    "def pyramid_quantized_plot(image, a, depth, bins, RGB_split):\n",
    "  colors = ['RED', 'GREEN', 'BLUE']\n",
    "  if len(image.shape) == 3 and RGB_split: # Coloured images are 3-Dimensional (height, width, colour)\n",
    "    quantized_pyramids = []\n",
    "    whole_image(image, a, depth)\n",
    "    for i in range(3):\n",
    "      L_pyr = L_Quantization(image[:,:,i], a, depth, bins)\n",
    "      figure, levels = plt.subplots(1, depth, figsize=(depth*7, 7))\n",
    "      title = colors[i] + ' CHANNEL' + \"\\n\" + 'Depth = ' + str(depth) + ', a = ' + str(a)\n",
    "      figure.suptitle(title, fontsize=20)\n",
    "      for l in range(len(levels)):\n",
    "        levels[l].imshow(L_pyr[l].astype(np.uint8))\n",
    "        levels[l].set_title('L[' + str(l) + ']', fontsize=15)\n",
    "      quantized_pyramids.append(L_pyr)\n",
    "    return quantized_pyramids\n",
    "  else: \n",
    "    L_pyr = L_Quantization(image, a, depth, bins)\n",
    "    figure, levels = plt.subplots(1, depth, figsize=(depth*7, 7))\n",
    "    title = 'Depth = ' + str(depth) + ', a = ' + str(a)\n",
    "    figure.suptitle(title, fontsize=20)\n",
    "    if len(image.shape) == 3:\n",
    "      for l in range(len(levels)):\n",
    "        levels[l].imshow(L_pyr[l].astype(np.uint8))\n",
    "        levels[l].set_title('L[' + str(l) + ']', fontsize=15)\n",
    "    else:\n",
    "      for l in range(len(levels)):\n",
    "        levels[l].imshow(L_pyr[l].astype(np.uint8), cmap=\"gray\")\n",
    "        levels[l].set_title('L[' + str(l) + ']', fontsize=15)\n",
    "    return L_pyr"
   ]
  },
  {
   "cell_type": "markdown",
   "metadata": {},
   "source": [
    "#### <strong> Lena </strong>"
   ]
  },
  {
   "cell_type": "code",
   "execution_count": null,
   "metadata": {},
   "outputs": [],
   "source": [
    "bins1 = [5, 10, 15, 20, 25]\n",
    "quantized_lena1 = pyramid_quantized_plot(Lena, a = 0.6, depth = 5, bins = bins1, RGB_split = True)\n",
    "result = comp_decoded_original(Lena, quantized_lena1, a = 0.6, RGB_split = True)"
   ]
  },
  {
   "cell_type": "code",
   "execution_count": null,
   "metadata": {},
   "outputs": [],
   "source": [
    "bins2 = [10, 20, 30, 40, 50]\n",
    "quantized_lena2 = pyramid_quantized_plot(Lena, a = 0.6, depth = 5, bins = bins2, RGB_split = True)\n",
    "result = comp_decoded_original(Lena, quantized_lena2, a = 0.6, RGB_split = True)"
   ]
  },
  {
   "cell_type": "code",
   "execution_count": null,
   "metadata": {},
   "outputs": [],
   "source": [
    "bins3 = [15, 20, 30, 45, 60]\n",
    "quantized_lena3 = pyramid_quantized_plot(Lena, a = 0.6, depth = 5, bins = bins3, RGB_split = True)\n",
    "result = comp_decoded_original(Lena, quantized_lena3, a = 0.6, RGB_split = True)"
   ]
  },
  {
   "cell_type": "markdown",
   "metadata": {},
   "source": [
    "#### <strong> Camera </strong>"
   ]
  },
  {
   "cell_type": "code",
   "execution_count": null,
   "metadata": {},
   "outputs": [],
   "source": [
    "quantized_camera1 = pyramid_quantized_plot(camera, a = 0.6, depth = 5, bins = bins1, RGB_split = False)\n",
    "result = comp_decoded_original(camera, quantized_camera1, a = 0.6, RGB_split = False)"
   ]
  },
  {
   "cell_type": "code",
   "execution_count": null,
   "metadata": {},
   "outputs": [],
   "source": [
    "bins4 = [1, 2, 3, 4, 5]\n",
    "quantized_camera2 = pyramid_quantized_plot(camera, a = 0.6, depth = 5, bins = bins4, RGB_split = False)\n",
    "result = comp_decoded_original(camera, quantized_camera2, a = 0.6, RGB_split = False)"
   ]
  },
  {
   "cell_type": "code",
   "execution_count": null,
   "metadata": {},
   "outputs": [],
   "source": [
    "quantized_camera3 = pyramid_quantized_plot(camera, a = 0.6, depth = 5, bins = bins3, RGB_split = False)\n",
    "result = comp_decoded_original(camera, quantized_camera3, a = 0.6, RGB_split = False)"
   ]
  },
  {
   "cell_type": "markdown",
   "metadata": {},
   "source": [
    "### <strong> <u> Παρατήρηση: </u> </strong>\n",
    "> Παρατητούμε ότι σε καμία περίπτωση δεν πετύχαμε πλήρη ανακατασκευή της εικόνας. Επιπλέον, βλέπουμε ότι οσο μικρότερος είναι ο αριθμός των bins που χρησιμοποιούμε, τόσο μεγαλύτερο είναι και το σφάλμα κβάντισης που υπεισέρχεται."
   ]
  }
 ],
 "metadata": {
  "interpreter": {
   "hash": "3cd00ee388b84241e8c5c20dbfa78df79f75d6d219b6590d64f46bd8bb72f872"
  },
  "kernelspec": {
   "display_name": "Python 3.9.10 64-bit (windows store)",
   "language": "python",
   "name": "python3"
  },
  "language_info": {
   "codemirror_mode": {
    "name": "ipython",
    "version": 3
   },
   "file_extension": ".py",
   "mimetype": "text/x-python",
   "name": "python",
   "nbconvert_exporter": "python",
   "pygments_lexer": "ipython3",
   "version": "3.10.0"
  },
  "orig_nbformat": 4
 },
 "nbformat": 4,
 "nbformat_minor": 2
}
