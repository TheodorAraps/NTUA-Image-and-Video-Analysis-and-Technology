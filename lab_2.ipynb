{
 "cells": [
  {
   "cell_type": "markdown",
   "metadata": {},
   "source": [
    "# <font color = 'white'> <div align = \"center\"> <strong> Τεχνολογία και Ανάλυση Εικόνων και Βίντεο: <br> 2η Εργαστηριακή Άσκηση </strong> </div> </font> <br>\n",
    "#### <font color = 'orange'> <div align = \"left\"> <strong> Θοδωρής Αράπης (03118028) <br> Κρις Κούτση (03118905) </strong> </div> </font> \n",
    "#### <font color = 'white'> <div align = \"left\"> <strong> 26/05/2022 </strong> </div> </font> <br>\n",
    "## <font color = 'turquoise'> <div align = \"center\"> <strong> 1. Θεωρητικό Μέρος </strong> </div> </font> <br>\n",
    "\n",
    "### <strong>β) </strong>\n",
    "#### <strong>1. </strong>\n",
    ">Η ReLU (Rectified Linear Unit) είναι μια μη γραμμική συνάρτηση ενεργοποίησης, η οποία έχει την εξής μορφή: <br><br>\n",
    ">$f(x) = max(0, x),$ όπου $x$ αποτελεί την είσοδο του νευρώνα <br><br>\n",
    ">Η συνάρτηση αυτή ουσιαστικά θα δίνει ως έξοδο την είσοδο, αν αυτή είναι θετική, αλλιώς θα δίνει ως έξοδο $0$. <br>\n",
    ">Αποτελεί μία αναλυτική συνάρτηση η οποία εμφανίζει scale invariance και υλοποιείται απλά και εύκολα, χρησιμοποιώντας μόνο συγκρίσεις, προσθέσεις και πολλαπλασιασμούς.\n",
    ">Επιπρόσθετα, όταν χρησιμοποιείται ο αλγόριθμος Gradient descent, επιτυγχάνει γρηγορότερη και κατ' επέκταση αποδοτικότερη (μιας και καθιστά δυνατή την εκπαίδευση μεγαλύτερου όγκου δεδομένων) εκπαίδευση νευρωνικών δικτύων, σε σχέση με άλλες μη γραμμικές συναρτήσεις ενεργοποίησης. Φαινόμενα overfitting και vanishing gradient problem περιορίζονται, καθώς η χρήση της ReLU έχει ως αποτέλεσμα την ενεργοποίηση περίπου 50% των νευρώνων (sparse activation) του δικτύου (οι υπόλοιποι έχουν λάβει τιμή $0$). \n",
    "\n",
    "#### <strong>2. </strong>\n",
    "\n",
    "| | <font color = 'white'> Επίπεδα δικτύου </font> | <font color = 'white'> Μέγεθος φίλτρου </font> | <font color = 'white'> Συνάρτηση ενεργοποίησης </font> | <font color = 'white'> Πλήθος παραμέτρων </font> | <font color = 'white'> Τεχνικές pooling </font> | <font color = 'white'> Τεχνικές dropout </font> |\n",
    "| --- | --- | --- | --- | --- | --- | --- | \n",
    "| <font color = 'white'> LeNet </font> | 7 <br> (2 convolutional layers, 2 subsampling (pooling) layers and 3 fully connected layers) | 5x5 kernel sized | Sigmoid | 2578 | average pooling of size 2x2 with a stride of 2 | None |\n",
    "| <font color = 'white'> AlexNet </font> | 11 <br> (5 convolutional layers, 3 subsampling (pooling) layers and 3 fully connected layers) | 11x11 and 5x5 and 3x3 kernel sized | ReLU | 60 million | max pooling of size 3x3 with a stride of 2 | dropout with rate 0.5 |\n",
    "| <font color = 'white'> VGG </font> | sequence of convolutional layers(11, 13, 16 or 19), followed by maximum pooling layers and 3 fully-connected layers | 3x3 kernel sized | ReLU, Softmax | 133-144 million | max pooling of sized 2x2 with strides of 2 | dropout with rate 0.5 |\n",
    "\n",
    "<br> <p style=\"font-size:25px\"> <b> <u> Παρατηρήσεις: </u> </b> </p>  \n",
    "\n",
    ">Αρχικά παρατηρούμε ότι το LeNet νευρωνικό δίκτυο παρουσιάζει το μικρότερο αριθμό επιπέδων καθώς και τις λιγότερες παραμέτρους σε σύγκριση με τα άλλα δύο δίκτυα. Επιπλέον, χρησιμοποιεί την σιγμοειδή (sigmoid) συνάρτηση ως συνάρτηση ενεργοποίησης, σε αντίθεση με τα άλλα δύο δίκτυα που χρησιμοποιούν την συνάρτηση ReLU, ακόμα υλοποιεί την τεχνική average-pooling έναντι της max-pooling, ενώ αποτέλει το μόνο δίκτυο που δεν χρησιμοποιεί τεχνικές dropout για την αποφυγή του overfitting. Η απλή αυτή δομή του οφείλεται στο γεγονός ότι το δίκτυο προοριζόταν να εφαρμοστεί για την κατηγοριοποίηση εικόνων σε δέκα μόνο κλάσεις (αναγνώριση ψηφίων 0 έως 9). <br>\n",
    ">Όσον αφορά το δίκτυο AlexNet, βλέπουμε ότι αυτό εφαρμόζει τα μεγαλύτερα, ως προς την διάσταση, φίλτρα συγκριτικά με τα δίκτυα LeNet και VGG, ενώ ακόμα είναι το μόνο από τα 3 δίκτυα που κάνει χρήση τριών διαφορετικών διαστάσεων φίλτρων ανά επίπεδο, μιας και λαμβάνει ως είσοδο εικόνες μεγάλων διαστάσεων (224x224 pixels). <br>\n",
    ">Τέλος, το VGG αποτελεί το βαθύτερο δίκτυο (από τα 3 Convolutional Neural Network που εξετάζουμε), καθώς διαθέτει πολλά επίπεδα και εκατομμύρια παραμέτρους. Μάλιστα στο τελευταίο επίπεδο της υλοποίσής του εφαρμόζει την συνάρτηση ενεργοποίησης Softmax (στα υπόλοιπα επίπεδα χρησιμοποιεί την συνάρτηση ReLU). Εντούτοις, λόγω της πολύπλοκης δομής του, η εκπαίδευση του δικτύου είναι αρκετά χρονοβόρα. \n",
    "\n",
    "<br> <p style=\"font-size:25px\"> <b> <u> Χαρακτηριστικά που συνέβαλαν στην σταδιακή αύξηση της ακρίβειας ταξινόμησης: </u> </b> </p> \n",
    "\n",
    ">Ένα βασικό χαρακτηριστικό που συνέβαλε στην αύξηση της ακρίβειας ταξινόμησης είναι αρχικά η εφαρμογή της ReLU. Η ReLU επιτρέπει την αύξηση της ταχύτητας εκπαίδευσης, το οποίο σημαίνει ότι στον ίδιο χρόνο μπορούμε να εκπαιδεύσουμε πιο βαθιά νευρωνικά. Επιπλέον, οδηγεί σε πιο sparse representations σε σχέση με την σιγμοειδή, κάτι το οποίο έχει διαπιστωθεί πειραματικά πως οδηγεί σε καλύτερα αποτελέσματα. Επιπρόσθετα, η πολυεπίπεδη αρχιτεκτονική των δικτύων επιτρέπει την τροφοδότηση τους απευθείας με την εικόνα και τη σταδιακή 'αποσύνθεση' της για feature extraction και στη συνέχεια classification tasks. Ακόμα, το πλήθος των παραμέτρων διατηρείται όσο το δυνατόν ελάχιστο, ώστε η εκπαίδευση τους να γίνεται γρήγορα και αξιοποιώντας τεχνολογίες GPU. <br>\n",
    ">Ένα ακόμη σημαντικό για την ακρίβεια ταξινόμησης χαρακτηριστικό είναι η χρήση του Dropout. Το dropout, αφαιρώντας ουσιαστικά τυχαίους κόμβους από την διαδικασία εκπαίδευσης κάθε φορά, έχει ως αποτέλεσμα ότι ένας νευρώνας δεν μπορεί τελικά να βασίζεται σημαντικά σε έναν άλλο, αφού οι συνδέσεις δεν είναι πάντα σταθερές, και οδηγεί τελικά σε σημαντική μείωση του overfitting, το οποίο αποτελεί ένα βασικό πρόβλημα στην εκπαίδευση νευρωνικών. <br>\n",
    ">Όσον αφορά το VGG ιδιαίτερα χρήσιμο για την βελτίωση της επίδοσης του είναι το γεγονός πως χρησιμοποιεί πολλαπλά stacked 3x3 convolutional layers αντί για ένα μεγαλύτερο π.χ. 11x11 layers, γεγονός που αντιστοιχεί σε ένα είδος regularization, ενώ επιτρέπει και την μείωση του πλήθους των παραμέτρων που πρέπει να προσδιοριστούν."
   ]
  },
  {
   "cell_type": "markdown",
   "metadata": {},
   "source": [
    "## <font color = 'turquoise'> <div align = \"center\"> <strong> 2. Εργαστηριακό Μέρος </strong> </div> </font>"
   ]
  },
  {
   "cell_type": "code",
   "execution_count": 1,
   "metadata": {},
   "outputs": [],
   "source": [
    "from __future__ import absolute_import, division, print_function, unicode_literals # legacy compatibility\n",
    "\n",
    "import numpy as np\n",
    "import pandas as pd\n",
    "import matplotlib.pyplot as plt"
   ]
  },
  {
   "cell_type": "code",
   "execution_count": 2,
   "metadata": {},
   "outputs": [],
   "source": [
    "# helper functions\n",
    "\n",
    "# select from from_list elements with index in index_list\n",
    "def select_from_list(from_list, index_list):\n",
    "  filtered_list = [from_list[i] for i in index_list]\n",
    "  return(filtered_list)\n",
    "\n",
    "# append in filtered_list the index of each element of unfilterd_list if it exists in in target_list\n",
    "def get_ds_index(unfiliterd_list, target_list):\n",
    "  index = 0\n",
    "  filtered_list = []\n",
    "  for i_ in unfiliterd_list:\n",
    "    if i_[0] in target_list:\n",
    "      filtered_list.append(index)\n",
    "    index += 1\n",
    "  return(filtered_list)\n"
   ]
  },
  {
   "cell_type": "code",
   "execution_count": 3,
   "metadata": {},
   "outputs": [],
   "source": [
    "# load the entire dataset\n",
    "import tensorflow as tf\n",
    "from tensorflow import keras\n",
    "from keras import datasets, layers, models\n",
    "\n",
    "(x_train_all, y_train_all), (x_test_all, y_test_all) = tf.keras.datasets.cifar100.load_data(label_mode='fine')"
   ]
  },
  {
   "cell_type": "code",
   "execution_count": 4,
   "metadata": {},
   "outputs": [
    {
     "name": "stdout",
     "output_type": "stream",
     "text": [
      "(50000, 32, 32, 3)\n"
     ]
    }
   ],
   "source": [
    "print(x_train_all.shape)"
   ]
  },
  {
   "cell_type": "code",
   "execution_count": 5,
   "metadata": {},
   "outputs": [],
   "source": [
    "# REPLACE WITH YOUR TEAM NUMBER\n",
    "team_seed = 22"
   ]
  },
  {
   "cell_type": "code",
   "execution_count": 6,
   "metadata": {},
   "outputs": [],
   "source": [
    "# select from CIFAR100 20 classes\n",
    "cifar100_classes_url = \"https://pastebin.com/raw/nzE1n98V\""
   ]
  },
  {
   "cell_type": "code",
   "execution_count": 7,
   "metadata": {},
   "outputs": [],
   "source": [
    "team_classes = pd.read_csv(cifar100_classes_url, sep=',', header=None)\n",
    "CIFAR100_LABELS_LIST = pd.read_csv('https://pastebin.com/raw/qgDaNggt', sep=',', header=None).astype(str).values.tolist()[0]\n",
    "\n",
    "our_index = team_classes.iloc[team_seed,:].values.tolist()\n",
    "our_classes = select_from_list(CIFAR100_LABELS_LIST, our_index)\n",
    "train_index = get_ds_index(y_train_all, our_index)\n",
    "test_index = get_ds_index(y_test_all, our_index)\n",
    "\n",
    "x_train_ds = np.asarray(select_from_list(x_train_all, train_index))\n",
    "y_train_ds = np.asarray(select_from_list(y_train_all, train_index))\n",
    "x_test_ds = np.asarray(select_from_list(x_test_all, test_index))\n",
    "y_test_ds = np.asarray(select_from_list(y_test_all, test_index))"
   ]
  },
  {
   "cell_type": "code",
   "execution_count": 8,
   "metadata": {},
   "outputs": [
    {
     "name": "stdout",
     "output_type": "stream",
     "text": [
      "[' aquarium_fish', ' bee', ' bottle', ' cattle', ' couch', ' crab', ' crocodile', ' dinosaur', ' flatfish', ' forest', ' keyboard', ' leopard', ' orange', ' road', ' spider', ' telephone', ' television', ' tiger', ' trout', ' woman']\n"
     ]
    }
   ],
   "source": [
    "# print our classes\n",
    "print(our_classes)"
   ]
  },
  {
   "cell_type": "code",
   "execution_count": 9,
   "metadata": {},
   "outputs": [
    {
     "name": "stdout",
     "output_type": "stream",
     "text": [
      "(32, 32, 3)\n"
     ]
    }
   ],
   "source": [
    "print(x_train_ds[1].shape)"
   ]
  },
  {
   "cell_type": "code",
   "execution_count": 10,
   "metadata": {},
   "outputs": [
    {
     "name": "stdout",
     "output_type": "stream",
     "text": [
      "Train: X=(8500, 32, 32, 3), y=(8500, 1)\n",
      "Validation: X=(1500, 32, 32, 3), y=(1500, 1)\n",
      "Test: X=(2000, 32, 32, 3), y=(2000, 1)\n"
     ]
    },
    {
     "data": {
      "image/png": "[encoded data removed]",
      "text/plain": [
       "<Figure size 432x432 with 9 Axes>"
      ]
     },
     "metadata": {
      "needs_background": "light"
     },
     "output_type": "display_data"
    }
   ],
   "source": [
    "# get (train) dataset dimensions\n",
    "data_size, img_rows, img_cols, img_channels = x_train_ds.shape\n",
    "\n",
    "# set validation set percentage (wrt the training set size)\n",
    "validation_percentage = 0.15\n",
    "val_size = round(validation_percentage * data_size)\n",
    "\n",
    "# Reserve val_size samples for validation and normalize all values\n",
    "x_val = x_train_ds[-val_size:]/255\n",
    "y_val = y_train_ds[-val_size:]\n",
    "x_train = x_train_ds[:-val_size]/255\n",
    "y_train = y_train_ds[:-val_size]\n",
    "x_test = x_test_ds/255\n",
    "y_test = y_test_ds\n",
    "\n",
    "# summarize loaded dataset\n",
    "print('Train: X=%s, y=%s' % (x_train.shape, y_train.shape))\n",
    "print('Validation: X=%s, y=%s' % (x_val.shape, y_val.shape))\n",
    "print('Test: X=%s, y=%s' % (x_test.shape, y_test.shape))\n",
    "\n",
    "# get class label from class index\n",
    "def class_label_from_index(fine_category):\n",
    "  return(CIFAR100_LABELS_LIST[fine_category.item(0)])\n",
    "\n",
    "# plot first few images\n",
    "plt.figure(figsize=(6, 6))\n",
    "for i in range(9):\n",
    "\t# define subplot\n",
    "  plt.subplot(330 + 1 + i).set_title(class_label_from_index(y_train[i]))\n",
    "\t# plot raw pixel data\n",
    "  plt.imshow(x_train[i], cmap=plt.get_cmap('gray'))\n",
    "  #show the figure\n",
    "plt.show()"
   ]
  },
  {
   "cell_type": "code",
   "execution_count": 11,
   "metadata": {},
   "outputs": [
    {
     "name": "stdout",
     "output_type": "stream",
     "text": [
      "[1, 6, 9, 19, 25, 26, 27, 29, 32, 33, 39, 42, 53, 68, 79, 86, 87, 88, 91, 98]\n"
     ]
    }
   ],
   "source": [
    "print(our_index)"
   ]
  },
  {
   "cell_type": "code",
   "execution_count": 12,
   "metadata": {},
   "outputs": [
    {
     "name": "stdout",
     "output_type": "stream",
     "text": [
      "8500\n"
     ]
    }
   ],
   "source": [
    "# Map Image Labels from 0 to 19\n",
    "def create_dictionary(label_ds):\n",
    "    dictionary = {}\n",
    "    i=0\n",
    "    for label in label_ds:\n",
    "        if label not in dictionary.keys():\n",
    "          dictionary[label] = i\n",
    "          i+=1\n",
    "    return dictionary\n",
    "\n",
    "def mapping(label_ds,dictionary): \n",
    "    return [dictionary[x] for x in label_ds]\n",
    "\n",
    "\n",
    "# Create Label Dict\n",
    "label_dict = create_dictionary(y_train.reshape(1,-1)[0])\n",
    "# Apply mapping\n",
    "y_train = mapping(y_train.reshape(1,-1)[0], label_dict)\n",
    "y_test = mapping(y_test.reshape(1,-1)[0], label_dict)\n",
    "y_val = mapping(y_val.reshape(1,-1)[0], label_dict)\n",
    "\n",
    "y_train = np.array([[i] for i in y_train])\n",
    "y_test = np.array([[i] for i in y_test])\n",
    "y_val = np.array([[i] for i in y_val])\n",
    "print(len(y_train.reshape(1,-1)[0]))"
   ]
  },
  {
   "cell_type": "code",
   "execution_count": 13,
   "metadata": {},
   "outputs": [],
   "source": [
    "import tensorflow_datasets as tfds\n",
    "from keras.preprocessing.image import ImageDataGenerator\n",
    "from keras.utils import to_categorical\n",
    "from keras.callbacks import EarlyStopping, ModelCheckpoint\n",
    "from keras.models import load_model\n",
    "import datetime"
   ]
  },
  {
   "cell_type": "code",
   "execution_count": 14,
   "metadata": {},
   "outputs": [],
   "source": [
    "(ds_train, ds_test), ds_info = tfds.load('cifar100', split=['train', 'test'], shuffle_files=True, as_supervised=True, with_info=True)\n",
    "assert isinstance(ds_train, tf.data.Dataset)\n",
    "assert isinstance(ds_test, tf.data.Dataset)"
   ]
  },
  {
   "cell_type": "code",
   "execution_count": 15,
   "metadata": {},
   "outputs": [],
   "source": [
    "# Function that plots learning curve of model history\n",
    "def plot_accuracy(history):\n",
    "    plt.figure(figsize=(8, 5))\n",
    "    plt.title('Classification Accuracy Curve')\n",
    "    plt.xlabel('Epochs')\n",
    "    plt.ylabel('Accuracy (%)')\n",
    "    plt.plot(history.history['accuracy'], color='blue', label='train')\n",
    "    plt.plot(history.history['val_accuracy'], color='red', label='val')\n",
    "    plt.legend(loc='upper right')\n",
    "    return plt\n",
    " \n",
    "# Function that Evaluates Model on its Accuracy\n",
    "def model_evaluation(model, eval_steps):\n",
    "    print('\\nTest set Evaluation metrics')\n",
    "    loss, accuracy = model.evaluate(x_test, y_test, steps = eval_steps)\n",
    "    print(\"Loss: {:.2f}\".format(loss))\n",
    "    print(\"Accuracy: {:.2f}\".format(accuracy))"
   ]
  },
  {
   "cell_type": "markdown",
   "metadata": {},
   "source": [
    "-------------------\n",
    "## <div align = \"center\"> <strong> Ερώτημα 1 </strong> </div> </font> <br> "
   ]
  },
  {
   "cell_type": "markdown",
   "metadata": {},
   "source": [
    "### <strong>Βήμα 1 </strong>\n",
    "#### <strong>1. </strong>\n",
    "\n",
    "<br> <span style=\"font-size:25px\"> <b> <u> LeNet </u> </b> </span > <br>\n",
    "\n",
    "><p style=\"font-size:22px;\"> Εκπαιδεύουμε 2 νευρωνικά με τις εξής παραμέτρους: \n",
    "><p style=\"font-size:20px;\"> <b> <u> Περίπτωση 1: </u> </b> </p>\n",
    "><p style=\"font-size:18px;\"> &#8226; <b> optimizer: </b> adam <br>\n",
    "                            >&#8226; <b> loss: </b> sparse_categorical_crossentropy <br>\n",
    "                            >&#8226; <b> Batch size: </b> 128 <br>\n",
    "                            >&#8226; <b> Epochs: </b> 30 <br> </p> \n",
    "><p style=\"font-size:20px;\"> <b> <u> Περίπτωση 2: </u> </b> </p>\n",
    "><p style=\"font-size:18px;\"> &#8226; <b> optimizer: </b> sgd <br>\n",
    "                            >&#8226; <b> loss: </b> sparse_categorical_crossentropy <br>\n",
    "                            >&#8226; <b> Batch size: </b> 256 <br>\n",
    "                            >&#8226; <b> Epochs: </b> 50 <br> </p> "
   ]
  },
  {
   "cell_type": "code",
   "execution_count": 16,
   "metadata": {},
   "outputs": [],
   "source": [
    "#CONV(32, 3), RELU, AVG_POOL(2), CONV(32,3), RELU, AVG_POOL(2), FC(512), RELU, FC(200),SOFTMAX\n",
    "def LeNet_model_compile(combination = 1):\n",
    "  \n",
    "    if combination == 1:\n",
    "        optimizer = 'adam'\n",
    "        loss = tf.keras.losses.sparse_categorical_crossentropy\n",
    "    else:\n",
    "        optimizer = 'sgd'\n",
    "        loss = tf.keras.losses.sparse_categorical_crossentropy\n",
    "\n",
    "    model = models.Sequential()\n",
    "    model.add(layers.Conv2D(32, (3, 3), activation='sigmoid', input_shape=(32, 32, 3)))\n",
    "    model.add(layers.AveragePooling2D((2, 2)))\n",
    "    model.add(layers.Conv2D(32, (3, 3), activation='sigmoid'))\n",
    "    model.add(layers.AveragePooling2D((2, 2)))\n",
    "    model.add(layers.Flatten())\n",
    "    model.add(layers.Dense(120, activation='sigmoid'))\n",
    "    model.add(layers.Dense(84, activation='sigmoid'))\n",
    "    model.add(layers.Dense(20, activation='softmax'))\n",
    "    model.compile(optimizer=optimizer, loss=loss, metrics=[\"accuracy\"])\n",
    "    model.summary()\n",
    "    return model"
   ]
  },
  {
   "cell_type": "markdown",
   "metadata": {},
   "source": [
    "### <strong> Περίπτωση 1 </strong>\n",
    "#### <strong> <font color = 'turquoise'> Compile </font> </strong>"
   ]
  },
  {
   "cell_type": "code",
   "execution_count": 17,
   "metadata": {},
   "outputs": [
    {
     "name": "stdout",
     "output_type": "stream",
     "text": [
      "Model: \"sequential\"\n",
      "_________________________________________________________________\n",
      " Layer (type)                Output Shape              Param #   \n",
      "=================================================================\n",
      " conv2d (Conv2D)             (None, 30, 30, 32)        896       \n",
      "                                                                 \n",
      " average_pooling2d (AverageP  (None, 15, 15, 32)       0         \n",
      " ooling2D)                                                       \n",
      "                                                                 \n",
      " conv2d_1 (Conv2D)           (None, 13, 13, 32)        9248      \n",
      "                                                                 \n",
      " average_pooling2d_1 (Averag  (None, 6, 6, 32)         0         \n",
      " ePooling2D)                                                     \n",
      "                                                                 \n",
      " flatten (Flatten)           (None, 1152)              0         \n",
      "                                                                 \n",
      " dense (Dense)               (None, 120)               138360    \n",
      "                                                                 \n",
      " dense_1 (Dense)             (None, 84)                10164     \n",
      "                                                                 \n",
      " dense_2 (Dense)             (None, 20)                1700      \n",
      "                                                                 \n",
      "=================================================================\n",
      "Total params: 160,368\n",
      "Trainable params: 160,368\n",
      "Non-trainable params: 0\n",
      "_________________________________________________________________\n"
     ]
    }
   ],
   "source": [
    "LeNet1 = LeNet_model_compile(1)"
   ]
  },
  {
   "cell_type": "markdown",
   "metadata": {},
   "source": [
    "#### <strong> <font color = 'turquoise'> Training </font> </strong>"
   ]
  },
  {
   "cell_type": "code",
   "execution_count": 18,
   "metadata": {},
   "outputs": [
    {
     "name": "stdout",
     "output_type": "stream",
     "text": [
      "Epoch 1/30\n",
      "67/67 [==============================] - 3s 46ms/step - loss: 3.0127 - accuracy: 0.0513 - val_loss: 2.9950 - val_accuracy: 0.0527\n",
      "Epoch 2/30\n",
      "67/67 [==============================] - 3s 42ms/step - loss: 3.0029 - accuracy: 0.0476 - val_loss: 3.0016 - val_accuracy: 0.0480\n",
      "Epoch 3/30\n",
      "67/67 [==============================] - 3s 42ms/step - loss: 3.0020 - accuracy: 0.0480 - val_loss: 2.9963 - val_accuracy: 0.0560\n",
      "Epoch 4/30\n",
      "67/67 [==============================] - 3s 43ms/step - loss: 3.0019 - accuracy: 0.0499 - val_loss: 3.0051 - val_accuracy: 0.0400\n",
      "Epoch 5/30\n",
      "67/67 [==============================] - 3s 42ms/step - loss: 3.0034 - accuracy: 0.0482 - val_loss: 2.9969 - val_accuracy: 0.0527\n",
      "Epoch 6/30\n",
      "67/67 [==============================] - 3s 43ms/step - loss: 3.0019 - accuracy: 0.0488 - val_loss: 2.9999 - val_accuracy: 0.0480\n",
      "Epoch 7/30\n",
      "67/67 [==============================] - 3s 43ms/step - loss: 3.0014 - accuracy: 0.0499 - val_loss: 3.0030 - val_accuracy: 0.0460\n",
      "Epoch 8/30\n",
      "67/67 [==============================] - 3s 43ms/step - loss: 2.9932 - accuracy: 0.0551 - val_loss: 2.9505 - val_accuracy: 0.0807\n",
      "Epoch 9/30\n",
      "67/67 [==============================] - 3s 42ms/step - loss: 2.8505 - accuracy: 0.1216 - val_loss: 2.7462 - val_accuracy: 0.1847\n",
      "Epoch 10/30\n",
      "67/67 [==============================] - 3s 42ms/step - loss: 2.7003 - accuracy: 0.1806 - val_loss: 2.6306 - val_accuracy: 0.1933\n",
      "Epoch 11/30\n",
      "67/67 [==============================] - 3s 42ms/step - loss: 2.6119 - accuracy: 0.2061 - val_loss: 2.5449 - val_accuracy: 0.2200\n",
      "Epoch 12/30\n",
      "67/67 [==============================] - 3s 42ms/step - loss: 2.5512 - accuracy: 0.2219 - val_loss: 2.5553 - val_accuracy: 0.2193\n",
      "Epoch 13/30\n",
      "67/67 [==============================] - 3s 43ms/step - loss: 2.5021 - accuracy: 0.2415 - val_loss: 2.4591 - val_accuracy: 0.2533\n",
      "Epoch 14/30\n",
      "67/67 [==============================] - 3s 46ms/step - loss: 2.4574 - accuracy: 0.2532 - val_loss: 2.4193 - val_accuracy: 0.2753\n",
      "Epoch 15/30\n",
      "67/67 [==============================] - 3s 44ms/step - loss: 2.4137 - accuracy: 0.2728 - val_loss: 2.3983 - val_accuracy: 0.2793\n",
      "Epoch 16/30\n",
      "67/67 [==============================] - 3s 43ms/step - loss: 2.3717 - accuracy: 0.2862 - val_loss: 2.3490 - val_accuracy: 0.3067\n",
      "Epoch 17/30\n",
      "67/67 [==============================] - 3s 42ms/step - loss: 2.3261 - accuracy: 0.3000 - val_loss: 2.3233 - val_accuracy: 0.3127\n",
      "Epoch 18/30\n",
      "67/67 [==============================] - 3s 42ms/step - loss: 2.2912 - accuracy: 0.3112 - val_loss: 2.2814 - val_accuracy: 0.3180\n",
      "Epoch 19/30\n",
      "67/67 [==============================] - 3s 44ms/step - loss: 2.2542 - accuracy: 0.3251 - val_loss: 2.2652 - val_accuracy: 0.3313\n",
      "Epoch 20/30\n",
      "67/67 [==============================] - 3s 43ms/step - loss: 2.2219 - accuracy: 0.3324 - val_loss: 2.2554 - val_accuracy: 0.3220\n",
      "Epoch 21/30\n",
      "67/67 [==============================] - 3s 42ms/step - loss: 2.1941 - accuracy: 0.3396 - val_loss: 2.2289 - val_accuracy: 0.3347\n",
      "Epoch 22/30\n",
      "67/67 [==============================] - 3s 42ms/step - loss: 2.1666 - accuracy: 0.3454 - val_loss: 2.2076 - val_accuracy: 0.3347\n",
      "Epoch 23/30\n",
      "67/67 [==============================] - 3s 42ms/step - loss: 2.1442 - accuracy: 0.3514 - val_loss: 2.1987 - val_accuracy: 0.3487\n",
      "Epoch 24/30\n",
      "67/67 [==============================] - 3s 42ms/step - loss: 2.1176 - accuracy: 0.3604 - val_loss: 2.1806 - val_accuracy: 0.3367\n",
      "Epoch 25/30\n",
      "67/67 [==============================] - 3s 42ms/step - loss: 2.0988 - accuracy: 0.3647 - val_loss: 2.1801 - val_accuracy: 0.3367\n",
      "Epoch 26/30\n",
      "67/67 [==============================] - 3s 42ms/step - loss: 2.0743 - accuracy: 0.3733 - val_loss: 2.1570 - val_accuracy: 0.3487\n",
      "Epoch 27/30\n",
      "67/67 [==============================] - 3s 42ms/step - loss: 2.0526 - accuracy: 0.3733 - val_loss: 2.1463 - val_accuracy: 0.3553\n",
      "Epoch 28/30\n",
      "67/67 [==============================] - 3s 42ms/step - loss: 2.0323 - accuracy: 0.3839 - val_loss: 2.1422 - val_accuracy: 0.3607\n",
      "Epoch 29/30\n",
      "67/67 [==============================] - 3s 42ms/step - loss: 2.0159 - accuracy: 0.3886 - val_loss: 2.1256 - val_accuracy: 0.3587\n",
      "Epoch 30/30\n",
      "67/67 [==============================] - 3s 42ms/step - loss: 1.9961 - accuracy: 0.3942 - val_loss: 2.1219 - val_accuracy: 0.3533\n"
     ]
    }
   ],
   "source": [
    "model_history1 = LeNet1.fit(x_train, y_train, epochs=30, batch_size=128, validation_data=(x_val, y_val)) # 30 epochs\n",
    "LeNet1.save('lenet1.h5')"
   ]
  },
  {
   "cell_type": "markdown",
   "metadata": {},
   "source": [
    "### <strong> Περίπτωση 2 </strong>\n",
    "#### <strong> <font color = 'turquoise'> Compile </font> </strong>"
   ]
  },
  {
   "cell_type": "code",
   "execution_count": 19,
   "metadata": {},
   "outputs": [
    {
     "name": "stdout",
     "output_type": "stream",
     "text": [
      "Model: \"sequential_1\"\n",
      "_________________________________________________________________\n",
      " Layer (type)                Output Shape              Param #   \n",
      "=================================================================\n",
      " conv2d_2 (Conv2D)           (None, 30, 30, 32)        896       \n",
      "                                                                 \n",
      " average_pooling2d_2 (Averag  (None, 15, 15, 32)       0         \n",
      " ePooling2D)                                                     \n",
      "                                                                 \n",
      " conv2d_3 (Conv2D)           (None, 13, 13, 32)        9248      \n",
      "                                                                 \n",
      " average_pooling2d_3 (Averag  (None, 6, 6, 32)         0         \n",
      " ePooling2D)                                                     \n",
      "                                                                 \n",
      " flatten_1 (Flatten)         (None, 1152)              0         \n",
      "                                                                 \n",
      " dense_3 (Dense)             (None, 120)               138360    \n",
      "                                                                 \n",
      " dense_4 (Dense)             (None, 84)                10164     \n",
      "                                                                 \n",
      " dense_5 (Dense)             (None, 20)                1700      \n",
      "                                                                 \n",
      "=================================================================\n",
      "Total params: 160,368\n",
      "Trainable params: 160,368\n",
      "Non-trainable params: 0\n",
      "_________________________________________________________________\n"
     ]
    }
   ],
   "source": [
    "LeNet2 = LeNet_model_compile(2)"
   ]
  },
  {
   "cell_type": "markdown",
   "metadata": {},
   "source": [
    "#### <strong> <font color = 'turquoise'> Training </font> </strong>"
   ]
  },
  {
   "cell_type": "code",
   "execution_count": 20,
   "metadata": {},
   "outputs": [
    {
     "name": "stdout",
     "output_type": "stream",
     "text": [
      "Epoch 1/50\n",
      "34/34 [==============================] - 3s 75ms/step - loss: 3.1149 - accuracy: 0.0506 - val_loss: 3.0831 - val_accuracy: 0.0467\n",
      "Epoch 2/50\n",
      "34/34 [==============================] - 2s 72ms/step - loss: 3.0490 - accuracy: 0.0506 - val_loss: 3.0387 - val_accuracy: 0.0467\n",
      "Epoch 3/50\n",
      "34/34 [==============================] - 2s 72ms/step - loss: 3.0201 - accuracy: 0.0506 - val_loss: 3.0177 - val_accuracy: 0.0467\n",
      "Epoch 4/50\n",
      "34/34 [==============================] - 2s 71ms/step - loss: 3.0068 - accuracy: 0.0506 - val_loss: 3.0076 - val_accuracy: 0.0467\n",
      "Epoch 5/50\n",
      "34/34 [==============================] - 2s 73ms/step - loss: 3.0007 - accuracy: 0.0506 - val_loss: 3.0030 - val_accuracy: 0.0467\n",
      "Epoch 6/50\n",
      "34/34 [==============================] - 3s 74ms/step - loss: 2.9981 - accuracy: 0.0506 - val_loss: 3.0007 - val_accuracy: 0.0480\n",
      "Epoch 7/50\n",
      "34/34 [==============================] - 2s 73ms/step - loss: 2.9969 - accuracy: 0.0498 - val_loss: 3.0000 - val_accuracy: 0.0373\n",
      "Epoch 8/50\n",
      "34/34 [==============================] - 2s 72ms/step - loss: 2.9965 - accuracy: 0.0522 - val_loss: 2.9992 - val_accuracy: 0.0373\n",
      "Epoch 9/50\n",
      "34/34 [==============================] - 2s 73ms/step - loss: 2.9963 - accuracy: 0.0511 - val_loss: 2.9988 - val_accuracy: 0.0373\n",
      "Epoch 10/50\n",
      "34/34 [==============================] - 2s 71ms/step - loss: 2.9961 - accuracy: 0.0514 - val_loss: 2.9987 - val_accuracy: 0.0373\n",
      "Epoch 11/50\n",
      "34/34 [==============================] - 2s 72ms/step - loss: 2.9961 - accuracy: 0.0522 - val_loss: 2.9985 - val_accuracy: 0.0373\n",
      "Epoch 12/50\n",
      "34/34 [==============================] - 2s 72ms/step - loss: 2.9961 - accuracy: 0.0518 - val_loss: 2.9982 - val_accuracy: 0.0373\n",
      "Epoch 13/50\n",
      "34/34 [==============================] - 2s 71ms/step - loss: 2.9961 - accuracy: 0.0499 - val_loss: 2.9977 - val_accuracy: 0.0373\n",
      "Epoch 14/50\n",
      "34/34 [==============================] - 2s 71ms/step - loss: 2.9961 - accuracy: 0.0522 - val_loss: 2.9983 - val_accuracy: 0.0373\n",
      "Epoch 15/50\n",
      "34/34 [==============================] - 2s 72ms/step - loss: 2.9960 - accuracy: 0.0522 - val_loss: 2.9985 - val_accuracy: 0.0393\n",
      "Epoch 16/50\n",
      "34/34 [==============================] - 2s 73ms/step - loss: 2.9961 - accuracy: 0.0504 - val_loss: 2.9984 - val_accuracy: 0.0373\n",
      "Epoch 17/50\n",
      "34/34 [==============================] - 2s 72ms/step - loss: 2.9961 - accuracy: 0.0496 - val_loss: 2.9984 - val_accuracy: 0.0373\n",
      "Epoch 18/50\n",
      "34/34 [==============================] - 2s 73ms/step - loss: 2.9961 - accuracy: 0.0521 - val_loss: 2.9983 - val_accuracy: 0.0373\n",
      "Epoch 19/50\n",
      "34/34 [==============================] - 2s 72ms/step - loss: 2.9961 - accuracy: 0.0522 - val_loss: 2.9982 - val_accuracy: 0.0373\n",
      "Epoch 20/50\n",
      "34/34 [==============================] - 2s 72ms/step - loss: 2.9960 - accuracy: 0.0506 - val_loss: 2.9981 - val_accuracy: 0.0373\n",
      "Epoch 21/50\n",
      "34/34 [==============================] - 2s 72ms/step - loss: 2.9961 - accuracy: 0.0511 - val_loss: 2.9982 - val_accuracy: 0.0380\n",
      "Epoch 22/50\n",
      "34/34 [==============================] - 2s 72ms/step - loss: 2.9961 - accuracy: 0.0485 - val_loss: 2.9978 - val_accuracy: 0.0373\n",
      "Epoch 23/50\n",
      "34/34 [==============================] - 3s 76ms/step - loss: 2.9961 - accuracy: 0.0485 - val_loss: 2.9979 - val_accuracy: 0.0400\n",
      "Epoch 24/50\n",
      "34/34 [==============================] - 2s 70ms/step - loss: 2.9961 - accuracy: 0.0475 - val_loss: 2.9985 - val_accuracy: 0.0400\n",
      "Epoch 25/50\n",
      "34/34 [==============================] - 2s 71ms/step - loss: 2.9961 - accuracy: 0.0515 - val_loss: 2.9983 - val_accuracy: 0.0373\n",
      "Epoch 26/50\n",
      "34/34 [==============================] - 3s 80ms/step - loss: 2.9961 - accuracy: 0.0498 - val_loss: 2.9984 - val_accuracy: 0.0373\n",
      "Epoch 27/50\n",
      "34/34 [==============================] - 3s 82ms/step - loss: 2.9961 - accuracy: 0.0509 - val_loss: 2.9985 - val_accuracy: 0.0373\n",
      "Epoch 28/50\n",
      "34/34 [==============================] - 3s 78ms/step - loss: 2.9961 - accuracy: 0.0499 - val_loss: 2.9983 - val_accuracy: 0.0267\n",
      "Epoch 29/50\n",
      "34/34 [==============================] - 3s 85ms/step - loss: 2.9960 - accuracy: 0.0509 - val_loss: 2.9983 - val_accuracy: 0.0400\n",
      "Epoch 30/50\n",
      "34/34 [==============================] - 3s 80ms/step - loss: 2.9961 - accuracy: 0.0511 - val_loss: 2.9984 - val_accuracy: 0.0400\n",
      "Epoch 31/50\n",
      "34/34 [==============================] - 3s 78ms/step - loss: 2.9961 - accuracy: 0.0501 - val_loss: 2.9983 - val_accuracy: 0.0400\n",
      "Epoch 32/50\n",
      "34/34 [==============================] - 3s 77ms/step - loss: 2.9961 - accuracy: 0.0511 - val_loss: 2.9988 - val_accuracy: 0.0400\n",
      "Epoch 33/50\n",
      "34/34 [==============================] - 3s 77ms/step - loss: 2.9961 - accuracy: 0.0509 - val_loss: 2.9985 - val_accuracy: 0.0400\n",
      "Epoch 34/50\n",
      "34/34 [==============================] - 3s 77ms/step - loss: 2.9961 - accuracy: 0.0509 - val_loss: 2.9987 - val_accuracy: 0.0373\n",
      "Epoch 35/50\n",
      "34/34 [==============================] - 3s 76ms/step - loss: 2.9961 - accuracy: 0.0522 - val_loss: 2.9984 - val_accuracy: 0.0373\n",
      "Epoch 36/50\n",
      "34/34 [==============================] - 3s 76ms/step - loss: 2.9960 - accuracy: 0.0507 - val_loss: 2.9984 - val_accuracy: 0.0373\n",
      "Epoch 37/50\n",
      "34/34 [==============================] - 3s 78ms/step - loss: 2.9960 - accuracy: 0.0522 - val_loss: 2.9982 - val_accuracy: 0.0373\n",
      "Epoch 38/50\n",
      "34/34 [==============================] - 3s 76ms/step - loss: 2.9960 - accuracy: 0.0522 - val_loss: 2.9979 - val_accuracy: 0.0373\n",
      "Epoch 39/50\n",
      "34/34 [==============================] - 3s 82ms/step - loss: 2.9960 - accuracy: 0.0522 - val_loss: 2.9977 - val_accuracy: 0.0373\n",
      "Epoch 40/50\n",
      "34/34 [==============================] - 3s 80ms/step - loss: 2.9961 - accuracy: 0.0519 - val_loss: 2.9981 - val_accuracy: 0.0373\n",
      "Epoch 41/50\n",
      "34/34 [==============================] - 3s 77ms/step - loss: 2.9961 - accuracy: 0.0522 - val_loss: 2.9979 - val_accuracy: 0.0373\n",
      "Epoch 42/50\n",
      "34/34 [==============================] - 3s 78ms/step - loss: 2.9961 - accuracy: 0.0496 - val_loss: 2.9984 - val_accuracy: 0.0373\n",
      "Epoch 43/50\n",
      "34/34 [==============================] - 3s 76ms/step - loss: 2.9961 - accuracy: 0.0522 - val_loss: 2.9983 - val_accuracy: 0.0373\n",
      "Epoch 44/50\n",
      "34/34 [==============================] - 3s 77ms/step - loss: 2.9961 - accuracy: 0.0522 - val_loss: 2.9982 - val_accuracy: 0.0373\n",
      "Epoch 45/50\n",
      "34/34 [==============================] - 3s 76ms/step - loss: 2.9960 - accuracy: 0.0502 - val_loss: 2.9984 - val_accuracy: 0.0373\n",
      "Epoch 46/50\n",
      "34/34 [==============================] - 3s 76ms/step - loss: 2.9961 - accuracy: 0.0500 - val_loss: 2.9988 - val_accuracy: 0.0373\n",
      "Epoch 47/50\n",
      "34/34 [==============================] - 3s 78ms/step - loss: 2.9960 - accuracy: 0.0522 - val_loss: 2.9983 - val_accuracy: 0.0373\n",
      "Epoch 48/50\n",
      "34/34 [==============================] - 3s 76ms/step - loss: 2.9961 - accuracy: 0.0496 - val_loss: 2.9982 - val_accuracy: 0.0373\n",
      "Epoch 49/50\n",
      "34/34 [==============================] - 3s 81ms/step - loss: 2.9961 - accuracy: 0.0508 - val_loss: 2.9980 - val_accuracy: 0.0373\n",
      "Epoch 50/50\n",
      "34/34 [==============================] - 3s 80ms/step - loss: 2.9961 - accuracy: 0.0522 - val_loss: 2.9982 - val_accuracy: 0.0373\n"
     ]
    }
   ],
   "source": [
    "model_history2 = LeNet2.fit(x_train, y_train, epochs=50, batch_size=256, validation_data=(x_val, y_val)) # 50 epochs\n",
    "LeNet2.save('lenet2.h5')"
   ]
  },
  {
   "cell_type": "markdown",
   "metadata": {},
   "source": [
    "<br> <span style=\"font-size:25px\"> <b> <u> AlexNet </u> </b> </span > <br>\n",
    "\n",
    "><p style=\"font-size:22px;\"> Εκπαιδεύουμε 2 νευρωνικά με τις εξής παραμέτρους: \n",
    "><p style=\"font-size:20px;\"> <b> <u> Περίπτωση 1: </u> </b> </p>\n",
    "><p style=\"font-size:18px;\"> &#8226; <b> optimizer: </b> adam <br>\n",
    "                            >&#8226; <b> loss: </b> sparse_categorical_crossentropy <br>\n",
    "                            >&#8226; <b> Batch size: </b> 256 <br>\n",
    "                            >&#8226; <b> Epochs: </b> 20 <br> </p> \n",
    "><p style=\"font-size:20px;\"> <b> <u> Περίπτωση 2: </u> </b> </p>\n",
    "><p style=\"font-size:18px;\"> &#8226; <b> optimizer: </b> sgd <br>\n",
    "                            >&#8226; <b> loss: </b> sparse_categorical_crossentropy <br>\n",
    "                            >&#8226; <b> Batch size: </b> 64 <br>\n",
    "                            >&#8226; <b> Epochs: </b> 30 <br> </p> "
   ]
  },
  {
   "cell_type": "code",
   "execution_count": 21,
   "metadata": {},
   "outputs": [],
   "source": [
    "def AlexNet_model_compile(combination = 1):\n",
    "  \n",
    "    if combination == 1:\n",
    "        optimizer = 'adam'\n",
    "        loss = tf.keras.losses.sparse_categorical_crossentropy\n",
    "    else:\n",
    "        optimizer = 'sgd'\n",
    "        loss = tf.keras.losses.sparse_categorical_crossentropy\n",
    "  \n",
    "    model = models.Sequential()\n",
    "    model.add(keras.layers.experimental.preprocessing.Resizing(224, 224, interpolation=\"bilinear\", input_shape=x_train.shape[1:]))\n",
    "    model.add(layers.Conv2D(96, 11, strides=4, padding='same'))\n",
    "    model.add(tf.keras.layers.BatchNormalization(momentum=0.8))\n",
    "    model.add(layers.Lambda(tf.nn.local_response_normalization))\n",
    "    model.add(layers.Activation('relu'))\n",
    "    model.add(layers.MaxPooling2D(3, strides=2))\n",
    "    model.add(layers.Conv2D(256, 5, strides=4, padding='same'))\n",
    "    model.add(tf.keras.layers.BatchNormalization(momentum=0.8))\n",
    "    model.add(layers.Lambda(tf.nn.local_response_normalization))\n",
    "    model.add(layers.Activation('relu'))\n",
    "    model.add(layers.MaxPooling2D(3, strides=2))\n",
    "    model.add(layers.Conv2D(384, 3, strides=4, padding='same'))\n",
    "    model.add(tf.keras.layers.BatchNormalization(momentum=0.8))\n",
    "    model.add(layers.Activation('relu'))\n",
    "    model.add(layers.Conv2D(384, 3, strides=4, padding='same'))\n",
    "    model.add(tf.keras.layers.BatchNormalization(momentum=0.8))\n",
    "    model.add(layers.Activation('relu'))\n",
    "    model.add(layers.Conv2D(256, 3, strides=4, padding='same'))\n",
    "    model.add(tf.keras.layers.BatchNormalization(momentum=0.8))\n",
    "    model.add(layers.Activation('relu'))\n",
    "    model.add(layers.Flatten())\n",
    "    model.add(layers.Dense(4096, activation='relu'))\n",
    "    model.add(layers.Dropout(0.5))\n",
    "    model.add(layers.Dense(4096, activation='relu'))\n",
    "    model.add(layers.Dropout(0.5))\n",
    "    model.add(layers.Dense(20, activation='softmax'))\n",
    "\n",
    "    model.compile(optimizer=optimizer, loss=loss, metrics=['accuracy'])\n",
    "\n",
    "    model.summary()\n",
    "    return model"
   ]
  },
  {
   "cell_type": "markdown",
   "metadata": {},
   "source": [
    "### <strong> Περίπτωση 1 </strong>\n",
    "#### <strong> <font color = 'turquoise'> Compile </font> </strong>"
   ]
  },
  {
   "cell_type": "code",
   "execution_count": 22,
   "metadata": {},
   "outputs": [
    {
     "name": "stdout",
     "output_type": "stream",
     "text": [
      "Model: \"sequential_2\"\n",
      "_________________________________________________________________\n",
      " Layer (type)                Output Shape              Param #   \n",
      "=================================================================\n",
      " resizing (Resizing)         (None, 224, 224, 3)       0         \n",
      "                                                                 \n",
      " conv2d_4 (Conv2D)           (None, 56, 56, 96)        34944     \n",
      "                                                                 \n",
      " batch_normalization (BatchN  (None, 56, 56, 96)       384       \n",
      " ormalization)                                                   \n",
      "                                                                 \n",
      " lambda (Lambda)             (None, 56, 56, 96)        0         \n",
      "                                                                 \n",
      " activation (Activation)     (None, 56, 56, 96)        0         \n",
      "                                                                 \n",
      " max_pooling2d (MaxPooling2D  (None, 27, 27, 96)       0         \n",
      " )                                                               \n",
      "                                                                 \n",
      " conv2d_5 (Conv2D)           (None, 7, 7, 256)         614656    \n",
      "                                                                 \n",
      " batch_normalization_1 (Batc  (None, 7, 7, 256)        1024      \n",
      " hNormalization)                                                 \n",
      "                                                                 \n",
      " lambda_1 (Lambda)           (None, 7, 7, 256)         0         \n",
      "                                                                 \n",
      " activation_1 (Activation)   (None, 7, 7, 256)         0         \n",
      "                                                                 \n",
      " max_pooling2d_1 (MaxPooling  (None, 3, 3, 256)        0         \n",
      " 2D)                                                             \n",
      "                                                                 \n",
      " conv2d_6 (Conv2D)           (None, 1, 1, 384)         885120    \n",
      "                                                                 \n",
      " batch_normalization_2 (Batc  (None, 1, 1, 384)        1536      \n",
      " hNormalization)                                                 \n",
      "                                                                 \n",
      " activation_2 (Activation)   (None, 1, 1, 384)         0         \n",
      "                                                                 \n",
      " conv2d_7 (Conv2D)           (None, 1, 1, 384)         1327488   \n",
      "                                                                 \n",
      " batch_normalization_3 (Batc  (None, 1, 1, 384)        1536      \n",
      " hNormalization)                                                 \n",
      "                                                                 \n",
      " activation_3 (Activation)   (None, 1, 1, 384)         0         \n",
      "                                                                 \n",
      " conv2d_8 (Conv2D)           (None, 1, 1, 256)         884992    \n",
      "                                                                 \n",
      " batch_normalization_4 (Batc  (None, 1, 1, 256)        1024      \n",
      " hNormalization)                                                 \n",
      "                                                                 \n",
      " activation_4 (Activation)   (None, 1, 1, 256)         0         \n",
      "                                                                 \n",
      " flatten_2 (Flatten)         (None, 256)               0         \n",
      "                                                                 \n",
      " dense_6 (Dense)             (None, 4096)              1052672   \n",
      "                                                                 \n",
      " dropout (Dropout)           (None, 4096)              0         \n",
      "                                                                 \n",
      " dense_7 (Dense)             (None, 4096)              16781312  \n",
      "                                                                 \n",
      " dropout_1 (Dropout)         (None, 4096)              0         \n",
      "                                                                 \n",
      " dense_8 (Dense)             (None, 20)                81940     \n",
      "                                                                 \n",
      "=================================================================\n",
      "Total params: 21,668,628\n",
      "Trainable params: 21,665,876\n",
      "Non-trainable params: 2,752\n",
      "_________________________________________________________________\n"
     ]
    }
   ],
   "source": [
    "AlexNet1 = AlexNet_model_compile(1)"
   ]
  },
  {
   "cell_type": "markdown",
   "metadata": {},
   "source": [
    "#### <strong> <font color = 'turquoise'> Training </font> </strong>"
   ]
  },
  {
   "cell_type": "code",
   "execution_count": 23,
   "metadata": {},
   "outputs": [
    {
     "name": "stdout",
     "output_type": "stream",
     "text": [
      "Epoch 1/20\n",
      "34/34 [==============================] - 99s 3s/step - loss: 2.4716 - accuracy: 0.2559 - val_loss: 3.5419 - val_accuracy: 0.1327\n",
      "Epoch 2/20\n",
      "34/34 [==============================] - 97s 3s/step - loss: 1.8995 - accuracy: 0.4194 - val_loss: 2.0858 - val_accuracy: 0.3867\n",
      "Epoch 3/20\n",
      "34/34 [==============================] - 114s 3s/step - loss: 1.5950 - accuracy: 0.5158 - val_loss: 2.3736 - val_accuracy: 0.3760\n",
      "Epoch 4/20\n",
      "34/34 [==============================] - 110s 3s/step - loss: 1.3547 - accuracy: 0.5852 - val_loss: 1.8678 - val_accuracy: 0.4487\n",
      "Epoch 5/20\n",
      "34/34 [==============================] - 106s 3s/step - loss: 1.1898 - accuracy: 0.6404 - val_loss: 2.0638 - val_accuracy: 0.4627\n",
      "Epoch 6/20\n",
      "34/34 [==============================] - 116s 3s/step - loss: 0.9881 - accuracy: 0.7034 - val_loss: 1.8495 - val_accuracy: 0.5107\n",
      "Epoch 7/20\n",
      "34/34 [==============================] - 98s 3s/step - loss: 0.8698 - accuracy: 0.7418 - val_loss: 2.4588 - val_accuracy: 0.4053\n",
      "Epoch 8/20\n",
      "34/34 [==============================] - 97s 3s/step - loss: 0.7337 - accuracy: 0.7793 - val_loss: 2.0844 - val_accuracy: 0.5060\n",
      "Epoch 9/20\n",
      "34/34 [==============================] - 97s 3s/step - loss: 0.6257 - accuracy: 0.8135 - val_loss: 1.9123 - val_accuracy: 0.5400\n",
      "Epoch 10/20\n",
      "34/34 [==============================] - 96s 3s/step - loss: 0.4884 - accuracy: 0.8539 - val_loss: 1.9734 - val_accuracy: 0.5460\n",
      "Epoch 11/20\n",
      "34/34 [==============================] - 93s 3s/step - loss: 0.4206 - accuracy: 0.8682 - val_loss: 3.8801 - val_accuracy: 0.3813\n",
      "Epoch 12/20\n",
      "34/34 [==============================] - 93s 3s/step - loss: 0.4552 - accuracy: 0.8614 - val_loss: 2.5567 - val_accuracy: 0.4927\n",
      "Epoch 13/20\n",
      "34/34 [==============================] - 93s 3s/step - loss: 0.3605 - accuracy: 0.8904 - val_loss: 3.9009 - val_accuracy: 0.3793\n",
      "Epoch 14/20\n",
      "34/34 [==============================] - 93s 3s/step - loss: 0.3253 - accuracy: 0.9029 - val_loss: 1.9833 - val_accuracy: 0.5787\n",
      "Epoch 15/20\n",
      "34/34 [==============================] - 93s 3s/step - loss: 0.2000 - accuracy: 0.9365 - val_loss: 2.6306 - val_accuracy: 0.5467\n",
      "Epoch 16/20\n",
      "34/34 [==============================] - 94s 3s/step - loss: 0.2790 - accuracy: 0.9147 - val_loss: 2.4183 - val_accuracy: 0.5547\n",
      "Epoch 17/20\n",
      "34/34 [==============================] - 95s 3s/step - loss: 0.2246 - accuracy: 0.9308 - val_loss: 2.3707 - val_accuracy: 0.5647\n",
      "Epoch 18/20\n",
      "34/34 [==============================] - 92s 3s/step - loss: 0.1990 - accuracy: 0.9400 - val_loss: 2.5309 - val_accuracy: 0.5560\n",
      "Epoch 19/20\n",
      "34/34 [==============================] - 92s 3s/step - loss: 0.1280 - accuracy: 0.9604 - val_loss: 3.1610 - val_accuracy: 0.5607\n",
      "Epoch 20/20\n",
      "34/34 [==============================] - 93s 3s/step - loss: 0.1924 - accuracy: 0.9444 - val_loss: 2.8314 - val_accuracy: 0.5193\n"
     ]
    }
   ],
   "source": [
    "model_history3 = AlexNet1.fit(x_train, y_train,  epochs=20, batch_size=256, validation_data=(x_val, y_val)) # 15 epochs\n",
    "AlexNet1.save('alexnet1.h5')"
   ]
  },
  {
   "cell_type": "markdown",
   "metadata": {},
   "source": [
    "### <strong> Περίπτωση 2 </strong>\n",
    "#### <strong> <font color = 'turquoise'> Compile </font> </strong>"
   ]
  },
  {
   "cell_type": "code",
   "execution_count": 24,
   "metadata": {},
   "outputs": [
    {
     "name": "stdout",
     "output_type": "stream",
     "text": [
      "Model: \"sequential_3\"\n",
      "_________________________________________________________________\n",
      " Layer (type)                Output Shape              Param #   \n",
      "=================================================================\n",
      " resizing_1 (Resizing)       (None, 224, 224, 3)       0         \n",
      "                                                                 \n",
      " conv2d_9 (Conv2D)           (None, 56, 56, 96)        34944     \n",
      "                                                                 \n",
      " batch_normalization_5 (Batc  (None, 56, 56, 96)       384       \n",
      " hNormalization)                                                 \n",
      "                                                                 \n",
      " lambda_2 (Lambda)           (None, 56, 56, 96)        0         \n",
      "                                                                 \n",
      " activation_5 (Activation)   (None, 56, 56, 96)        0         \n",
      "                                                                 \n",
      " max_pooling2d_2 (MaxPooling  (None, 27, 27, 96)       0         \n",
      " 2D)                                                             \n",
      "                                                                 \n",
      " conv2d_10 (Conv2D)          (None, 7, 7, 256)         614656    \n",
      "                                                                 \n",
      " batch_normalization_6 (Batc  (None, 7, 7, 256)        1024      \n",
      " hNormalization)                                                 \n",
      "                                                                 \n",
      " lambda_3 (Lambda)           (None, 7, 7, 256)         0         \n",
      "                                                                 \n",
      " activation_6 (Activation)   (None, 7, 7, 256)         0         \n",
      "                                                                 \n",
      " max_pooling2d_3 (MaxPooling  (None, 3, 3, 256)        0         \n",
      " 2D)                                                             \n",
      "                                                                 \n",
      " conv2d_11 (Conv2D)          (None, 1, 1, 384)         885120    \n",
      "                                                                 \n",
      " batch_normalization_7 (Batc  (None, 1, 1, 384)        1536      \n",
      " hNormalization)                                                 \n",
      "                                                                 \n",
      " activation_7 (Activation)   (None, 1, 1, 384)         0         \n",
      "                                                                 \n",
      " conv2d_12 (Conv2D)          (None, 1, 1, 384)         1327488   \n",
      "                                                                 \n",
      " batch_normalization_8 (Batc  (None, 1, 1, 384)        1536      \n",
      " hNormalization)                                                 \n",
      "                                                                 \n",
      " activation_8 (Activation)   (None, 1, 1, 384)         0         \n",
      "                                                                 \n",
      " conv2d_13 (Conv2D)          (None, 1, 1, 256)         884992    \n",
      "                                                                 \n",
      " batch_normalization_9 (Batc  (None, 1, 1, 256)        1024      \n",
      " hNormalization)                                                 \n",
      "                                                                 \n",
      " activation_9 (Activation)   (None, 1, 1, 256)         0         \n",
      "                                                                 \n",
      " flatten_3 (Flatten)         (None, 256)               0         \n",
      "                                                                 \n",
      " dense_9 (Dense)             (None, 4096)              1052672   \n",
      "                                                                 \n",
      " dropout_2 (Dropout)         (None, 4096)              0         \n",
      "                                                                 \n",
      " dense_10 (Dense)            (None, 4096)              16781312  \n",
      "                                                                 \n",
      " dropout_3 (Dropout)         (None, 4096)              0         \n",
      "                                                                 \n",
      " dense_11 (Dense)            (None, 20)                81940     \n",
      "                                                                 \n",
      "=================================================================\n",
      "Total params: 21,668,628\n",
      "Trainable params: 21,665,876\n",
      "Non-trainable params: 2,752\n",
      "_________________________________________________________________\n"
     ]
    }
   ],
   "source": [
    "AlexNet2 = AlexNet_model_compile(combination=2)"
   ]
  },
  {
   "cell_type": "markdown",
   "metadata": {},
   "source": [
    "#### <strong> <font color = 'turquoise'> Training </font> </strong>"
   ]
  },
  {
   "cell_type": "code",
   "execution_count": 25,
   "metadata": {},
   "outputs": [
    {
     "name": "stdout",
     "output_type": "stream",
     "text": [
      "Epoch 1/30\n",
      "133/133 [==============================] - 99s 739ms/step - loss: 2.8566 - accuracy: 0.1364 - val_loss: 2.6122 - val_accuracy: 0.2420\n",
      "Epoch 2/30\n",
      "133/133 [==============================] - 98s 739ms/step - loss: 2.5094 - accuracy: 0.2499 - val_loss: 2.2988 - val_accuracy: 0.3253\n",
      "Epoch 3/30\n",
      "133/133 [==============================] - 98s 739ms/step - loss: 2.1988 - accuracy: 0.3408 - val_loss: 2.1262 - val_accuracy: 0.3507\n",
      "Epoch 4/30\n",
      "133/133 [==============================] - 98s 738ms/step - loss: 1.9389 - accuracy: 0.4148 - val_loss: 2.0930 - val_accuracy: 0.3820\n",
      "Epoch 5/30\n",
      "133/133 [==============================] - 98s 741ms/step - loss: 1.7164 - accuracy: 0.4852 - val_loss: 1.8929 - val_accuracy: 0.4213\n",
      "Epoch 6/30\n",
      "133/133 [==============================] - 98s 741ms/step - loss: 1.5194 - accuracy: 0.5386 - val_loss: 2.2305 - val_accuracy: 0.3900\n",
      "Epoch 7/30\n",
      "133/133 [==============================] - 98s 740ms/step - loss: 1.3328 - accuracy: 0.5958 - val_loss: 2.2406 - val_accuracy: 0.3747\n",
      "Epoch 8/30\n",
      "133/133 [==============================] - 98s 740ms/step - loss: 1.1417 - accuracy: 0.6572 - val_loss: 1.8045 - val_accuracy: 0.4820\n",
      "Epoch 9/30\n",
      "133/133 [==============================] - 99s 744ms/step - loss: 0.9950 - accuracy: 0.6985 - val_loss: 1.7824 - val_accuracy: 0.5053\n",
      "Epoch 10/30\n",
      "133/133 [==============================] - 98s 740ms/step - loss: 0.8343 - accuracy: 0.7454 - val_loss: 1.7137 - val_accuracy: 0.5213\n",
      "Epoch 11/30\n",
      "133/133 [==============================] - 98s 740ms/step - loss: 0.6955 - accuracy: 0.7842 - val_loss: 1.7184 - val_accuracy: 0.5507\n",
      "Epoch 12/30\n",
      "133/133 [==============================] - 98s 741ms/step - loss: 0.5509 - accuracy: 0.8331 - val_loss: 2.3121 - val_accuracy: 0.4660\n",
      "Epoch 13/30\n",
      "133/133 [==============================] - 98s 741ms/step - loss: 0.4723 - accuracy: 0.8564 - val_loss: 3.0485 - val_accuracy: 0.3940\n",
      "Epoch 14/30\n",
      "133/133 [==============================] - 98s 740ms/step - loss: 0.3646 - accuracy: 0.8880 - val_loss: 2.0130 - val_accuracy: 0.5253\n",
      "Epoch 15/30\n",
      "133/133 [==============================] - 99s 743ms/step - loss: 0.2880 - accuracy: 0.9176 - val_loss: 2.2348 - val_accuracy: 0.5067\n",
      "Epoch 16/30\n",
      "133/133 [==============================] - 98s 740ms/step - loss: 0.2372 - accuracy: 0.9285 - val_loss: 2.5216 - val_accuracy: 0.4807\n",
      "Epoch 17/30\n",
      "133/133 [==============================] - 98s 740ms/step - loss: 0.1905 - accuracy: 0.9455 - val_loss: 2.1913 - val_accuracy: 0.5287\n",
      "Epoch 18/30\n",
      "133/133 [==============================] - 99s 742ms/step - loss: 0.1443 - accuracy: 0.9608 - val_loss: 2.1029 - val_accuracy: 0.5533\n",
      "Epoch 19/30\n",
      "133/133 [==============================] - 98s 740ms/step - loss: 0.1242 - accuracy: 0.9642 - val_loss: 2.4226 - val_accuracy: 0.5267\n",
      "Epoch 20/30\n",
      "133/133 [==============================] - 98s 740ms/step - loss: 0.1149 - accuracy: 0.9678 - val_loss: 2.3708 - val_accuracy: 0.5433\n",
      "Epoch 21/30\n",
      "133/133 [==============================] - 99s 747ms/step - loss: 0.0835 - accuracy: 0.9772 - val_loss: 2.1828 - val_accuracy: 0.5587\n",
      "Epoch 22/30\n",
      "133/133 [==============================] - 99s 744ms/step - loss: 0.0605 - accuracy: 0.9849 - val_loss: 2.1482 - val_accuracy: 0.5687\n",
      "Epoch 23/30\n",
      "133/133 [==============================] - 99s 744ms/step - loss: 0.0607 - accuracy: 0.9856 - val_loss: 2.2059 - val_accuracy: 0.5827\n",
      "Epoch 24/30\n",
      "133/133 [==============================] - 99s 741ms/step - loss: 0.0517 - accuracy: 0.9866 - val_loss: 2.2936 - val_accuracy: 0.5667\n",
      "Epoch 25/30\n",
      "133/133 [==============================] - 99s 741ms/step - loss: 0.0753 - accuracy: 0.9799 - val_loss: 2.5971 - val_accuracy: 0.5373\n",
      "Epoch 26/30\n",
      "133/133 [==============================] - 99s 742ms/step - loss: 0.0503 - accuracy: 0.9862 - val_loss: 2.1501 - val_accuracy: 0.5813\n",
      "Epoch 27/30\n",
      "133/133 [==============================] - 99s 743ms/step - loss: 0.0385 - accuracy: 0.9912 - val_loss: 2.2807 - val_accuracy: 0.5633\n",
      "Epoch 28/30\n",
      "133/133 [==============================] - 99s 742ms/step - loss: 0.0388 - accuracy: 0.9888 - val_loss: 2.2828 - val_accuracy: 0.5660\n",
      "Epoch 29/30\n",
      "133/133 [==============================] - 98s 741ms/step - loss: 0.0498 - accuracy: 0.9866 - val_loss: 2.3042 - val_accuracy: 0.5780\n",
      "Epoch 30/30\n",
      "133/133 [==============================] - 99s 744ms/step - loss: 0.0401 - accuracy: 0.9902 - val_loss: 2.2751 - val_accuracy: 0.5753\n"
     ]
    }
   ],
   "source": [
    "model_history4 = AlexNet2.fit(x_train, y_train,  epochs=30, batch_size=64, validation_data=(x_val, y_val)) # 25 epochs\n",
    "AlexNet2.save('alexnet2.h5')"
   ]
  },
  {
   "cell_type": "markdown",
   "metadata": {},
   "source": [
    "<br> <span style=\"font-size:25px\"> <b> <u> VGG </u> </b> </span > <br>\n",
    "\n",
    "><p style=\"font-size:22px;\"> Εκπαιδεύουμε 2 νευρωνικά με τις εξής παραμέτρους: \n",
    "><p style=\"font-size:20px;\"> <b> <u> Περίπτωση 1: </u> </b> </p>\n",
    "><p style=\"font-size:18px;\"> &#8226; <b> optimizer: </b> adam <br>\n",
    "                            >&#8226; <b> loss: </b> sparse_categorical_crossentropy <br>\n",
    "                            >&#8226; <b> Batch size: </b> 64 <br>\n",
    "                            >&#8226; <b> Epochs: </b> 15 <br> </p> \n",
    "><p style=\"font-size:20px;\"> <b> <u> Περίπτωση 2: </u> </b> </p>\n",
    "><p style=\"font-size:18px;\"> &#8226; <b> optimizer: </b> sgd <br>\n",
    "                            >&#8226; <b> loss: </b> sparse_categorical_crossentropy <br>\n",
    "                            >&#8226; <b> Batch size: </b> 64 <br>\n",
    "                            >&#8226; <b> Epochs: </b> 10 <br> </p> "
   ]
  },
  {
   "cell_type": "code",
   "execution_count": 26,
   "metadata": {},
   "outputs": [],
   "source": [
    "def VGG_model_compile(combination = 1):\n",
    "    if combination == 1:\n",
    "        optimizer = 'adam'\n",
    "        loss = tf.keras.losses.sparse_categorical_crossentropy\n",
    "    else:\n",
    "        optimizer = 'sgd'\n",
    "        loss = tf.keras.losses.sparse_categorical_crossentropy\n",
    "    model = models.Sequential()\n",
    "    model.add(keras.layers.experimental.preprocessing.Resizing(224, 224, interpolation=\"bilinear\", input_shape=x_train.shape[1:]))\n",
    "    model.add(layers.Conv2D(input_shape=(224,224,3),filters=64,kernel_size=(3,3),padding=\"same\", activation=\"relu\"))\n",
    "    model.add(tf.keras.layers.BatchNormalization(momentum=0.8))\n",
    "    model.add(layers.Conv2D(filters=64,kernel_size=(3,3),padding=\"same\", activation=\"relu\"))\n",
    "    model.add(tf.keras.layers.BatchNormalization(momentum=0.8))\n",
    "    model.add(layers.MaxPool2D(pool_size=(2,2),strides=(2,2)))\n",
    "    model.add(layers.Conv2D(filters=128, kernel_size=(3,3), padding=\"same\", activation=\"relu\"))\n",
    "    model.add(tf.keras.layers.BatchNormalization(momentum=0.8))\n",
    "    model.add(layers.Conv2D(filters=128, kernel_size=(3,3), padding=\"same\", activation=\"relu\"))\n",
    "    model.add(tf.keras.layers.BatchNormalization(momentum=0.8))\n",
    "    model.add(layers.MaxPool2D(pool_size=(2,2),strides=(2,2)))\n",
    "    model.add(layers.Conv2D(filters=256, kernel_size=(3,3), padding=\"same\", activation=\"relu\"))\n",
    "    model.add(tf.keras.layers.BatchNormalization(momentum=0.8))\n",
    "    model.add(layers.Conv2D(filters=256, kernel_size=(3,3), padding=\"same\", activation=\"relu\"))\n",
    "    model.add(tf.keras.layers.BatchNormalization(momentum=0.8))\n",
    "    model.add(layers.Conv2D(filters=256, kernel_size=(3,3), padding=\"same\", activation=\"relu\"))\n",
    "    model.add(tf.keras.layers.BatchNormalization(momentum=0.8))\n",
    "    model.add(layers.MaxPool2D(pool_size=(2,2),strides=(2,2)))\n",
    "    model.add(layers.Conv2D(filters=512, kernel_size=(3,3), padding=\"same\", activation=\"relu\"))\n",
    "    model.add(tf.keras.layers.BatchNormalization(momentum=0.8))\n",
    "    model.add(layers.Conv2D(filters=512, kernel_size=(3,3), padding=\"same\", activation=\"relu\"))\n",
    "    model.add(tf.keras.layers.BatchNormalization(momentum=0.8))\n",
    "    model.add(layers.Conv2D(filters=512, kernel_size=(3,3), padding=\"same\", activation=\"relu\"))\n",
    "    model.add(tf.keras.layers.BatchNormalization(momentum=0.8))\n",
    "    model.add(layers.MaxPool2D(pool_size=(2,2),strides=(2,2)))\n",
    "    model.add(layers.Conv2D(filters=512, kernel_size=(3,3), padding=\"same\", activation=\"relu\"))\n",
    "    model.add(tf.keras.layers.BatchNormalization(momentum=0.8))\n",
    "    model.add(layers.Conv2D(filters=512, kernel_size=(3,3), padding=\"same\", activation=\"relu\"))\n",
    "    model.add(tf.keras.layers.BatchNormalization(momentum=0.8))\n",
    "    model.add(layers.Conv2D(filters=512, kernel_size=(3,3), padding=\"same\", activation=\"relu\"))\n",
    "    model.add(tf.keras.layers.BatchNormalization(momentum=0.8))\n",
    "    model.add(layers.MaxPool2D(pool_size=(2,2),strides=(2,2)))\n",
    "    model.add(layers.Flatten())\n",
    "    model.add(layers.Dense(units=4096,activation=\"relu\"))\n",
    "    model.add(layers.Dense(units=4096,activation=\"relu\"))\n",
    "    model.add(layers.Dense(20, activation=\"softmax\"))\n",
    "    \n",
    "    model.compile(optimizer=optimizer, loss=loss, metrics=['accuracy'])\n",
    "\n",
    "    model.summary()\n",
    "    return model"
   ]
  },
  {
   "cell_type": "markdown",
   "metadata": {},
   "source": [
    "### <strong> Περίπτωση 1 </strong>\n",
    "#### <strong> <font color = 'turquoise'> Compile </font> </strong>"
   ]
  },
  {
   "cell_type": "code",
   "execution_count": 27,
   "metadata": {},
   "outputs": [
    {
     "name": "stdout",
     "output_type": "stream",
     "text": [
      "Model: \"sequential_4\"\n",
      "_________________________________________________________________\n",
      " Layer (type)                Output Shape              Param #   \n",
      "=================================================================\n",
      " resizing_2 (Resizing)       (None, 224, 224, 3)       0         \n",
      "                                                                 \n",
      " conv2d_14 (Conv2D)          (None, 224, 224, 64)      1792      \n",
      "                                                                 \n",
      " batch_normalization_10 (Bat  (None, 224, 224, 64)     256       \n",
      " chNormalization)                                                \n",
      "                                                                 \n",
      " conv2d_15 (Conv2D)          (None, 224, 224, 64)      36928     \n",
      "                                                                 \n",
      " batch_normalization_11 (Bat  (None, 224, 224, 64)     256       \n",
      " chNormalization)                                                \n",
      "                                                                 \n",
      " max_pooling2d_4 (MaxPooling  (None, 112, 112, 64)     0         \n",
      " 2D)                                                             \n",
      "                                                                 \n",
      " conv2d_16 (Conv2D)          (None, 112, 112, 128)     73856     \n",
      "                                                                 \n",
      " batch_normalization_12 (Bat  (None, 112, 112, 128)    512       \n",
      " chNormalization)                                                \n",
      "                                                                 \n",
      " conv2d_17 (Conv2D)          (None, 112, 112, 128)     147584    \n",
      "                                                                 \n",
      " batch_normalization_13 (Bat  (None, 112, 112, 128)    512       \n",
      " chNormalization)                                                \n",
      "                                                                 \n",
      " max_pooling2d_5 (MaxPooling  (None, 56, 56, 128)      0         \n",
      " 2D)                                                             \n",
      "                                                                 \n",
      " conv2d_18 (Conv2D)          (None, 56, 56, 256)       295168    \n",
      "                                                                 \n",
      " batch_normalization_14 (Bat  (None, 56, 56, 256)      1024      \n",
      " chNormalization)                                                \n",
      "                                                                 \n",
      " conv2d_19 (Conv2D)          (None, 56, 56, 256)       590080    \n",
      "                                                                 \n",
      " batch_normalization_15 (Bat  (None, 56, 56, 256)      1024      \n",
      " chNormalization)                                                \n",
      "                                                                 \n",
      " conv2d_20 (Conv2D)          (None, 56, 56, 256)       590080    \n",
      "                                                                 \n",
      " batch_normalization_16 (Bat  (None, 56, 56, 256)      1024      \n",
      " chNormalization)                                                \n",
      "                                                                 \n",
      " max_pooling2d_6 (MaxPooling  (None, 28, 28, 256)      0         \n",
      " 2D)                                                             \n",
      "                                                                 \n",
      " conv2d_21 (Conv2D)          (None, 28, 28, 512)       1180160   \n",
      "                                                                 \n",
      " batch_normalization_17 (Bat  (None, 28, 28, 512)      2048      \n",
      " chNormalization)                                                \n",
      "                                                                 \n",
      " conv2d_22 (Conv2D)          (None, 28, 28, 512)       2359808   \n",
      "                                                                 \n",
      " batch_normalization_18 (Bat  (None, 28, 28, 512)      2048      \n",
      " chNormalization)                                                \n",
      "                                                                 \n",
      " conv2d_23 (Conv2D)          (None, 28, 28, 512)       2359808   \n",
      "                                                                 \n",
      " batch_normalization_19 (Bat  (None, 28, 28, 512)      2048      \n",
      " chNormalization)                                                \n",
      "                                                                 \n",
      " max_pooling2d_7 (MaxPooling  (None, 14, 14, 512)      0         \n",
      " 2D)                                                             \n",
      "                                                                 \n",
      " conv2d_24 (Conv2D)          (None, 14, 14, 512)       2359808   \n",
      "                                                                 \n",
      " batch_normalization_20 (Bat  (None, 14, 14, 512)      2048      \n",
      " chNormalization)                                                \n",
      "                                                                 \n",
      " conv2d_25 (Conv2D)          (None, 14, 14, 512)       2359808   \n",
      "                                                                 \n",
      " batch_normalization_21 (Bat  (None, 14, 14, 512)      2048      \n",
      " chNormalization)                                                \n",
      "                                                                 \n",
      " conv2d_26 (Conv2D)          (None, 14, 14, 512)       2359808   \n",
      "                                                                 \n",
      " batch_normalization_22 (Bat  (None, 14, 14, 512)      2048      \n",
      " chNormalization)                                                \n",
      "                                                                 \n",
      " max_pooling2d_8 (MaxPooling  (None, 7, 7, 512)        0         \n",
      " 2D)                                                             \n",
      "                                                                 \n",
      " flatten_4 (Flatten)         (None, 25088)             0         \n",
      "                                                                 \n",
      " dense_12 (Dense)            (None, 4096)              102764544 \n",
      "                                                                 \n",
      " dense_13 (Dense)            (None, 4096)              16781312  \n",
      "                                                                 \n",
      " dense_14 (Dense)            (None, 20)                81940     \n",
      "                                                                 \n",
      "=================================================================\n",
      "Total params: 134,359,380\n",
      "Trainable params: 134,350,932\n",
      "Non-trainable params: 8,448\n",
      "_________________________________________________________________\n"
     ]
    }
   ],
   "source": [
    "vgg1 = VGG_model_compile(1)"
   ]
  },
  {
   "cell_type": "markdown",
   "metadata": {},
   "source": [
    "#### <strong> <font color = 'turquoise'> Training </font> </strong>"
   ]
  },
  {
   "cell_type": "code",
   "execution_count": 28,
   "metadata": {},
   "outputs": [
    {
     "name": "stdout",
     "output_type": "stream",
     "text": [
      "Epoch 1/15\n",
      "133/133 [==============================] - 4202s 32s/step - loss: 7.8253 - accuracy: 0.1574 - val_loss: 2.7773 - val_accuracy: 0.2060\n",
      "Epoch 2/15\n",
      "133/133 [==============================] - 4214s 32s/step - loss: 2.5832 - accuracy: 0.2500 - val_loss: 2.4323 - val_accuracy: 0.2707\n",
      "Epoch 3/15\n",
      "133/133 [==============================] - 4209s 32s/step - loss: 2.3513 - accuracy: 0.3048 - val_loss: 2.2438 - val_accuracy: 0.3153\n",
      "Epoch 4/15\n",
      "133/133 [==============================] - 4214s 32s/step - loss: 2.2326 - accuracy: 0.3312 - val_loss: 2.2878 - val_accuracy: 0.3227\n",
      "Epoch 5/15\n",
      "133/133 [==============================] - 4212s 32s/step - loss: 2.0482 - accuracy: 0.3864 - val_loss: 2.1870 - val_accuracy: 0.3733\n",
      "Epoch 6/15\n",
      "133/133 [==============================] - 4211s 32s/step - loss: 1.8831 - accuracy: 0.4327 - val_loss: 2.0870 - val_accuracy: 0.3980\n",
      "Epoch 7/15\n",
      "133/133 [==============================] - 4209s 32s/step - loss: 1.7716 - accuracy: 0.4631 - val_loss: 2.0967 - val_accuracy: 0.3987\n",
      "Epoch 8/15\n",
      "133/133 [==============================] - 4207s 32s/step - loss: 1.6440 - accuracy: 0.5031 - val_loss: 2.2667 - val_accuracy: 0.3960\n",
      "Epoch 9/15\n",
      "133/133 [==============================] - 4188s 31s/step - loss: 1.5311 - accuracy: 0.5367 - val_loss: 2.1018 - val_accuracy: 0.4300\n",
      "Epoch 10/15\n",
      "133/133 [==============================] - 4188s 32s/step - loss: 1.3526 - accuracy: 0.5925 - val_loss: 2.1693 - val_accuracy: 0.4193\n",
      "Epoch 11/15\n",
      "133/133 [==============================] - 4187s 31s/step - loss: 1.1921 - accuracy: 0.6454 - val_loss: 2.2595 - val_accuracy: 0.4353\n",
      "Epoch 12/15\n",
      "133/133 [==============================] - 4186s 31s/step - loss: 1.0057 - accuracy: 0.6961 - val_loss: 2.3741 - val_accuracy: 0.4327\n",
      "Epoch 13/15\n",
      "133/133 [==============================] - 4186s 31s/step - loss: 0.8771 - accuracy: 0.7355 - val_loss: 2.5643 - val_accuracy: 0.4333\n",
      "Epoch 14/15\n",
      "133/133 [==============================] - 4199s 32s/step - loss: 0.7571 - accuracy: 0.7721 - val_loss: 2.8339 - val_accuracy: 0.4407\n",
      "Epoch 15/15\n",
      "133/133 [==============================] - 4213s 32s/step - loss: 0.7679 - accuracy: 0.7774 - val_loss: 2.7937 - val_accuracy: 0.4493\n"
     ]
    }
   ],
   "source": [
    "model_history5 = vgg1.fit(x_train, y_train, epochs=15, batch_size=64, validation_data=(x_val, y_val)) # 15 epochs\n",
    "vgg1.save('vgg1.h5')"
   ]
  },
  {
   "cell_type": "markdown",
   "metadata": {},
   "source": [
    "### <strong> Περίπτωση 2 </strong>\n",
    "#### <strong> <font color = 'turquoise'> Compile </font> </strong>"
   ]
  },
  {
   "cell_type": "code",
   "execution_count": 29,
   "metadata": {},
   "outputs": [
    {
     "name": "stdout",
     "output_type": "stream",
     "text": [
      "Model: \"sequential_5\"\n",
      "_________________________________________________________________\n",
      " Layer (type)                Output Shape              Param #   \n",
      "=================================================================\n",
      " resizing_3 (Resizing)       (None, 224, 224, 3)       0         \n",
      "                                                                 \n",
      " conv2d_27 (Conv2D)          (None, 224, 224, 64)      1792      \n",
      "                                                                 \n",
      " batch_normalization_23 (Bat  (None, 224, 224, 64)     256       \n",
      " chNormalization)                                                \n",
      "                                                                 \n",
      " conv2d_28 (Conv2D)          (None, 224, 224, 64)      36928     \n",
      "                                                                 \n",
      " batch_normalization_24 (Bat  (None, 224, 224, 64)     256       \n",
      " chNormalization)                                                \n",
      "                                                                 \n",
      " max_pooling2d_9 (MaxPooling  (None, 112, 112, 64)     0         \n",
      " 2D)                                                             \n",
      "                                                                 \n",
      " conv2d_29 (Conv2D)          (None, 112, 112, 128)     73856     \n",
      "                                                                 \n",
      " batch_normalization_25 (Bat  (None, 112, 112, 128)    512       \n",
      " chNormalization)                                                \n",
      "                                                                 \n",
      " conv2d_30 (Conv2D)          (None, 112, 112, 128)     147584    \n",
      "                                                                 \n",
      " batch_normalization_26 (Bat  (None, 112, 112, 128)    512       \n",
      " chNormalization)                                                \n",
      "                                                                 \n",
      " max_pooling2d_10 (MaxPoolin  (None, 56, 56, 128)      0         \n",
      " g2D)                                                            \n",
      "                                                                 \n",
      " conv2d_31 (Conv2D)          (None, 56, 56, 256)       295168    \n",
      "                                                                 \n",
      " batch_normalization_27 (Bat  (None, 56, 56, 256)      1024      \n",
      " chNormalization)                                                \n",
      "                                                                 \n",
      " conv2d_32 (Conv2D)          (None, 56, 56, 256)       590080    \n",
      "                                                                 \n",
      " batch_normalization_28 (Bat  (None, 56, 56, 256)      1024      \n",
      " chNormalization)                                                \n",
      "                                                                 \n",
      " conv2d_33 (Conv2D)          (None, 56, 56, 256)       590080    \n",
      "                                                                 \n",
      " batch_normalization_29 (Bat  (None, 56, 56, 256)      1024      \n",
      " chNormalization)                                                \n",
      "                                                                 \n",
      " max_pooling2d_11 (MaxPoolin  (None, 28, 28, 256)      0         \n",
      " g2D)                                                            \n",
      "                                                                 \n",
      " conv2d_34 (Conv2D)          (None, 28, 28, 512)       1180160   \n",
      "                                                                 \n",
      " batch_normalization_30 (Bat  (None, 28, 28, 512)      2048      \n",
      " chNormalization)                                                \n",
      "                                                                 \n",
      " conv2d_35 (Conv2D)          (None, 28, 28, 512)       2359808   \n",
      "                                                                 \n",
      " batch_normalization_31 (Bat  (None, 28, 28, 512)      2048      \n",
      " chNormalization)                                                \n",
      "                                                                 \n",
      " conv2d_36 (Conv2D)          (None, 28, 28, 512)       2359808   \n",
      "                                                                 \n",
      " batch_normalization_32 (Bat  (None, 28, 28, 512)      2048      \n",
      " chNormalization)                                                \n",
      "                                                                 \n",
      " max_pooling2d_12 (MaxPoolin  (None, 14, 14, 512)      0         \n",
      " g2D)                                                            \n",
      "                                                                 \n",
      " conv2d_37 (Conv2D)          (None, 14, 14, 512)       2359808   \n",
      "                                                                 \n",
      " batch_normalization_33 (Bat  (None, 14, 14, 512)      2048      \n",
      " chNormalization)                                                \n",
      "                                                                 \n",
      " conv2d_38 (Conv2D)          (None, 14, 14, 512)       2359808   \n",
      "                                                                 \n",
      " batch_normalization_34 (Bat  (None, 14, 14, 512)      2048      \n",
      " chNormalization)                                                \n",
      "                                                                 \n",
      " conv2d_39 (Conv2D)          (None, 14, 14, 512)       2359808   \n",
      "                                                                 \n",
      " batch_normalization_35 (Bat  (None, 14, 14, 512)      2048      \n",
      " chNormalization)                                                \n",
      "                                                                 \n",
      " max_pooling2d_13 (MaxPoolin  (None, 7, 7, 512)        0         \n",
      " g2D)                                                            \n",
      "                                                                 \n",
      " flatten_5 (Flatten)         (None, 25088)             0         \n",
      "                                                                 \n",
      " dense_15 (Dense)            (None, 4096)              102764544 \n",
      "                                                                 \n",
      " dense_16 (Dense)            (None, 4096)              16781312  \n",
      "                                                                 \n",
      " dense_17 (Dense)            (None, 20)                81940     \n",
      "                                                                 \n",
      "=================================================================\n",
      "Total params: 134,359,380\n",
      "Trainable params: 134,350,932\n",
      "Non-trainable params: 8,448\n",
      "_________________________________________________________________\n"
     ]
    }
   ],
   "source": [
    "vgg2 = VGG_model_compile(2)"
   ]
  },
  {
   "cell_type": "markdown",
   "metadata": {},
   "source": [
    "#### <strong> <font color = 'turquoise'> Training </font> </strong>"
   ]
  },
  {
   "cell_type": "code",
   "execution_count": 30,
   "metadata": {},
   "outputs": [
    {
     "name": "stdout",
     "output_type": "stream",
     "text": [
      "Epoch 1/10\n",
      "133/133 [==============================] - 4191s 32s/step - loss: 2.7607 - accuracy: 0.2781 - val_loss: 1.9675 - val_accuracy: 0.4060\n",
      "Epoch 2/10\n",
      "133/133 [==============================] - 4195s 32s/step - loss: 1.7157 - accuracy: 0.4754 - val_loss: 1.8097 - val_accuracy: 0.4773\n",
      "Epoch 3/10\n",
      "133/133 [==============================] - 4208s 32s/step - loss: 1.2273 - accuracy: 0.6282 - val_loss: 1.7080 - val_accuracy: 0.4987\n",
      "Epoch 4/10\n",
      "133/133 [==============================] - 4218s 32s/step - loss: 0.7811 - accuracy: 0.7705 - val_loss: 1.6022 - val_accuracy: 0.5307\n",
      "Epoch 5/10\n",
      "133/133 [==============================] - 4216s 32s/step - loss: 0.4213 - accuracy: 0.8960 - val_loss: 1.5736 - val_accuracy: 0.5553\n",
      "Epoch 6/10\n",
      "133/133 [==============================] - 4215s 32s/step - loss: 0.1781 - accuracy: 0.9724 - val_loss: 1.5461 - val_accuracy: 0.5767\n",
      "Epoch 7/10\n",
      "133/133 [==============================] - 4218s 32s/step - loss: 0.0774 - accuracy: 0.9933 - val_loss: 1.5365 - val_accuracy: 0.5800\n",
      "Epoch 8/10\n",
      "133/133 [==============================] - 4221s 32s/step - loss: 0.0405 - accuracy: 0.9984 - val_loss: 1.5198 - val_accuracy: 0.6000\n",
      "Epoch 9/10\n",
      "133/133 [==============================] - 4241s 32s/step - loss: 0.0244 - accuracy: 0.9993 - val_loss: 1.5294 - val_accuracy: 0.6087\n",
      "Epoch 10/10\n",
      "133/133 [==============================] - 4213s 32s/step - loss: 0.0202 - accuracy: 0.9994 - val_loss: 1.5585 - val_accuracy: 0.6140\n"
     ]
    }
   ],
   "source": [
    "model_history6 = vgg2.fit(x_train, y_train, epochs=10, batch_size=64, validation_data=(x_val, y_val)) # 20 epochs\n",
    "vgg2.save('vgg2.h5')"
   ]
  },
  {
   "cell_type": "markdown",
   "metadata": {},
   "source": [
    "<br> <span style=\"font-size:25px\"> <b> <u> MyCNN </u> </b> </span > <br>\n",
    "\n",
    "<p style=\"font-size:19px;\"> Σε αυτό το κομμάτι σχεδιάζουμε το δικό μας CNN. Χρησιμοποιούμε ως activation function στα convolutional και fully connected layers την Relu (εκτός από το τελευταίο επίπεδο Dense όπου χρησιμοποιούμε την softmax), καθώς αυτή, όπως αναφέραμε και στο θεωρητικό τμήμα είναι πιο αποδοτική υπολογιστικά, αλλά και επιτυγχάνει πολύ καλά αποτελέσματα. Επιπρόσθετα, χρησιμοποιούμε Max Pooling για τα pooling layers, ενώ προσθέτουμε και batch normalization μετά από κάθε convolutional layer (αφού παρατηρήσαμε ότι αυτό βελτιώνει γενικά τα αποτελέσματά μας). Τέλος, έξοδος του τελευταίου fully connected layer έχει μέγεθος είκοσι, όσες και οι κατηγορίες εικόνων που διαθέτουμε. </p> <br>\n",
    "\n",
    "><p style=\"font-size:22px;\"> Εκπαιδεύουμε 2 νευρωνικά με τις εξής παραμέτρους: \n",
    "><p style=\"font-size:20px;\"> <b> <u> Περίπτωση 1: </u> </b> </p>\n",
    "><p style=\"font-size:18px;\"> &#8226; <b> optimizer: </b> adam <br>\n",
    "                            >&#8226; <b> loss: </b> sparse_categorical_crossentropy <br>\n",
    "                            >&#8226; <b> Batch size: </b> 128 <br>\n",
    "                            >&#8226; <b> Epochs: </b> 10 <br> </p> \n",
    "><p style=\"font-size:20px;\"> <b> <u> Περίπτωση 2: </u> </b> </p>\n",
    "><p style=\"font-size:18px;\"> &#8226; <b> optimizer: </b> RMSprop <br>\n",
    "                            >&#8226; <b> loss: </b> LogCosh <br>\n",
    "                            >&#8226; <b> Batch size: </b> 64 <br>\n",
    "                            >&#8226; <b> Epochs: </b> 10 <br> </p> "
   ]
  },
  {
   "cell_type": "code",
   "execution_count": 31,
   "metadata": {},
   "outputs": [],
   "source": [
    "def MyCNN_compile(combination = 1):\n",
    "    if combination == 1:\n",
    "        optimizer = 'adam'\n",
    "        loss = tf.keras.losses.sparse_categorical_crossentropy\n",
    "    else:\n",
    "        optimizer = 'RMSprop'\n",
    "        loss = tf.keras.losses.LogCosh(reduction=\"auto\", name=\"log_cosh\")\n",
    "\n",
    "    model = models.Sequential()\n",
    "    model.add(layers.Conv2D(128, (3,3), activation='relu', padding=\"same\", input_shape=(32, 32, 3)))\n",
    "    model.add(layers.BatchNormalization())\n",
    "    model.add(layers.Conv2D(128, (3, 3), activation='relu', padding='same'))\n",
    "    model.add(layers.MaxPooling2D((2, 2)))\n",
    "    model.add(layers.BatchNormalization())\n",
    "    model.add(layers.Conv2D(256, (3, 3), activation='relu', padding='same'))\n",
    "    model.add(layers.BatchNormalization())\n",
    "    model.add(layers.MaxPooling2D((2, 2)))\n",
    "    model.add(layers.Conv2D(512, (3, 3), activation='relu', padding='same'))\n",
    "    model.add(layers.BatchNormalization())\n",
    "    model.add(layers.Conv2D(256, (3, 3)))\n",
    "    model.add(layers.BatchNormalization())\n",
    "    model.add(layers.MaxPooling2D((2, 2)))\n",
    "    model.add(layers.Flatten())\n",
    "    model.add(layers.Dense(2000, activation='relu'))\n",
    "    model.add(layers.Dropout(0.5))\n",
    "    model.add(layers.Dense(1000, activation='relu'))\n",
    "    model.add(layers.Dropout(0.5))\n",
    "    model.add(layers.Dense(20, activation='softmax'))\n",
    "\n",
    "    model.compile(optimizer=optimizer, loss=loss, metrics=['accuracy'])\n",
    "    model.summary()\n",
    "    return model"
   ]
  },
  {
   "cell_type": "markdown",
   "metadata": {},
   "source": [
    "### <strong> Περίπτωση 1 </strong>\n",
    "#### <strong> <font color = 'turquoise'> Compile </font> </strong>"
   ]
  },
  {
   "cell_type": "code",
   "execution_count": 32,
   "metadata": {},
   "outputs": [
    {
     "name": "stdout",
     "output_type": "stream",
     "text": [
      "Model: \"sequential_6\"\n",
      "_________________________________________________________________\n",
      " Layer (type)                Output Shape              Param #   \n",
      "=================================================================\n",
      " conv2d_40 (Conv2D)          (None, 32, 32, 128)       3584      \n",
      "                                                                 \n",
      " batch_normalization_36 (Bat  (None, 32, 32, 128)      512       \n",
      " chNormalization)                                                \n",
      "                                                                 \n",
      " conv2d_41 (Conv2D)          (None, 32, 32, 128)       147584    \n",
      "                                                                 \n",
      " max_pooling2d_14 (MaxPoolin  (None, 16, 16, 128)      0         \n",
      " g2D)                                                            \n",
      "                                                                 \n",
      " batch_normalization_37 (Bat  (None, 16, 16, 128)      512       \n",
      " chNormalization)                                                \n",
      "                                                                 \n",
      " conv2d_42 (Conv2D)          (None, 16, 16, 256)       295168    \n",
      "                                                                 \n",
      " batch_normalization_38 (Bat  (None, 16, 16, 256)      1024      \n",
      " chNormalization)                                                \n",
      "                                                                 \n",
      " max_pooling2d_15 (MaxPoolin  (None, 8, 8, 256)        0         \n",
      " g2D)                                                            \n",
      "                                                                 \n",
      " conv2d_43 (Conv2D)          (None, 8, 8, 512)         1180160   \n",
      "                                                                 \n",
      " batch_normalization_39 (Bat  (None, 8, 8, 512)        2048      \n",
      " chNormalization)                                                \n",
      "                                                                 \n",
      " conv2d_44 (Conv2D)          (None, 6, 6, 256)         1179904   \n",
      "                                                                 \n",
      " batch_normalization_40 (Bat  (None, 6, 6, 256)        1024      \n",
      " chNormalization)                                                \n",
      "                                                                 \n",
      " max_pooling2d_16 (MaxPoolin  (None, 3, 3, 256)        0         \n",
      " g2D)                                                            \n",
      "                                                                 \n",
      " flatten_6 (Flatten)         (None, 2304)              0         \n",
      "                                                                 \n",
      " dense_18 (Dense)            (None, 2000)              4610000   \n",
      "                                                                 \n",
      " dropout_4 (Dropout)         (None, 2000)              0         \n",
      "                                                                 \n",
      " dense_19 (Dense)            (None, 1000)              2001000   \n",
      "                                                                 \n",
      " dropout_5 (Dropout)         (None, 1000)              0         \n",
      "                                                                 \n",
      " dense_20 (Dense)            (None, 20)                20020     \n",
      "                                                                 \n",
      "=================================================================\n",
      "Total params: 9,442,540\n",
      "Trainable params: 9,439,980\n",
      "Non-trainable params: 2,560\n",
      "_________________________________________________________________\n"
     ]
    }
   ],
   "source": [
    "mycnn1 = MyCNN_compile(1)"
   ]
  },
  {
   "cell_type": "markdown",
   "metadata": {},
   "source": [
    "#### <strong> <font color = 'turquoise'> Training </font> </strong>"
   ]
  },
  {
   "cell_type": "code",
   "execution_count": 33,
   "metadata": {},
   "outputs": [
    {
     "name": "stdout",
     "output_type": "stream",
     "text": [
      "Epoch 1/10\n",
      "67/67 [==============================] - 116s 2s/step - loss: 3.0096 - accuracy: 0.1867 - val_loss: 3.4487 - val_accuracy: 0.0507\n",
      "Epoch 2/10\n",
      "67/67 [==============================] - 114s 2s/step - loss: 2.2500 - accuracy: 0.3272 - val_loss: 3.7838 - val_accuracy: 0.0687\n",
      "Epoch 3/10\n",
      "67/67 [==============================] - 115s 2s/step - loss: 1.9498 - accuracy: 0.4081 - val_loss: 3.8010 - val_accuracy: 0.0507\n",
      "Epoch 4/10\n",
      "67/67 [==============================] - 114s 2s/step - loss: 1.8019 - accuracy: 0.4581 - val_loss: 3.7898 - val_accuracy: 0.0613\n",
      "Epoch 5/10\n",
      "67/67 [==============================] - 115s 2s/step - loss: 1.6091 - accuracy: 0.5140 - val_loss: 3.1764 - val_accuracy: 0.1400\n",
      "Epoch 6/10\n",
      "67/67 [==============================] - 114s 2s/step - loss: 1.3958 - accuracy: 0.5761 - val_loss: 2.9227 - val_accuracy: 0.1393\n",
      "Epoch 7/10\n",
      "67/67 [==============================] - 114s 2s/step - loss: 1.2650 - accuracy: 0.6236 - val_loss: 2.5882 - val_accuracy: 0.2673\n",
      "Epoch 8/10\n",
      "67/67 [==============================] - 114s 2s/step - loss: 1.1104 - accuracy: 0.6666 - val_loss: 1.9258 - val_accuracy: 0.4367\n",
      "Epoch 9/10\n",
      "67/67 [==============================] - 114s 2s/step - loss: 0.9892 - accuracy: 0.7024 - val_loss: 1.9804 - val_accuracy: 0.4487\n",
      "Epoch 10/10\n",
      "67/67 [==============================] - 114s 2s/step - loss: 0.8699 - accuracy: 0.7336 - val_loss: 1.5780 - val_accuracy: 0.5673\n"
     ]
    }
   ],
   "source": [
    "model_history7 = mycnn1.fit(x_train, y_train, epochs=10, batch_size=128, validation_data=(x_val, y_val)) # 10 epochs\n",
    "mycnn1.save('mycnn1.h5')"
   ]
  },
  {
   "cell_type": "markdown",
   "metadata": {},
   "source": [
    "### <strong> Περίπτωση 2 </strong>\n",
    "#### <strong> <font color = 'turquoise'> Compile </font> </strong>"
   ]
  },
  {
   "cell_type": "code",
   "execution_count": 34,
   "metadata": {},
   "outputs": [
    {
     "name": "stdout",
     "output_type": "stream",
     "text": [
      "Model: \"sequential_7\"\n",
      "_________________________________________________________________\n",
      " Layer (type)                Output Shape              Param #   \n",
      "=================================================================\n",
      " conv2d_45 (Conv2D)          (None, 32, 32, 128)       3584      \n",
      "                                                                 \n",
      " batch_normalization_41 (Bat  (None, 32, 32, 128)      512       \n",
      " chNormalization)                                                \n",
      "                                                                 \n",
      " conv2d_46 (Conv2D)          (None, 32, 32, 128)       147584    \n",
      "                                                                 \n",
      " max_pooling2d_17 (MaxPoolin  (None, 16, 16, 128)      0         \n",
      " g2D)                                                            \n",
      "                                                                 \n",
      " batch_normalization_42 (Bat  (None, 16, 16, 128)      512       \n",
      " chNormalization)                                                \n",
      "                                                                 \n",
      " conv2d_47 (Conv2D)          (None, 16, 16, 256)       295168    \n",
      "                                                                 \n",
      " batch_normalization_43 (Bat  (None, 16, 16, 256)      1024      \n",
      " chNormalization)                                                \n",
      "                                                                 \n",
      " max_pooling2d_18 (MaxPoolin  (None, 8, 8, 256)        0         \n",
      " g2D)                                                            \n",
      "                                                                 \n",
      " conv2d_48 (Conv2D)          (None, 8, 8, 512)         1180160   \n",
      "                                                                 \n",
      " batch_normalization_44 (Bat  (None, 8, 8, 512)        2048      \n",
      " chNormalization)                                                \n",
      "                                                                 \n",
      " conv2d_49 (Conv2D)          (None, 6, 6, 256)         1179904   \n",
      "                                                                 \n",
      " batch_normalization_45 (Bat  (None, 6, 6, 256)        1024      \n",
      " chNormalization)                                                \n",
      "                                                                 \n",
      " max_pooling2d_19 (MaxPoolin  (None, 3, 3, 256)        0         \n",
      " g2D)                                                            \n",
      "                                                                 \n",
      " flatten_7 (Flatten)         (None, 2304)              0         \n",
      "                                                                 \n",
      " dense_21 (Dense)            (None, 2000)              4610000   \n",
      "                                                                 \n",
      " dropout_6 (Dropout)         (None, 2000)              0         \n",
      "                                                                 \n",
      " dense_22 (Dense)            (None, 1000)              2001000   \n",
      "                                                                 \n",
      " dropout_7 (Dropout)         (None, 1000)              0         \n",
      "                                                                 \n",
      " dense_23 (Dense)            (None, 20)                20020     \n",
      "                                                                 \n",
      "=================================================================\n",
      "Total params: 9,442,540\n",
      "Trainable params: 9,439,980\n",
      "Non-trainable params: 2,560\n",
      "_________________________________________________________________\n"
     ]
    }
   ],
   "source": [
    "mycnn2 = MyCNN_compile(2)"
   ]
  },
  {
   "cell_type": "markdown",
   "metadata": {},
   "source": [
    "#### <strong> <font color = 'turquoise'> Training </font> </strong>"
   ]
  },
  {
   "cell_type": "code",
   "execution_count": 35,
   "metadata": {},
   "outputs": [
    {
     "name": "stdout",
     "output_type": "stream",
     "text": [
      "Epoch 1/10\n",
      "133/133 [==============================] - 122s 906ms/step - loss: 8.8061 - accuracy: 0.0501 - val_loss: 8.7931 - val_accuracy: 0.0560\n",
      "Epoch 2/10\n",
      "133/133 [==============================] - 120s 905ms/step - loss: 8.8062 - accuracy: 0.0489 - val_loss: 8.7931 - val_accuracy: 0.0560\n",
      "Epoch 3/10\n",
      "133/133 [==============================] - 120s 905ms/step - loss: 8.8062 - accuracy: 0.0489 - val_loss: 8.7931 - val_accuracy: 0.0560\n",
      "Epoch 4/10\n",
      "133/133 [==============================] - 120s 906ms/step - loss: 8.8062 - accuracy: 0.0489 - val_loss: 8.7931 - val_accuracy: 0.0560\n",
      "Epoch 5/10\n",
      "133/133 [==============================] - 121s 907ms/step - loss: 8.8062 - accuracy: 0.0489 - val_loss: 8.7931 - val_accuracy: 0.0560\n",
      "Epoch 6/10\n",
      "133/133 [==============================] - 121s 909ms/step - loss: 8.8062 - accuracy: 0.0489 - val_loss: 8.7931 - val_accuracy: 0.0560\n",
      "Epoch 7/10\n",
      "133/133 [==============================] - 122s 914ms/step - loss: 8.8062 - accuracy: 0.0489 - val_loss: 8.7931 - val_accuracy: 0.0560\n",
      "Epoch 8/10\n",
      "133/133 [==============================] - 122s 914ms/step - loss: 8.8062 - accuracy: 0.0489 - val_loss: 8.7931 - val_accuracy: 0.0560\n",
      "Epoch 9/10\n",
      "133/133 [==============================] - 122s 918ms/step - loss: 8.8062 - accuracy: 0.0489 - val_loss: 8.7931 - val_accuracy: 0.0560\n",
      "Epoch 10/10\n",
      "133/133 [==============================] - 121s 913ms/step - loss: 8.8062 - accuracy: 0.0488 - val_loss: 8.7931 - val_accuracy: 0.0560\n"
     ]
    }
   ],
   "source": [
    "model_history8 = mycnn2.fit(x_train, y_train, epochs=10, batch_size=64, validation_data=(x_val, y_val)) # 10 epochs\n",
    "mycnn2.save('mycnn2.h5')"
   ]
  },
  {
   "cell_type": "markdown",
   "metadata": {},
   "source": [
    "----\n",
    "### <strong>Βήμα 2 </strong>\n",
    "#### <strong>1. </strong>"
   ]
  },
  {
   "cell_type": "markdown",
   "metadata": {},
   "source": [
    "#### <strong> <font color = 'turquoise'> LeNet 1 </font> </strong>"
   ]
  },
  {
   "cell_type": "code",
   "execution_count": 81,
   "metadata": {},
   "outputs": [
    {
     "data": {
      "image/png": "[encoded data removed]",
      "text/plain": [
       "<Figure size 576x360 with 1 Axes>"
      ]
     },
     "metadata": {
      "needs_background": "light"
     },
     "output_type": "display_data"
    }
   ],
   "source": [
    "plot_accuracy(model_history1)\n",
    "plt.title(\"LeNet 1, Optimizer: adam, BatchSize = 128, epochs = 30\",size=10)\n",
    "plt.show()"
   ]
  },
  {
   "cell_type": "markdown",
   "metadata": {},
   "source": [
    "#### <strong> <font color = 'turquoise'> LeNet 2 </font> </strong>"
   ]
  },
  {
   "cell_type": "code",
   "execution_count": 80,
   "metadata": {},
   "outputs": [
    {
     "data": {
      "image/png": "[encoded data removed]",
      "text/plain": [
       "<Figure size 576x360 with 1 Axes>"
      ]
     },
     "metadata": {
      "needs_background": "light"
     },
     "output_type": "display_data"
    }
   ],
   "source": [
    "plot_accuracy(model_history2)\n",
    "plt.title(\"LeNet 2, Optimizer: sgd, BatchSize = 256, epochs = 50\",size=10)\n",
    "plt.show()"
   ]
  },
  {
   "cell_type": "markdown",
   "metadata": {},
   "source": [
    "<span style=\"font-size:25px\"> <b> <u> Συμπέρασμα </u> </b> </span > <br> <br>\n",
    "Παρατηρούμε ότι ο πρώτος συνδυασμός υπερπαραμέτρων για το Lenet, με χρήση του Adam optimizer, δίνει καλύτερο αποτελέσματα ευστοχίας, ενώ ο δεύτερος συνδυασμός αποτυγχάνει σημαντικά, καθώς γίνεται χρήση της μη γραμμικής συνάρτησης sigmoid, η οποία δεν ενδείκνυται για τεχνικές gradient descent. "
   ]
  },
  {
   "cell_type": "markdown",
   "metadata": {},
   "source": [
    "><p style=\"font-size:18px;\"> &#8226; <b> optimizer: </b> adam <br>\n",
    "                            >&#8226; <b> loss: </b> sparse_categorical_crossentropy <br>\n",
    "                            >&#8226; <b> Batch size: </b> 128 <br>\n",
    "                            >&#8226; <b> Epochs: </b> 30 <br> </p> "
   ]
  },
  {
   "cell_type": "markdown",
   "metadata": {},
   "source": [
    "#### <strong> <font color = 'turquoise'> AlexNet 1 </font> </strong>"
   ]
  },
  {
   "cell_type": "code",
   "execution_count": 79,
   "metadata": {},
   "outputs": [
    {
     "data": {
      "image/png": "[encoded data removed]",
      "text/plain": [
       "<Figure size 576x360 with 1 Axes>"
      ]
     },
     "metadata": {
      "needs_background": "light"
     },
     "output_type": "display_data"
    }
   ],
   "source": [
    "plot_accuracy(model_history3)\n",
    "plt.title(\"AlexNet 1, Optimizer: adam, BatchSize = 256, epochs = 20\",size=10)\n",
    "plt.show()"
   ]
  },
  {
   "cell_type": "markdown",
   "metadata": {},
   "source": [
    "#### <strong> <font color = 'turquoise'> AlexNet 2 </font> </strong>"
   ]
  },
  {
   "cell_type": "code",
   "execution_count": 78,
   "metadata": {},
   "outputs": [
    {
     "data": {
      "image/png": "[encoded data removed]",
      "text/plain": [
       "<Figure size 576x360 with 1 Axes>"
      ]
     },
     "metadata": {
      "needs_background": "light"
     },
     "output_type": "display_data"
    }
   ],
   "source": [
    "plot_accuracy(model_history4)\n",
    "plt.title(\"AlexNet 2, Optimizer: sgd, BatchSize = 64, epochs = 30\",size=10)\n",
    "plt.show()"
   ]
  },
  {
   "cell_type": "markdown",
   "metadata": {},
   "source": [
    "<span style=\"font-size:25px\"> <b> <u> Συμπέρασμα </u> </b> </span > <br> <br>\n",
    "Βλέπουμε ότι η δεύτερη περίπτωση είναι ελαφρώς πιο ακριβής.\n",
    "\n",
    "><p style=\"font-size:18px;\"> &#8226; <b> optimizer: </b> adam <br>\n",
    "                            >&#8226; <b> loss: </b> sparse_categorical_crossentropy <br>\n",
    "                            >&#8226; <b> Batch size: </b> 64 <br>\n",
    "                            >&#8226; <b> Epochs: </b> 30 <br> </p> "
   ]
  },
  {
   "cell_type": "markdown",
   "metadata": {},
   "source": [
    "#### <strong> <font color = 'turquoise'> VGG 1 </font> </strong>"
   ]
  },
  {
   "cell_type": "code",
   "execution_count": 75,
   "metadata": {},
   "outputs": [
    {
     "data": {
      "image/png": "[encoded data removed]",
      "text/plain": [
       "<Figure size 576x360 with 1 Axes>"
      ]
     },
     "metadata": {
      "needs_background": "light"
     },
     "output_type": "display_data"
    }
   ],
   "source": [
    "plot_accuracy(model_history5)\n",
    "plt.title(\"VGG 1, Optimizer: adam, BatchSize = 64, epochs = 15\",size=10)\n",
    "plt.show()"
   ]
  },
  {
   "cell_type": "markdown",
   "metadata": {},
   "source": [
    "#### <strong> <font color = 'turquoise'> VGG 2 </font> </strong>"
   ]
  },
  {
   "cell_type": "code",
   "execution_count": 74,
   "metadata": {},
   "outputs": [
    {
     "data": {
      "image/png": "[encoded data removed]",
      "text/plain": [
       "<Figure size 576x360 with 1 Axes>"
      ]
     },
     "metadata": {
      "needs_background": "light"
     },
     "output_type": "display_data"
    }
   ],
   "source": [
    "plot_accuracy(model_history6)\n",
    "plt.title(\"VGG 2, Optimizer: sgd, BatchSize = 64, epochs = 10\",size=10)\n",
    "plt.show()"
   ]
  },
  {
   "cell_type": "markdown",
   "metadata": {},
   "source": [
    "<span style=\"font-size:25px\"> <b> <u> Συμπέρασμα </u> </b> </span > <br> <br>\n",
    "Παρατηρούμε ότι ο δεύτερος συνδυασμός έχει καλύτερα αποτελέσματα.\n",
    "\n",
    "><p style=\"font-size:18px;\"> &#8226; <b> optimizer: </b> sgd <br>\n",
    "                            >&#8226; <b> loss: </b> sparse_categorical_crossentropy <br>\n",
    "                            >&#8226; <b> Batch size: </b> 64 <br>\n",
    "                            >&#8226; <b> Epochs: </b> 10 <br> </p> "
   ]
  },
  {
   "cell_type": "markdown",
   "metadata": {},
   "source": [
    "#### <strong> <font color = 'turquoise'> MyCNN 1 </font> </strong>"
   ]
  },
  {
   "cell_type": "code",
   "execution_count": 76,
   "metadata": {},
   "outputs": [
    {
     "data": {
      "image/png": "[encoded data removed]",
      "text/plain": [
       "<Figure size 576x360 with 1 Axes>"
      ]
     },
     "metadata": {
      "needs_background": "light"
     },
     "output_type": "display_data"
    }
   ],
   "source": [
    "plot_accuracy(model_history7)\n",
    "plt.title(\"MyCNN 1, Optimizer: adam, BatchSize = 128, epochs = 10\",size=10)\n",
    "plt.show()"
   ]
  },
  {
   "cell_type": "markdown",
   "metadata": {},
   "source": [
    "#### <strong> <font color = 'turquoise'> MyCNN 2 </font> </strong>"
   ]
  },
  {
   "cell_type": "code",
   "execution_count": 77,
   "metadata": {},
   "outputs": [
    {
     "data": {
      "image/png": "[encoded data removed]",
      "text/plain": [
       "<Figure size 576x360 with 1 Axes>"
      ]
     },
     "metadata": {
      "needs_background": "light"
     },
     "output_type": "display_data"
    }
   ],
   "source": [
    "plot_accuracy(model_history8)\n",
    "plt.title(\"MyCNN 2, Optimizer: RMSprop, BatchSize = 64, epochs = 10\",size=10)\n",
    "plt.show()"
   ]
  },
  {
   "cell_type": "markdown",
   "metadata": {},
   "source": [
    "<span style=\"font-size:25px\"> <b> <u> Συμπέρασμα </u> </b> </span > <br> <br>\n",
    "Βλέπουμε ότι ο πρώτος συνδυασμός έχει καλύτερα αποτελέσματα.\n",
    "\n",
    "><p style=\"font-size:18px;\"> &#8226; <b> optimizer: </b> adam <br>\n",
    "                            >&#8226; <b> loss: </b> sparse_categorical_crossentropy <br>\n",
    "                            >&#8226; <b> Batch size: </b> 128 <br>\n",
    "                            >&#8226; <b> Epochs: </b> 10 <br> </p> "
   ]
  },
  {
   "cell_type": "markdown",
   "metadata": {},
   "source": [
    "#### <strong>2. </strong>"
   ]
  },
  {
   "cell_type": "code",
   "execution_count": 83,
   "metadata": {},
   "outputs": [
    {
     "data": {
      "image/png": "[encoded data removed]",
      "text/plain": [
       "<Figure size 648x648 with 1 Axes>"
      ]
     },
     "metadata": {
      "needs_background": "light"
     },
     "output_type": "display_data"
    }
   ],
   "source": [
    "def plot_all(histories, labels):\n",
    "    fig = plt.figure(figsize=(9,9))\n",
    "    plt.title(\"Train and Validation Accuracy of Neural Network Models\")\n",
    "    i=0\n",
    "    colors = ['b','r','g','m','y']\n",
    "    for history in histories:\n",
    "        plt.plot(history.history['accuracy'], label=labels[i]+': accuracy', color=colors[i%5])\n",
    "        plt.plot(history.history['val_accuracy'], linestyle='dashed', label = labels[i] + ': val_accuracy',color=colors[i%5])\n",
    "        i+=1\n",
    "\n",
    "    plt.xlabel('Epochs')\n",
    "    plt.ylabel('Accuracy')\n",
    "    plt.legend(loc='lower right')\n",
    "\n",
    "plot_all([model_history1, model_history4, model_history6, model_history7], ['LeNet','AlexNet','VGG','MyCNN'])"
   ]
  },
  {
   "cell_type": "markdown",
   "metadata": {},
   "source": [
    "#### <strong>3. </strong>"
   ]
  },
  {
   "cell_type": "markdown",
   "metadata": {},
   "source": [
    "#### Επίδραση του πλήθους των δεδομένων στην απόδοση του μοντέλου\n",
    "\n",
    ">Πρατηρούμε ότι, σε συνδυασμό με την θεωρία, μεγαλύτερο πλήθος εικόνων εκπαίδευσης οδηγεί σε μεγαλύτερη ακρίβεια του δικτύου, καθώς στην περίπτωση που έχουμε λιγότερα παραδειγμάτων εκπαίδευσης το μοντέλο τίνει να μαθαίνει από θορύβους ή ανεπιθύμητες λεπτομέρειες μέσα από τα παραδείγματα αυτά, σε βαθμό που επηρεάζει αρνητικά την απόδοση του μοντέλου στο classification νέων δεδομένων (overfitting). Επιπλέον, η φόρτωση επιπλέον εικόνων επιβαρύνει αισθητά τη μνήμη του συστήματος και άρα την ταχύτητα εκπαίδευσης του δικτύου\n",
    "\n",
    "#### Επίδραση του πλήθους των κλάσεων στην απόδοση του μοντέλου\n",
    "\n",
    ">Παρατηρούμε ότι όταν έχουμε περισσότερες κλάσεις, μειώνεται η ακρίβεια του δικτύου. Αυτό συμβαίνει διότι με την αύξηση του αριθμού των κλάσεων, εικόνες που ανήκουν σε κλάσεις οι οποίες έχουν αρκετά κοινά στοιχεία μεταξύ τους είναι πιο δύσκολο να ταξινομηθούν καθώς αυξάνονται οι λεπτομέρειες οι οποίες οφείλονται για τον διαχωρισμό αυτό.\n",
    "\n",
    "#### Επίδραση του αλγορίθμου βελτιστοποίησης(optimizer)\n",
    "\n",
    ">Δοκιμάσαμε τους αλγορίθμους adam, sgd και RMSprop. Παρατηρήσαμε ότι ο adam έδωσε γενικάι καλύτερα αποτελέσματα από τους υπόλοιπους οδηγώντας σε μεγαλύτερες τιμές accuracy. Επιπρόσθετα, συμπεραίνουμε από τις γραφικές παραστάσεις ότι για όλους τους optimizers η γραφική της ορθότητας εκπαίδευσης δεν είχε απότομες μεταβολές, ενώ αντίθετα, η γραφική της ορθότητας επικύρωσης είχε έντονες μεταβολές στις περισσότερες περιπτώσεις για τον adam optimizer και ήταν ομαλή για τους υπολοίπους optimizers. Η μορφή των γραφικών παραστάσεων εξαρτάται από το πόσο γρήγορα κλιμακώνει η εκάστοτε ορθότητα και αν εμφανίζει έντονες αυξομοιώσεις κατά την διάρκεια της μεταγλώττισης, γεγονός που μπορεί να οφείλονται σε δυσκολίες εκπαίδευσης του νευρωνικού για ορισμένες κλάσεις.\n",
    "\n",
    "#### Επίδραση του μεγέθους δέσμης(batch size)\n",
    "\n",
    ">Σύμφωνα με την θεωρία, το batch size (μέγεθος παρτίδας) είναι το πλήθος των δειγμάτων εκπαίδευσης σε ένα πέρασμα εμπρός-πίσω. Συνεπώς, για μεγαλύτερο batch size να χρειάζονται λιγότερες επαναλήψεις ανα epoch και η εκπαίδευση του νευρωνικού ανά εποχή τερματίζει πιο γρήγορα. Γενικότερα μεγαλύτερο batch size επιτυγχάνει μικρότερο variance στο μοντέλο αφού κάθε φορά η ενημέρωση γίνεται βάσει πολλών εικόνων εισόδου. Από την άλλη, για μικρό batch size γίνονται περισσότερες επαναλήψεις ανα εποχή όπου σε κάθε επανάληψη τροφοδοτούμε το νευρωνικό με περισσότερη πληροφορία, γεγονός που οδηγεί σε αύξηση του accuracy. Επιπλέον, επιλέγοντας μικρότερο batch size σε συνδυασμό με τεχνικές μάθησης gradient descent, καταφέρνουμε να προσθέσουμε έξτρα θόρυβο στην εκπαίδευση του μοντέλου, προκειμένου αυτό να απεγκλωβίζεται με ευκολία από τοπικά ελάχιστα της συνάρτησης κριτηρίου. Εντούτοις, δεν συνηθίζουμε να επιλέγουμε πολυ μικρό batch size καθώς τα ποσοστά ευστοχίας ελαττώνονται."
   ]
  },
  {
   "cell_type": "markdown",
   "metadata": {},
   "source": [
    "----"
   ]
  },
  {
   "cell_type": "markdown",
   "metadata": {},
   "source": [
    "### <strong>Βήμα 3 </strong>"
   ]
  },
  {
   "cell_type": "markdown",
   "metadata": {},
   "source": [
    "<br> <span style=\"font-size:25px\"> <b> <u> LeNet </u> </b> </span > <br>"
   ]
  },
  {
   "cell_type": "code",
   "execution_count": 84,
   "metadata": {},
   "outputs": [
    {
     "name": "stdout",
     "output_type": "stream",
     "text": [
      "LeNet 1st Combination\n",
      "\n",
      "Test set Evaluation metrics\n",
      "20/20 [==============================] - 0s 12ms/step - loss: 2.1199 - accuracy: 0.3595\n",
      "Loss: 2.12\n",
      "Accuracy: 0.36\n",
      "\n",
      "LeNet 2nd Combination\n",
      "\n",
      "Test set Evaluation metrics\n",
      "20/20 [==============================] - 0s 14ms/step - loss: 2.9960 - accuracy: 0.0500\n",
      "Loss: 3.00\n",
      "Accuracy: 0.05\n"
     ]
    }
   ],
   "source": [
    "print(\"LeNet 1st Combination\")\n",
    "model_evaluation(LeNet1, 20)\n",
    "print(\"\\nLeNet 2nd Combination\")\n",
    "model_evaluation(LeNet2, 20)"
   ]
  },
  {
   "cell_type": "markdown",
   "metadata": {},
   "source": [
    "<br> <span style=\"font-size:25px\"> <b> <u> AlexNet </u> </b> </span > <br>"
   ]
  },
  {
   "cell_type": "code",
   "execution_count": 85,
   "metadata": {},
   "outputs": [
    {
     "name": "stdout",
     "output_type": "stream",
     "text": [
      "AlexNet 1st Combination\n",
      "\n",
      "Test set Evaluation metrics\n",
      "20/20 [==============================] - 6s 307ms/step - loss: 3.0935 - accuracy: 0.5000\n",
      "Loss: 3.09\n",
      "Accuracy: 0.50\n",
      "\n",
      "AlexNet 2nd Combination\n",
      "\n",
      "Test set Evaluation metrics\n",
      "20/20 [==============================] - 6s 309ms/step - loss: 2.1767 - accuracy: 0.5880\n",
      "Loss: 2.18\n",
      "Accuracy: 0.59\n"
     ]
    }
   ],
   "source": [
    "print(\"AlexNet 1st Combination\")\n",
    "model_evaluation(AlexNet1, 20)\n",
    "print(\"\\nAlexNet 2nd Combination\")\n",
    "model_evaluation(AlexNet2, 20)"
   ]
  },
  {
   "cell_type": "markdown",
   "metadata": {},
   "source": [
    "<br> <span style=\"font-size:25px\"> <b> <u> VGG </u> </b> </span > <br>"
   ]
  },
  {
   "cell_type": "code",
   "execution_count": 87,
   "metadata": {},
   "outputs": [
    {
     "name": "stdout",
     "output_type": "stream",
     "text": [
      "VGG 1st Combination\n",
      "\n",
      "Test set Evaluation metrics\n",
      "20/20 [==============================] - 246s 12s/step - loss: 2.7088 - accuracy: 0.4605\n",
      "Loss: 2.71\n",
      "Accuracy: 0.46\n",
      "\n",
      "VGG 2nd Combination\n",
      "\n",
      "Test set Evaluation metrics\n",
      "20/20 [==============================] - 253s 13s/step - loss: 1.4870 - accuracy: 0.6045\n",
      "Loss: 1.49\n",
      "Accuracy: 0.60\n"
     ]
    }
   ],
   "source": [
    "print(\"VGG 1st Combination\")\n",
    "model_evaluation(vgg1, 20)\n",
    "print(\"\\nVGG 2nd Combination\")\n",
    "model_evaluation(vgg2, 20)"
   ]
  },
  {
   "cell_type": "markdown",
   "metadata": {},
   "source": [
    "<br> <span style=\"font-size:25px\"> <b> <u> MyCNN </u> </b> </span > <br>"
   ]
  },
  {
   "cell_type": "code",
   "execution_count": 88,
   "metadata": {},
   "outputs": [
    {
     "name": "stdout",
     "output_type": "stream",
     "text": [
      "MyCNN 1st Combination\n",
      "\n",
      "Test set Evaluation metrics\n",
      "20/20 [==============================] - 6s 289ms/step - loss: 1.5400 - accuracy: 0.5665\n",
      "Loss: 1.54\n",
      "Accuracy: 0.57\n",
      "\n",
      "MyCNN 2nd Combination\n",
      "\n",
      "Test set Evaluation metrics\n",
      "20/20 [==============================] - 6s 292ms/step - loss: 8.8042 - accuracy: 0.0500\n",
      "Loss: 8.80\n",
      "Accuracy: 0.05\n"
     ]
    }
   ],
   "source": [
    "print(\"MyCNN 1st Combination\")\n",
    "model_evaluation(mycnn1, 20)\n",
    "print(\"\\nMyCNN 2nd Combination\")\n",
    "model_evaluation(mycnn2, 20)"
   ]
  },
  {
   "cell_type": "markdown",
   "metadata": {},
   "source": [
    "----\n",
    "## <div align = \"center\"> <strong> Ερώτημα 2 </strong> </div> </font> <br> "
   ]
  },
  {
   "cell_type": "markdown",
   "metadata": {},
   "source": [
    "### Επιλέγουμε το Combination 1 του MyCNN του ερωτήματος 1 και θα δοκιμάσουμε τους εξής 2 συνδυασμούς\n",
    "><p style=\"font-size:20px;\"> <b> <u> Συνδυασμός 1: </u> </b> </p>\n",
    "><p style=\"font-size:18px;\"> &#8226; </b> Early Stopping <br>\n",
    "                            >&#8226; </b> Dropout <br> \n",
    "><p style=\"font-size:20px;\"> <b> <u> Συνδυασμός 2: </u> </b> </p>\n",
    "><p style=\"font-size:18px;\"> &#8226; </b> Early Stopping <br>\n",
    "                            >&#8226; </b> Dropout <br>\n",
    "                            >&#8226; </b> Data Augmentation <br>"
   ]
  },
  {
   "cell_type": "markdown",
   "metadata": {},
   "source": [
    "### <strong>Βήμα 1 </strong>"
   ]
  },
  {
   "cell_type": "code",
   "execution_count": 16,
   "metadata": {},
   "outputs": [],
   "source": [
    "def MyCNN_dropout(combination):\n",
    "    if combination == 1:\n",
    "        loss = 'sparse_categorical_crossentropy'\n",
    "    else:\n",
    "        loss = 'categorical_crossentropy'\n",
    "\n",
    "    model = models.Sequential()\n",
    "    model.add(layers.Conv2D(128, (3,3), activation='relu', padding=\"same\", input_shape=(32, 32, 3)))\n",
    "    model.add(layers.BatchNormalization())\n",
    "    model.add(layers.Conv2D(128, (3, 3), activation='relu', padding='same'))\n",
    "    model.add(layers.MaxPooling2D((2, 2)))\n",
    "    model.add(layers.Dropout(0.05))\n",
    "    model.add(layers.BatchNormalization())\n",
    "    model.add(layers.Conv2D(256, (3, 3), activation='relu', padding='same'))\n",
    "    model.add(layers.BatchNormalization())\n",
    "    model.add(layers.MaxPooling2D((2, 2)))\n",
    "    model.add(layers.Dropout(0.2))\n",
    "    model.add(layers.Conv2D(512, (3, 3), activation='relu', padding='same'))\n",
    "    model.add(layers.BatchNormalization())\n",
    "    model.add(layers.Conv2D(256, (3, 3)))\n",
    "    model.add(layers.BatchNormalization())\n",
    "    model.add(layers.MaxPooling2D((2, 2)))\n",
    "    model.add(layers.Dropout(0.05))\n",
    "    model.add(layers.Flatten())\n",
    "    model.add(layers.Dense(2000, activation='relu'))\n",
    "    model.add(layers.Dropout(0.5))\n",
    "    model.add(layers.Dense(1000, activation='relu'))\n",
    "    model.add(layers.Dropout(0.5))\n",
    "    model.add(layers.Dense(20, activation='softmax'))\n",
    "    model.add(layers.Dropout(0.05))\n",
    "\n",
    "\n",
    "    model.compile(optimizer='adam', loss=loss, metrics=['accuracy'])\n",
    "    model.summary()\n",
    "    return model"
   ]
  },
  {
   "cell_type": "markdown",
   "metadata": {},
   "source": [
    "<br> <span style=\"font-size:25px\"> <b> <u> Dropout </u> </b> </span > <br>\n",
    "> Το πρόβλημα της υπερεκπαίδευσης στα νευρωνικά δίκτυα αντιμετοπίζεται με το Dropout. Μέσω της τεχνικής αυτής επιλέγουμε να αγνοήσουμε τυχαιοκρατικά συγκεκριμένες δομικές μονάδες του Νευρωνικού δικτύου, κατά τη διάρκεια της εκπαίδευσης του, επιβάλλοντας σε αυτές μηδενικά βάρη. Ουσιαστικά εννοούμε την προσωρινή αγνόηση του νευρώνα και τον εισερχόμενων και εξερχόμενων συνδέσεών του. Με αυτόν τον τρόπο, η κατανομή των τιμών που λαμβάνουν τα βάρη του νευρωνικού προσεγγίζουν την Κανονική Κατανομή (gaussian), και εντέλει περιορίζεται σε μεγάλο βαθμό το φαινόμενο του overfitting. Δημιουργούμε, λοιπόν, εκ νέου το μοντέλο MyCNN που έδωσε τα καλύτερα αποτελέσματα, εφοδιασμένο με τεχνικές dropout."
   ]
  },
  {
   "cell_type": "markdown",
   "metadata": {},
   "source": [
    "<br> <span style=\"font-size:25px\"> <b> <u> Early Stopping </u> </b> </span > <br>\n",
    "\n",
    ">Η τεχνική αυτή έχει ως αποτέλεσμα η εκπαίδευση του Νευρωνικού δικτύου να τερματίζεται όταν η απόδοση του παύει να βελτιώνεται μετά τη διέλευση κάποιων εποχών. Πιο συγκεκριμένα, παρακολουθεί την πορεία των καμπυλών της ορθότητας εκπαίδευσης και της ορθότητας επικύρωσης μέχρι και το σημείο που η απόσταση μεταξύ τους αρχίζει να αυξάνεται πάνω από κάποιο προκαθορισμένο όριο και τότε σταματάει την εκπαίδευση. Ως εκ τούτου, αποτρέπεται η εμφάνιση φαινομένων overfitting, ωστόσο το σφάλμα γενίκευσης τείνει να αυξηθεί. \n",
    "\n",
    "Εκπαιδεύσουμε το εφοδιασμένο με dropouts MyCNN με χρήση τεχνικών Early Stopping, και τερματίζουμε τη διαδικασία ύστερα από 3 διαδοχικές μειώσεις της απόδοσης."
   ]
  },
  {
   "cell_type": "markdown",
   "metadata": {},
   "source": [
    "#### <strong> <font color = 'turquoise'> Compile </font> </strong>"
   ]
  },
  {
   "cell_type": "code",
   "execution_count": 33,
   "metadata": {},
   "outputs": [
    {
     "name": "stdout",
     "output_type": "stream",
     "text": [
      "Model: \"sequential_6\"\n",
      "_________________________________________________________________\n",
      " Layer (type)                Output Shape              Param #   \n",
      "=================================================================\n",
      " conv2d_30 (Conv2D)          (None, 32, 32, 128)       3584      \n",
      "                                                                 \n",
      " batch_normalization_30 (Bat  (None, 32, 32, 128)      512       \n",
      " chNormalization)                                                \n",
      "                                                                 \n",
      " conv2d_31 (Conv2D)          (None, 32, 32, 128)       147584    \n",
      "                                                                 \n",
      " max_pooling2d_18 (MaxPoolin  (None, 16, 16, 128)      0         \n",
      " g2D)                                                            \n",
      "                                                                 \n",
      " dropout_30 (Dropout)        (None, 16, 16, 128)       0         \n",
      "                                                                 \n",
      " batch_normalization_31 (Bat  (None, 16, 16, 128)      512       \n",
      " chNormalization)                                                \n",
      "                                                                 \n",
      " conv2d_32 (Conv2D)          (None, 16, 16, 256)       295168    \n",
      "                                                                 \n",
      " batch_normalization_32 (Bat  (None, 16, 16, 256)      1024      \n",
      " chNormalization)                                                \n",
      "                                                                 \n",
      " max_pooling2d_19 (MaxPoolin  (None, 8, 8, 256)        0         \n",
      " g2D)                                                            \n",
      "                                                                 \n",
      " dropout_31 (Dropout)        (None, 8, 8, 256)         0         \n",
      "                                                                 \n",
      " conv2d_33 (Conv2D)          (None, 8, 8, 512)         1180160   \n",
      "                                                                 \n",
      " batch_normalization_33 (Bat  (None, 8, 8, 512)        2048      \n",
      " chNormalization)                                                \n",
      "                                                                 \n",
      " conv2d_34 (Conv2D)          (None, 6, 6, 256)         1179904   \n",
      "                                                                 \n",
      " batch_normalization_34 (Bat  (None, 6, 6, 256)        1024      \n",
      " chNormalization)                                                \n",
      "                                                                 \n",
      " max_pooling2d_20 (MaxPoolin  (None, 3, 3, 256)        0         \n",
      " g2D)                                                            \n",
      "                                                                 \n",
      " dropout_32 (Dropout)        (None, 3, 3, 256)         0         \n",
      "                                                                 \n",
      " flatten_6 (Flatten)         (None, 2304)              0         \n",
      "                                                                 \n",
      " dense_18 (Dense)            (None, 2000)              4610000   \n",
      "                                                                 \n",
      " dropout_33 (Dropout)        (None, 2000)              0         \n",
      "                                                                 \n",
      " dense_19 (Dense)            (None, 1000)              2001000   \n",
      "                                                                 \n",
      " dropout_34 (Dropout)        (None, 1000)              0         \n",
      "                                                                 \n",
      " dense_20 (Dense)            (None, 20)                20020     \n",
      "                                                                 \n",
      " dropout_35 (Dropout)        (None, 20)                0         \n",
      "                                                                 \n",
      "=================================================================\n",
      "Total params: 9,442,540\n",
      "Trainable params: 9,439,980\n",
      "Non-trainable params: 2,560\n",
      "_________________________________________________________________\n"
     ]
    }
   ],
   "source": [
    "mycnn3 = MyCNN_dropout(1)"
   ]
  },
  {
   "cell_type": "markdown",
   "metadata": {},
   "source": [
    "#### <strong> <font color = 'turquoise'> Training </font> </strong>"
   ]
  },
  {
   "cell_type": "code",
   "execution_count": 34,
   "metadata": {},
   "outputs": [
    {
     "name": "stdout",
     "output_type": "stream",
     "text": [
      "Epoch 1/50\n",
      "67/67 [==============================] - 144s 2s/step - loss: 3.6396 - accuracy: 0.1682 - val_loss: 3.9182 - val_accuracy: 0.0520\n",
      "Epoch 2/50\n",
      "67/67 [==============================] - 143s 2s/step - loss: 2.9984 - accuracy: 0.2765 - val_loss: 3.7969 - val_accuracy: 0.0507\n",
      "Epoch 3/50\n",
      "67/67 [==============================] - 136s 2s/step - loss: 2.7450 - accuracy: 0.3504 - val_loss: 3.1072 - val_accuracy: 0.0567\n",
      "Epoch 4/50\n",
      "67/67 [==============================] - 138s 2s/step - loss: 2.5449 - accuracy: 0.4138 - val_loss: 3.3430 - val_accuracy: 0.1100\n",
      "Epoch 5/50\n",
      "67/67 [==============================] - 141s 2s/step - loss: 2.3674 - accuracy: 0.4596 - val_loss: 3.9204 - val_accuracy: 0.0793\n",
      "Epoch 6/50\n",
      "67/67 [==============================] - 142s 2s/step - loss: 2.2218 - accuracy: 0.4965 - val_loss: 3.4145 - val_accuracy: 0.1327\n",
      "Epoch 7/50\n",
      "67/67 [==============================] - 136s 2s/step - loss: 2.1419 - accuracy: 0.5412 - val_loss: 2.3977 - val_accuracy: 0.2740\n",
      "Epoch 8/50\n",
      "67/67 [==============================] - 137s 2s/step - loss: 1.9173 - accuracy: 0.5798 - val_loss: 1.7894 - val_accuracy: 0.4753\n",
      "Epoch 9/50\n",
      "67/67 [==============================] - 135s 2s/step - loss: 1.8658 - accuracy: 0.6080 - val_loss: 1.8543 - val_accuracy: 0.4600\n",
      "Epoch 10/50\n",
      "67/67 [==============================] - 135s 2s/step - loss: 1.7215 - accuracy: 0.6354 - val_loss: 1.9251 - val_accuracy: 0.5273\n",
      "Epoch 11/50\n",
      "67/67 [==============================] - 135s 2s/step - loss: 1.6228 - accuracy: 0.6621 - val_loss: 2.1112 - val_accuracy: 0.4727\n",
      "Epoch 12/50\n",
      "67/67 [==============================] - 139s 2s/step - loss: 1.4815 - accuracy: 0.6968 - val_loss: 1.4795 - val_accuracy: 0.6127\n",
      "Epoch 13/50\n",
      "67/67 [==============================] - 137s 2s/step - loss: 1.3723 - accuracy: 0.7119 - val_loss: 1.5140 - val_accuracy: 0.6167\n",
      "Epoch 14/50\n",
      "67/67 [==============================] - 134s 2s/step - loss: 1.3104 - accuracy: 0.7319 - val_loss: 1.2885 - val_accuracy: 0.6760\n",
      "Epoch 15/50\n",
      "67/67 [==============================] - 135s 2s/step - loss: 1.2332 - accuracy: 0.7524 - val_loss: 2.4877 - val_accuracy: 0.5493\n",
      "Epoch 16/50\n",
      "67/67 [==============================] - 139s 2s/step - loss: 1.0985 - accuracy: 0.7744 - val_loss: 1.7689 - val_accuracy: 0.6380\n",
      "Epoch 17/50\n",
      "67/67 [==============================] - 136s 2s/step - loss: 1.0969 - accuracy: 0.7901 - val_loss: 2.1016 - val_accuracy: 0.6240\n",
      "Epoch 18/50\n",
      "67/67 [==============================] - 138s 2s/step - loss: 1.0127 - accuracy: 0.7968 - val_loss: 1.7951 - val_accuracy: 0.6660\n",
      "Epoch 19/50\n",
      "67/67 [==============================] - 138s 2s/step - loss: 0.9217 - accuracy: 0.8199 - val_loss: 2.0045 - val_accuracy: 0.6687\n",
      "Epoch 20/50\n",
      "67/67 [==============================] - 137s 2s/step - loss: 0.8608 - accuracy: 0.8334 - val_loss: 1.7548 - val_accuracy: 0.6733\n",
      "Epoch 21/50\n",
      "67/67 [==============================] - 138s 2s/step - loss: 0.8092 - accuracy: 0.8381 - val_loss: 2.6024 - val_accuracy: 0.5733\n",
      "Epoch 22/50\n",
      "67/67 [==============================] - 142s 2s/step - loss: 0.7899 - accuracy: 0.8458 - val_loss: 2.4224 - val_accuracy: 0.6427\n",
      "Epoch 23/50\n",
      "67/67 [==============================] - 138s 2s/step - loss: 0.6850 - accuracy: 0.8606 - val_loss: 2.0594 - val_accuracy: 0.6680\n",
      "Epoch 24/50\n",
      "67/67 [==============================] - 141s 2s/step - loss: 0.6133 - accuracy: 0.8732 - val_loss: 2.8440 - val_accuracy: 0.6220\n",
      "Epoch 25/50\n",
      "67/67 [==============================] - 136s 2s/step - loss: 0.6052 - accuracy: 0.8762 - val_loss: 2.9633 - val_accuracy: 0.5920\n",
      "Epoch 26/50\n",
      "67/67 [==============================] - 139s 2s/step - loss: 0.7176 - accuracy: 0.8639 - val_loss: 2.3816 - val_accuracy: 0.6220\n",
      "Epoch 27/50\n",
      "67/67 [==============================] - 136s 2s/step - loss: 0.6419 - accuracy: 0.8774 - val_loss: 2.3493 - val_accuracy: 0.6393\n",
      "Epoch 28/50\n",
      "67/67 [==============================] - 138s 2s/step - loss: 0.5923 - accuracy: 0.8846 - val_loss: 3.4656 - val_accuracy: 0.6307\n",
      "Epoch 29/50\n",
      "67/67 [==============================] - 138s 2s/step - loss: 0.5213 - accuracy: 0.8972 - val_loss: 2.9805 - val_accuracy: 0.5780\n",
      "Epoch 30/50\n",
      "67/67 [==============================] - 134s 2s/step - loss: 0.5458 - accuracy: 0.8935 - val_loss: 1.9883 - val_accuracy: 0.6933\n",
      "Epoch 31/50\n",
      "67/67 [==============================] - 135s 2s/step - loss: 0.5148 - accuracy: 0.8974 - val_loss: 2.3300 - val_accuracy: 0.7007\n",
      "Epoch 32/50\n",
      "67/67 [==============================] - 134s 2s/step - loss: 0.5074 - accuracy: 0.8980 - val_loss: 2.7634 - val_accuracy: 0.6613\n",
      "Epoch 33/50\n",
      "67/67 [==============================] - 137s 2s/step - loss: 0.4788 - accuracy: 0.9029 - val_loss: 2.1794 - val_accuracy: 0.6933\n",
      "Epoch 34/50\n",
      "67/67 [==============================] - 139s 2s/step - loss: 0.4442 - accuracy: 0.9107 - val_loss: 3.9382 - val_accuracy: 0.6120\n",
      "Epoch 35/50\n",
      "67/67 [==============================] - 136s 2s/step - loss: 0.4486 - accuracy: 0.9104 - val_loss: 2.3727 - val_accuracy: 0.7007\n",
      "Epoch 36/50\n",
      "67/67 [==============================] - 136s 2s/step - loss: 0.4412 - accuracy: 0.9096 - val_loss: 2.7205 - val_accuracy: 0.6613\n",
      "Epoch 37/50\n",
      "67/67 [==============================] - 134s 2s/step - loss: 0.4092 - accuracy: 0.9115 - val_loss: 3.0627 - val_accuracy: 0.6493\n",
      "Epoch 38/50\n",
      "67/67 [==============================] - 135s 2s/step - loss: 0.4034 - accuracy: 0.9151 - val_loss: 2.8494 - val_accuracy: 0.6533\n",
      "Epoch 39/50\n",
      "67/67 [==============================] - 134s 2s/step - loss: 0.3893 - accuracy: 0.9193 - val_loss: 3.2122 - val_accuracy: 0.6593\n",
      "Epoch 40/50\n",
      "67/67 [==============================] - 133s 2s/step - loss: 0.3920 - accuracy: 0.9213 - val_loss: 2.6266 - val_accuracy: 0.6907\n",
      "Epoch 41/50\n",
      "67/67 [==============================] - 135s 2s/step - loss: 0.3986 - accuracy: 0.9139 - val_loss: 2.4697 - val_accuracy: 0.6853\n",
      "Epoch 42/50\n",
      "67/67 [==============================] - 133s 2s/step - loss: 0.4170 - accuracy: 0.9133 - val_loss: 3.0443 - val_accuracy: 0.6407\n"
     ]
    }
   ],
   "source": [
    "callback = tf.keras.callbacks.EarlyStopping(monitor='loss', patience=3)\n",
    "\n",
    "model_history9 = mycnn3.fit(x_train, y_train, epochs=50, batch_size=128, validation_data=(x_val, y_val), callbacks = callback) # 50 epochs\n",
    "\n",
    "mycnn3.save('mycnn3_earlystop.h5')"
   ]
  },
  {
   "cell_type": "markdown",
   "metadata": {},
   "source": [
    "<br> <span style=\"font-size:25px\"> <b> <u> Data Augmentation </u> </b> </span > <br>\n",
    "> Ένας τρόπος να αντιμετωπιστεί το πρόβλημα ανεπάρκειας δεδομένων εκπαίδευσης, δηλαδή το overfitting, είναι μέσω της τεχνικής Data Augmentation, όπου δημιουργούνται νέα δεδομένα, εφαρμόζωντας τυχαίους μετασχηματισμούς στα ήδη υπαρκτά. Πρακτικά χρησιμοποιούμε το αρχικό training dataset και στην συνέχεια δημιουργούμε τροποποιημένα αντίγραφά του. Έτσι μπορούμε να κάνουμε rotate, flip, scale, crop και να προσθέσουμε θόρυβο στα δεδομένα."
   ]
  },
  {
   "cell_type": "code",
   "execution_count": 17,
   "metadata": {},
   "outputs": [],
   "source": [
    "from keras.utils import to_categorical"
   ]
  },
  {
   "cell_type": "code",
   "execution_count": 18,
   "metadata": {},
   "outputs": [],
   "source": [
    "# Apply data augmentation\n",
    "y_train_aug = to_categorical(y_train, 20)\n",
    "y_test_aug = to_categorical(y_test, 20)\n",
    "y_val_aug = to_categorical(y_val, 20)\n",
    "\n",
    "# Data generator for train and validation set\n",
    "data_generator = tf.keras.preprocessing.image.ImageDataGenerator(\n",
    "    featurewise_center=True,\n",
    "    featurewise_std_normalization=True,\n",
    "    rotation_range=10,\n",
    "    width_shift_range=0.1,\n",
    "    height_shift_range=0.1,\n",
    "    horizontal_flip=True,\n",
    "    zoom_range=0.2)\n",
    "\n",
    "# Data generator for test set\n",
    "test_data_generator = tf.keras.preprocessing.image.ImageDataGenerator(rescale=1./255)\n",
    "\n",
    "# compute quantities required for featurewise normalization (std, mean, and principal components)\n",
    "data_generator.fit(x_train)"
   ]
  },
  {
   "cell_type": "markdown",
   "metadata": {},
   "source": [
    "#### <strong> <font color = 'turquoise'> Compile </font> </strong>"
   ]
  },
  {
   "cell_type": "code",
   "execution_count": 51,
   "metadata": {},
   "outputs": [
    {
     "name": "stdout",
     "output_type": "stream",
     "text": [
      "Model: \"sequential_10\"\n",
      "_________________________________________________________________\n",
      " Layer (type)                Output Shape              Param #   \n",
      "=================================================================\n",
      " conv2d_50 (Conv2D)          (None, 32, 32, 128)       3584      \n",
      "                                                                 \n",
      " batch_normalization_50 (Bat  (None, 32, 32, 128)      512       \n",
      " chNormalization)                                                \n",
      "                                                                 \n",
      " conv2d_51 (Conv2D)          (None, 32, 32, 128)       147584    \n",
      "                                                                 \n",
      " max_pooling2d_30 (MaxPoolin  (None, 16, 16, 128)      0         \n",
      " g2D)                                                            \n",
      "                                                                 \n",
      " dropout_54 (Dropout)        (None, 16, 16, 128)       0         \n",
      "                                                                 \n",
      " batch_normalization_51 (Bat  (None, 16, 16, 128)      512       \n",
      " chNormalization)                                                \n",
      "                                                                 \n",
      " conv2d_52 (Conv2D)          (None, 16, 16, 256)       295168    \n",
      "                                                                 \n",
      " batch_normalization_52 (Bat  (None, 16, 16, 256)      1024      \n",
      " chNormalization)                                                \n",
      "                                                                 \n",
      " max_pooling2d_31 (MaxPoolin  (None, 8, 8, 256)        0         \n",
      " g2D)                                                            \n",
      "                                                                 \n",
      " dropout_55 (Dropout)        (None, 8, 8, 256)         0         \n",
      "                                                                 \n",
      " conv2d_53 (Conv2D)          (None, 8, 8, 512)         1180160   \n",
      "                                                                 \n",
      " batch_normalization_53 (Bat  (None, 8, 8, 512)        2048      \n",
      " chNormalization)                                                \n",
      "                                                                 \n",
      " conv2d_54 (Conv2D)          (None, 6, 6, 256)         1179904   \n",
      "                                                                 \n",
      " batch_normalization_54 (Bat  (None, 6, 6, 256)        1024      \n",
      " chNormalization)                                                \n",
      "                                                                 \n",
      " max_pooling2d_32 (MaxPoolin  (None, 3, 3, 256)        0         \n",
      " g2D)                                                            \n",
      "                                                                 \n",
      " dropout_56 (Dropout)        (None, 3, 3, 256)         0         \n",
      "                                                                 \n",
      " flatten_10 (Flatten)        (None, 2304)              0         \n",
      "                                                                 \n",
      " dense_30 (Dense)            (None, 2000)              4610000   \n",
      "                                                                 \n",
      " dropout_57 (Dropout)        (None, 2000)              0         \n",
      "                                                                 \n",
      " dense_31 (Dense)            (None, 1000)              2001000   \n",
      "                                                                 \n",
      " dropout_58 (Dropout)        (None, 1000)              0         \n",
      "                                                                 \n",
      " dense_32 (Dense)            (None, 20)                20020     \n",
      "                                                                 \n",
      " dropout_59 (Dropout)        (None, 20)                0         \n",
      "                                                                 \n",
      "=================================================================\n",
      "Total params: 9,442,540\n",
      "Trainable params: 9,439,980\n",
      "Non-trainable params: 2,560\n",
      "_________________________________________________________________\n"
     ]
    }
   ],
   "source": [
    "mycnn4 = MyCNN_dropout(2)"
   ]
  },
  {
   "cell_type": "markdown",
   "metadata": {},
   "source": [
    "#### <strong> <font color = 'turquoise'> Training </font> </strong>"
   ]
  },
  {
   "cell_type": "code",
   "execution_count": 52,
   "metadata": {},
   "outputs": [
    {
     "name": "stdout",
     "output_type": "stream",
     "text": [
      "Epoch 1/50\n",
      "66/66 [==============================] - 123s 2s/step - loss: 3.9763 - accuracy: 0.1491 - val_loss: 2.8924 - val_accuracy: 0.1433\n",
      "Epoch 2/50\n",
      "66/66 [==============================] - 121s 2s/step - loss: 3.3170 - accuracy: 0.2067 - val_loss: 3.1870 - val_accuracy: 0.1127\n",
      "Epoch 3/50\n",
      "66/66 [==============================] - 122s 2s/step - loss: 3.0417 - accuracy: 0.2688 - val_loss: 2.9159 - val_accuracy: 0.1347\n",
      "Epoch 4/50\n",
      "66/66 [==============================] - 123s 2s/step - loss: 2.9454 - accuracy: 0.3099 - val_loss: 3.1399 - val_accuracy: 0.1393\n",
      "Epoch 5/50\n",
      "66/66 [==============================] - 123s 2s/step - loss: 2.8186 - accuracy: 0.3440 - val_loss: 2.7812 - val_accuracy: 0.2247\n",
      "Epoch 6/50\n",
      "66/66 [==============================] - 123s 2s/step - loss: 2.7137 - accuracy: 0.3686 - val_loss: 2.2632 - val_accuracy: 0.3333\n",
      "Epoch 7/50\n",
      "66/66 [==============================] - 124s 2s/step - loss: 2.6253 - accuracy: 0.4019 - val_loss: 2.0143 - val_accuracy: 0.3987\n",
      "Epoch 8/50\n",
      "66/66 [==============================] - 124s 2s/step - loss: 2.5110 - accuracy: 0.4315 - val_loss: 1.8213 - val_accuracy: 0.4560\n",
      "Epoch 9/50\n",
      "66/66 [==============================] - 125s 2s/step - loss: 2.5129 - accuracy: 0.4509 - val_loss: 1.7204 - val_accuracy: 0.4913\n",
      "Epoch 10/50\n",
      "66/66 [==============================] - 124s 2s/step - loss: 2.3391 - accuracy: 0.4827 - val_loss: 1.6479 - val_accuracy: 0.5380\n",
      "Epoch 11/50\n",
      "66/66 [==============================] - 124s 2s/step - loss: 2.2980 - accuracy: 0.4982 - val_loss: 1.6071 - val_accuracy: 0.5280\n",
      "Epoch 12/50\n",
      "66/66 [==============================] - 125s 2s/step - loss: 2.2213 - accuracy: 0.5166 - val_loss: 1.6691 - val_accuracy: 0.5320\n",
      "Epoch 13/50\n",
      "66/66 [==============================] - 125s 2s/step - loss: 2.1798 - accuracy: 0.5398 - val_loss: 1.5554 - val_accuracy: 0.5647\n",
      "Epoch 14/50\n",
      "66/66 [==============================] - 124s 2s/step - loss: 2.1573 - accuracy: 0.5439 - val_loss: 1.4900 - val_accuracy: 0.5607\n",
      "Epoch 15/50\n",
      "66/66 [==============================] - 126s 2s/step - loss: 2.0612 - accuracy: 0.5724 - val_loss: 1.4286 - val_accuracy: 0.5787\n",
      "Epoch 16/50\n",
      "66/66 [==============================] - 127s 2s/step - loss: 1.9792 - accuracy: 0.5975 - val_loss: 1.3876 - val_accuracy: 0.5853\n",
      "Epoch 17/50\n",
      "66/66 [==============================] - 127s 2s/step - loss: 1.9451 - accuracy: 0.6015 - val_loss: 1.4322 - val_accuracy: 0.6133\n",
      "Epoch 18/50\n",
      "66/66 [==============================] - 127s 2s/step - loss: 1.9357 - accuracy: 0.6245 - val_loss: 1.2619 - val_accuracy: 0.6513\n",
      "Epoch 19/50\n",
      "66/66 [==============================] - 127s 2s/step - loss: 1.8896 - accuracy: 0.6289 - val_loss: 1.2734 - val_accuracy: 0.6133\n",
      "Epoch 20/50\n",
      "66/66 [==============================] - 127s 2s/step - loss: 1.8850 - accuracy: 0.6461 - val_loss: 1.3579 - val_accuracy: 0.6320\n",
      "Epoch 21/50\n",
      "66/66 [==============================] - 127s 2s/step - loss: 1.8179 - accuracy: 0.6582 - val_loss: 1.0735 - val_accuracy: 0.7027\n",
      "Epoch 22/50\n",
      "66/66 [==============================] - 128s 2s/step - loss: nan - accuracy: 0.4734 - val_loss: nan - val_accuracy: 0.0400\n",
      "Epoch 23/50\n",
      "66/66 [==============================] - 124s 2s/step - loss: nan - accuracy: 0.0518 - val_loss: nan - val_accuracy: 0.0400\n",
      "Epoch 24/50\n",
      "66/66 [==============================] - 124s 2s/step - loss: nan - accuracy: 0.0518 - val_loss: nan - val_accuracy: 0.0400\n"
     ]
    }
   ],
   "source": [
    "callback = tf.keras.callbacks.EarlyStopping(monitor='loss', patience=3)\n",
    "\n",
    "model_history10 = mycnn4.fit(data_generator.flow(x_train, y_train_aug, batch_size=128),\n",
    "                    steps_per_epoch=len(x_train)/128, epochs=50,\n",
    "                    validation_data=data_generator.flow(x_val, y_val_aug, batch_size=128),\n",
    "                    validation_steps = len(x_val)/128, callbacks=callback) # 50 epochs\n",
    "\n",
    "mycnn4.save('mycnn4_final.h5')"
   ]
  },
  {
   "cell_type": "markdown",
   "metadata": {},
   "source": [
    "----\n",
    "### <strong>Βήμα 2 </strong>"
   ]
  },
  {
   "cell_type": "markdown",
   "metadata": {},
   "source": [
    "#### <strong> <font color = 'turquoise'> Early Stopping - Dropout </font> </strong>"
   ]
  },
  {
   "cell_type": "code",
   "execution_count": 53,
   "metadata": {},
   "outputs": [
    {
     "data": {
      "image/png": "[encoded data removed]",
      "text/plain": [
       "<Figure size 576x360 with 1 Axes>"
      ]
     },
     "metadata": {
      "needs_background": "light"
     },
     "output_type": "display_data"
    }
   ],
   "source": [
    "plot_accuracy(model_history9)\n",
    "plt.title(\"MyCNN 2, με τεχνικές dropout και early stopping\")\n",
    "plt.show()"
   ]
  },
  {
   "cell_type": "code",
   "execution_count": 54,
   "metadata": {},
   "outputs": [
    {
     "name": "stdout",
     "output_type": "stream",
     "text": [
      "MyCNN Model - Dropout, Early Stopping\n",
      "Validation set evaluation metrics\n",
      "47/47 [==============================] - 5s 107ms/step - loss: 3.0443 - accuracy: 0.6407\n",
      "Loss: 3.04\n",
      "Accuracy: 0.64\n",
      "\n",
      "Test set Evaluation metrics\n",
      "63/63 [==============================] - 7s 108ms/step - loss: 2.9796 - accuracy: 0.6495\n",
      "Loss: 2.98\n",
      "Accuracy: 0.65\n"
     ]
    }
   ],
   "source": [
    "print(\"MyCNN Model - Dropout, Early Stopping\")\n",
    "\n",
    "print('Validation set evaluation metrics')\n",
    "loss, accuracy = mycnn3.evaluate(x_val, y_val)\n",
    "print(\"Loss: {:.2f}\".format(loss))\n",
    "print(\"Accuracy: {:.2f}\".format(accuracy))\n",
    "\n",
    "print('\\nTest set Evaluation metrics')\n",
    "loss, accuracy = mycnn3.evaluate(x_test, y_test)\n",
    "print(\"Loss: {:.2f}\".format(loss))\n",
    "print(\"Accuracy: {:.2f}\".format(accuracy))"
   ]
  },
  {
   "cell_type": "markdown",
   "metadata": {},
   "source": [
    "#### <strong> <font color = 'turquoise'> Early Stopping - Dropout - Data Augmentation </font> </strong>"
   ]
  },
  {
   "cell_type": "code",
   "execution_count": 55,
   "metadata": {},
   "outputs": [
    {
     "data": {
      "image/png": "[encoded data removed]",
      "text/plain": [
       "<Figure size 576x360 with 1 Axes>"
      ]
     },
     "metadata": {
      "needs_background": "light"
     },
     "output_type": "display_data"
    }
   ],
   "source": [
    "plot_accuracy(model_history10)\n",
    "plt.title(\"MyCNN 2, με τεχνικές dropout, early stopping και data augmentation\")\n",
    "plt.show()"
   ]
  },
  {
   "cell_type": "code",
   "execution_count": 56,
   "metadata": {},
   "outputs": [
    {
     "name": "stdout",
     "output_type": "stream",
     "text": [
      "\n",
      " MyCNN Model - Dropout, Early Stopping, Data Augmentation\n",
      "Validation set evaluation metrics\n",
      "12/12 [==============================] - 5s 373ms/step - loss: nan - accuracy: 0.0400\n",
      "Loss: nan\n",
      "Accuracy: 0.04\n",
      "\n",
      "Test set evaluation metrics\n",
      "16/16 [==============================] - 6s 381ms/step - loss: nan - accuracy: 0.0500\n",
      "Loss: nan\n",
      "Accuracy: 0.05\n"
     ]
    }
   ],
   "source": [
    "print(\"\\n MyCNN Model - Dropout, Early Stopping, Data Augmentation\")\n",
    "\n",
    "print('Validation set evaluation metrics')\n",
    "loss, accuracy = mycnn4.evaluate(data_generator.flow(x_val, y_val_aug, batch_size=128))\n",
    "print(\"Loss: {:.2f}\".format(loss))\n",
    "print(\"Accuracy: {:.2f}\".format(accuracy))\n",
    "\n",
    "print('\\nTest set evaluation metrics')\n",
    "loss, accuracy = mycnn4.evaluate(data_generator.flow(x_test, y_test_aug, batch_size=128))\n",
    "print(\"Loss: {:.2f}\".format(loss))\n",
    "print(\"Accuracy: {:.2f}\".format(accuracy))"
   ]
  },
  {
   "cell_type": "markdown",
   "metadata": {},
   "source": [
    "><span style=\"font-size:21px\"><strong>Ο συνδυασμός Dropout και Early Stopping φαίνεται να λειτουργεί ορθότερα.</strong></span>"
   ]
  },
  {
   "cell_type": "markdown",
   "metadata": {},
   "source": [
    "----\n",
    "## <div align = \"center\"> <strong> Ερώτημα 3 </strong> </div> </font> <br> "
   ]
  },
  {
   "cell_type": "markdown",
   "metadata": {},
   "source": [
    "### <strong>Βήμα 1 </strong>\n",
    "#### <strong>1. </strong>\n",
    "Ο καλύτερος συνδυασμός στο ερώτημα 2 ήταν ο πρώτος."
   ]
  },
  {
   "cell_type": "code",
   "execution_count": 19,
   "metadata": {},
   "outputs": [
    {
     "name": "stdout",
     "output_type": "stream",
     "text": [
      "Model: \"vgg16\"\n",
      "_________________________________________________________________\n",
      " Layer (type)                Output Shape              Param #   \n",
      "=================================================================\n",
      " input_1 (InputLayer)        [(None, 32, 32, 3)]       0         \n",
      "                                                                 \n",
      " block1_conv1 (Conv2D)       (None, 32, 32, 64)        1792      \n",
      "                                                                 \n",
      " block1_conv2 (Conv2D)       (None, 32, 32, 64)        36928     \n",
      "                                                                 \n",
      " block1_pool (MaxPooling2D)  (None, 16, 16, 64)        0         \n",
      "                                                                 \n",
      " block2_conv1 (Conv2D)       (None, 16, 16, 128)       73856     \n",
      "                                                                 \n",
      " block2_conv2 (Conv2D)       (None, 16, 16, 128)       147584    \n",
      "                                                                 \n",
      " block2_pool (MaxPooling2D)  (None, 8, 8, 128)         0         \n",
      "                                                                 \n",
      " block3_conv1 (Conv2D)       (None, 8, 8, 256)         295168    \n",
      "                                                                 \n",
      " block3_conv2 (Conv2D)       (None, 8, 8, 256)         590080    \n",
      "                                                                 \n",
      " block3_conv3 (Conv2D)       (None, 8, 8, 256)         590080    \n",
      "                                                                 \n",
      " block3_pool (MaxPooling2D)  (None, 4, 4, 256)         0         \n",
      "                                                                 \n",
      " block4_conv1 (Conv2D)       (None, 4, 4, 512)         1180160   \n",
      "                                                                 \n",
      " block4_conv2 (Conv2D)       (None, 4, 4, 512)         2359808   \n",
      "                                                                 \n",
      " block4_conv3 (Conv2D)       (None, 4, 4, 512)         2359808   \n",
      "                                                                 \n",
      " block4_pool (MaxPooling2D)  (None, 2, 2, 512)         0         \n",
      "                                                                 \n",
      " block5_conv1 (Conv2D)       (None, 2, 2, 512)         2359808   \n",
      "                                                                 \n",
      " block5_conv2 (Conv2D)       (None, 2, 2, 512)         2359808   \n",
      "                                                                 \n",
      " block5_conv3 (Conv2D)       (None, 2, 2, 512)         2359808   \n",
      "                                                                 \n",
      " block5_pool (MaxPooling2D)  (None, 1, 1, 512)         0         \n",
      "                                                                 \n",
      "=================================================================\n",
      "Total params: 14,714,688\n",
      "Trainable params: 0\n",
      "Non-trainable params: 14,714,688\n",
      "_________________________________________________________________\n"
     ]
    }
   ],
   "source": [
    "pretrained_model = tf.keras.applications.VGG16(\n",
    "    include_top=False, weights='imagenet', input_tensor=None, input_shape=(32,32,3),\n",
    "    pooling=max, classes=20\n",
    ")\n",
    "pretrained_model.trainable=False\n",
    "pretrained_model.summary()"
   ]
  },
  {
   "cell_type": "code",
   "execution_count": 20,
   "metadata": {},
   "outputs": [],
   "source": [
    "def transfer_model_compile():\n",
    "    \n",
    "    model = models.Sequential([pretrained_model])\n",
    "    model.add(layers.Flatten())\n",
    "    model.add(layers.Dense(2000, activation='relu'))\n",
    "    model.add(layers.Dropout(0.5))\n",
    "    model.add(layers.Dense(1000, activation='relu'))\n",
    "    model.add(layers.Dropout(0.5))\n",
    "    model.add(layers.Dense(20, activation='softmax'))\n",
    "    model.add(layers.Dropout(0.05))\n",
    "    \n",
    "    model.compile(optimizer='adam', loss='categorical_crossentropy', metrics=['accuracy'])\n",
    "    model.summary()\n",
    "    return model"
   ]
  },
  {
   "cell_type": "markdown",
   "metadata": {},
   "source": [
    "#### <strong> <font color = 'turquoise'> Compile </font> </strong>"
   ]
  },
  {
   "cell_type": "code",
   "execution_count": 21,
   "metadata": {},
   "outputs": [
    {
     "name": "stdout",
     "output_type": "stream",
     "text": [
      "Model: \"sequential\"\n",
      "_________________________________________________________________\n",
      " Layer (type)                Output Shape              Param #   \n",
      "=================================================================\n",
      " vgg16 (Functional)          (None, 1, 1, 512)         14714688  \n",
      "                                                                 \n",
      " flatten (Flatten)           (None, 512)               0         \n",
      "                                                                 \n",
      " dense (Dense)               (None, 2000)              1026000   \n",
      "                                                                 \n",
      " dropout (Dropout)           (None, 2000)              0         \n",
      "                                                                 \n",
      " dense_1 (Dense)             (None, 1000)              2001000   \n",
      "                                                                 \n",
      " dropout_1 (Dropout)         (None, 1000)              0         \n",
      "                                                                 \n",
      " dense_2 (Dense)             (None, 20)                20020     \n",
      "                                                                 \n",
      " dropout_2 (Dropout)         (None, 20)                0         \n",
      "                                                                 \n",
      "=================================================================\n",
      "Total params: 17,761,708\n",
      "Trainable params: 3,047,020\n",
      "Non-trainable params: 14,714,688\n",
      "_________________________________________________________________\n"
     ]
    }
   ],
   "source": [
    "transfer_model1 = transfer_model_compile()"
   ]
  },
  {
   "cell_type": "markdown",
   "metadata": {},
   "source": [
    "#### <strong> <font color = 'turquoise'> Training </font> </strong>"
   ]
  },
  {
   "cell_type": "code",
   "execution_count": 66,
   "metadata": {},
   "outputs": [
    {
     "name": "stdout",
     "output_type": "stream",
     "text": [
      "Epoch 1/25\n",
      "66/66 [==============================] - 27s 399ms/step - loss: 2.7172 - accuracy: 0.3678 - val_loss: 1.5568 - val_accuracy: 0.5247\n",
      "Epoch 2/25\n",
      "66/66 [==============================] - 26s 389ms/step - loss: 2.2625 - accuracy: 0.5005 - val_loss: 1.4542 - val_accuracy: 0.5493\n",
      "Epoch 3/25\n",
      "66/66 [==============================] - 26s 388ms/step - loss: 2.1998 - accuracy: 0.5247 - val_loss: 1.3619 - val_accuracy: 0.5813\n",
      "Epoch 4/25\n",
      "66/66 [==============================] - 26s 391ms/step - loss: 2.0870 - accuracy: 0.5518 - val_loss: 1.3636 - val_accuracy: 0.5900\n",
      "Epoch 5/25\n",
      "66/66 [==============================] - 26s 390ms/step - loss: 2.0097 - accuracy: 0.5667 - val_loss: 1.3720 - val_accuracy: 0.5667\n",
      "Epoch 6/25\n",
      "66/66 [==============================] - 26s 391ms/step - loss: 1.9801 - accuracy: 0.5813 - val_loss: 1.3425 - val_accuracy: 0.5900\n",
      "Epoch 7/25\n",
      "66/66 [==============================] - 26s 392ms/step - loss: 1.9499 - accuracy: 0.5900 - val_loss: 1.3080 - val_accuracy: 0.5987\n",
      "Epoch 8/25\n",
      "66/66 [==============================] - 26s 392ms/step - loss: 1.9393 - accuracy: 0.6015 - val_loss: 1.3063 - val_accuracy: 0.6080\n",
      "Epoch 9/25\n",
      "66/66 [==============================] - 26s 393ms/step - loss: 1.8605 - accuracy: 0.6075 - val_loss: 1.2835 - val_accuracy: 0.6140\n",
      "Epoch 10/25\n",
      "66/66 [==============================] - 30s 457ms/step - loss: 1.7915 - accuracy: 0.6178 - val_loss: 1.3419 - val_accuracy: 0.5920\n",
      "Epoch 11/25\n",
      "66/66 [==============================] - 30s 458ms/step - loss: 1.8571 - accuracy: 0.6286 - val_loss: 1.3056 - val_accuracy: 0.6040\n",
      "Epoch 12/25\n",
      "66/66 [==============================] - 28s 418ms/step - loss: 1.7867 - accuracy: 0.6389 - val_loss: 1.2996 - val_accuracy: 0.6100\n",
      "Epoch 13/25\n",
      "66/66 [==============================] - 27s 408ms/step - loss: 1.7407 - accuracy: 0.6509 - val_loss: 1.2338 - val_accuracy: 0.6313\n",
      "Epoch 14/25\n",
      "66/66 [==============================] - 27s 404ms/step - loss: 1.6985 - accuracy: 0.6549 - val_loss: 1.2985 - val_accuracy: 0.6200\n",
      "Epoch 15/25\n",
      "66/66 [==============================] - 27s 407ms/step - loss: 1.7388 - accuracy: 0.6579 - val_loss: 1.3283 - val_accuracy: 0.6173\n",
      "Epoch 16/25\n",
      "66/66 [==============================] - 27s 407ms/step - loss: 1.7169 - accuracy: 0.6625 - val_loss: 1.3058 - val_accuracy: 0.5967\n",
      "Epoch 17/25\n",
      "66/66 [==============================] - 27s 404ms/step - loss: 1.6673 - accuracy: 0.6712 - val_loss: 1.3164 - val_accuracy: 0.6053\n",
      "Epoch 18/25\n",
      "66/66 [==============================] - 27s 407ms/step - loss: 1.6433 - accuracy: 0.6782 - val_loss: 1.3126 - val_accuracy: 0.6060\n",
      "Epoch 19/25\n",
      "66/66 [==============================] - 27s 408ms/step - loss: 1.5906 - accuracy: 0.6820 - val_loss: 1.2758 - val_accuracy: 0.6087\n",
      "Epoch 20/25\n",
      "66/66 [==============================] - 27s 409ms/step - loss: 1.6080 - accuracy: 0.6896 - val_loss: 1.2872 - val_accuracy: 0.6187\n",
      "Epoch 21/25\n",
      "66/66 [==============================] - 27s 413ms/step - loss: 1.5697 - accuracy: 0.6914 - val_loss: 1.2819 - val_accuracy: 0.6193\n",
      "Epoch 22/25\n",
      "66/66 [==============================] - 27s 407ms/step - loss: 1.5393 - accuracy: 0.6945 - val_loss: 1.3032 - val_accuracy: 0.6167\n",
      "Epoch 23/25\n",
      "66/66 [==============================] - 27s 413ms/step - loss: 1.6138 - accuracy: 0.6952 - val_loss: 1.3283 - val_accuracy: 0.6267\n",
      "Epoch 24/25\n",
      "66/66 [==============================] - 27s 410ms/step - loss: 1.5298 - accuracy: 0.7015 - val_loss: 1.2746 - val_accuracy: 0.6287\n",
      "Epoch 25/25\n",
      "66/66 [==============================] - 27s 405ms/step - loss: 1.5447 - accuracy: 0.7061 - val_loss: 1.3382 - val_accuracy: 0.6213\n"
     ]
    }
   ],
   "source": [
    "callback = tf.keras.callbacks.EarlyStopping(monitor='loss', patience=3)\n",
    "\n",
    "model_history11 = transfer_model1.fit(data_generator.flow(x_train, y_train_aug, batch_size=128),\n",
    "                    steps_per_epoch=len(x_train)/128, epochs=25,\n",
    "                    validation_data=data_generator.flow(x_val, y_val_aug, batch_size=128),\n",
    "                    validation_steps = len(x_val)/128, callbacks=callback) # 25 epochs\n",
    "\n",
    "transfer_model1.save('transfer1.h5')"
   ]
  },
  {
   "cell_type": "markdown",
   "metadata": {},
   "source": [
    "#### <strong>2. </strong>"
   ]
  },
  {
   "cell_type": "code",
   "execution_count": 22,
   "metadata": {},
   "outputs": [],
   "source": [
    "def transfer_model2_compile():\n",
    "    \n",
    "    model = models.Sequential([pretrained_model])\n",
    "    model.add(layers.Flatten())\n",
    "    model.add(layers.Dense(2000, activation='relu'))\n",
    "    model.add(layers.Dropout(0.5))\n",
    "    model.add(layers.Dense(1000, activation='relu'))\n",
    "    model.add(layers.Dropout(0.5))\n",
    "    model.add(layers.Dense(20, activation='softmax'))\n",
    "    model.add(layers.Dropout(0.05))\n",
    "    \n",
    "    model.compile(optimizer='adam', loss='categorical_crossentropy', metrics=['accuracy'])\n",
    "    model.summary()\n",
    "    return model"
   ]
  },
  {
   "cell_type": "markdown",
   "metadata": {},
   "source": [
    "#### <strong> <font color = 'turquoise'> Compile </font> </strong>"
   ]
  },
  {
   "cell_type": "code",
   "execution_count": 68,
   "metadata": {},
   "outputs": [
    {
     "name": "stdout",
     "output_type": "stream",
     "text": [
      "Model: \"sequential_14\"\n",
      "_________________________________________________________________\n",
      " Layer (type)                Output Shape              Param #   \n",
      "=================================================================\n",
      " vgg16 (Functional)          (None, 1, 1, 512)         14714688  \n",
      "                                                                 \n",
      " flatten_14 (Flatten)        (None, 512)               0         \n",
      "                                                                 \n",
      " dense_42 (Dense)            (None, 2000)              1026000   \n",
      "                                                                 \n",
      " dropout_69 (Dropout)        (None, 2000)              0         \n",
      "                                                                 \n",
      " dense_43 (Dense)            (None, 1000)              2001000   \n",
      "                                                                 \n",
      " dropout_70 (Dropout)        (None, 1000)              0         \n",
      "                                                                 \n",
      " dense_44 (Dense)            (None, 20)                20020     \n",
      "                                                                 \n",
      " dropout_71 (Dropout)        (None, 20)                0         \n",
      "                                                                 \n",
      "=================================================================\n",
      "Total params: 17,761,708\n",
      "Trainable params: 3,047,020\n",
      "Non-trainable params: 14,714,688\n",
      "_________________________________________________________________\n"
     ]
    }
   ],
   "source": [
    "transfer_model2 = transfer_model2_compile()"
   ]
  },
  {
   "cell_type": "code",
   "execution_count": 75,
   "metadata": {},
   "outputs": [],
   "source": [
    "weights = transfer_model1.layers[-8].get_weights()  \n",
    "transfer_model2.layers[-8].set_weights(weights)"
   ]
  },
  {
   "cell_type": "markdown",
   "metadata": {},
   "source": [
    "#### <strong> <font color = 'turquoise'> Training </font> </strong>"
   ]
  },
  {
   "cell_type": "code",
   "execution_count": 76,
   "metadata": {},
   "outputs": [
    {
     "name": "stdout",
     "output_type": "stream",
     "text": [
      "Epoch 1/25\n",
      "66/66 [==============================] - 27s 402ms/step - loss: 1.3115 - accuracy: 0.7655 - val_loss: 1.4245 - val_accuracy: 0.6213\n",
      "Epoch 2/25\n",
      "66/66 [==============================] - 27s 403ms/step - loss: 1.3223 - accuracy: 0.7754 - val_loss: 1.4253 - val_accuracy: 0.6227\n",
      "Epoch 3/25\n",
      "66/66 [==============================] - 27s 400ms/step - loss: 1.3388 - accuracy: 0.7747 - val_loss: 1.4044 - val_accuracy: 0.6320\n",
      "Epoch 4/25\n",
      "66/66 [==============================] - 27s 401ms/step - loss: 1.3229 - accuracy: 0.7780 - val_loss: 1.4295 - val_accuracy: 0.6247\n"
     ]
    }
   ],
   "source": [
    "callback = tf.keras.callbacks.EarlyStopping(monitor='loss', patience=3)\n",
    "\n",
    "model_history12 = transfer_model2.fit(data_generator.flow(x_train, y_train_aug, batch_size=128),\n",
    "                    steps_per_epoch=len(x_train)/128, epochs=25,\n",
    "                    validation_data=data_generator.flow(x_val, y_val_aug, batch_size=128),\n",
    "                    validation_steps = len(x_val)/128, callbacks=callback) # 25 epochs\n",
    "\n",
    "transfer_model2.save('transfer2.h5')"
   ]
  },
  {
   "cell_type": "markdown",
   "metadata": {},
   "source": [
    "#### <strong>3. </strong>"
   ]
  },
  {
   "cell_type": "markdown",
   "metadata": {},
   "source": [
    "#### <strong> <font color = 'turquoise'> Transfer Learning - Freeze Weights of VGG16 </font> </strong>"
   ]
  },
  {
   "cell_type": "code",
   "execution_count": 77,
   "metadata": {},
   "outputs": [
    {
     "data": {
      "image/png": "[encoded data removed]",
      "text/plain": [
       "<Figure size 576x360 with 1 Axes>"
      ]
     },
     "metadata": {
      "needs_background": "light"
     },
     "output_type": "display_data"
    }
   ],
   "source": [
    "plot_accuracy(model_history11)\n",
    "plt.title(\"Transfer Learning - Freeze Weights of VGG16\")\n",
    "plt.show()"
   ]
  },
  {
   "cell_type": "code",
   "execution_count": 78,
   "metadata": {},
   "outputs": [
    {
     "name": "stdout",
     "output_type": "stream",
     "text": [
      "\n",
      " Transfer Learning - First Model\n",
      "Validation set evaluation metrics\n",
      "12/12 [==============================] - 4s 317ms/step - loss: 1.2959 - accuracy: 0.6193\n",
      "Loss: 1.30\n",
      "Accuracy: 0.62\n",
      "\n",
      " Test set evaluation metrics\n",
      "16/16 [==============================] - 5s 317ms/step - loss: 1.3787 - accuracy: 0.6005\n",
      "Loss: 1.38\n",
      "Accuracy: 0.60\n"
     ]
    }
   ],
   "source": [
    "print(\"\\n Transfer Learning - First Model\")\n",
    "\n",
    "print('Validation set evaluation metrics')\n",
    "loss, accuracy = transfer_model1.evaluate(data_generator.flow(x_val, y_val_aug, batch_size=128))\n",
    "print(\"Loss: {:.2f}\".format(loss))\n",
    "print(\"Accuracy: {:.2f}\".format(accuracy))\n",
    "\n",
    "print('\\n Test set evaluation metrics')\n",
    "loss, accuracy = transfer_model1.evaluate(data_generator.flow(x_test, y_test_aug, batch_size=128))\n",
    "print(\"Loss: {:.2f}\".format(loss))\n",
    "print(\"Accuracy: {:.2f}\".format(accuracy))"
   ]
  },
  {
   "cell_type": "markdown",
   "metadata": {},
   "source": [
    "#### <strong> <font color = 'turquoise'> Transfer Learning - Freeze Weights of VGG16 and 8 last layers </font> </strong>"
   ]
  },
  {
   "cell_type": "code",
   "execution_count": 79,
   "metadata": {},
   "outputs": [
    {
     "data": {
      "image/png": "[encoded data removed]",
      "text/plain": [
       "<Figure size 576x360 with 1 Axes>"
      ]
     },
     "metadata": {
      "needs_background": "light"
     },
     "output_type": "display_data"
    }
   ],
   "source": [
    "plot_accuracy(model_history12)\n",
    "plt.title(\"Transfer Learning - Freeze Weights of VGG16 and 8 last layers\")\n",
    "plt.show()"
   ]
  },
  {
   "cell_type": "code",
   "execution_count": 80,
   "metadata": {},
   "outputs": [
    {
     "name": "stdout",
     "output_type": "stream",
     "text": [
      "\n",
      " Transfer Learning - Second Model\n",
      "Validation set evaluation metrics\n",
      "12/12 [==============================] - 4s 314ms/step - loss: 1.4157 - accuracy: 0.6247\n",
      "Loss: 1.42\n",
      "Accuracy: 0.62\n",
      "\n",
      " Test set evaluation metrics\n",
      "16/16 [==============================] - 5s 317ms/step - loss: 1.5225 - accuracy: 0.6170\n",
      "Loss: 1.52\n",
      "Accuracy: 0.62\n"
     ]
    }
   ],
   "source": [
    "print(\"\\n Transfer Learning - Second Model\")\n",
    "\n",
    "print('Validation set evaluation metrics')\n",
    "loss, accuracy = transfer_model2.evaluate(data_generator.flow(x_val, y_val_aug, batch_size=128))\n",
    "print(\"Loss: {:.2f}\".format(loss))\n",
    "print(\"Accuracy: {:.2f}\".format(accuracy))\n",
    "\n",
    "print('\\n Test set evaluation metrics')\n",
    "loss, accuracy = transfer_model2.evaluate(data_generator.flow(x_test, y_test_aug, batch_size=128))\n",
    "print(\"Loss: {:.2f}\".format(loss))\n",
    "print(\"Accuracy: {:.2f}\".format(accuracy))"
   ]
  },
  {
   "cell_type": "markdown",
   "metadata": {},
   "source": [
    "> Παρατηρούμε ότι με την χρήση της μεθόδου transfer learning επιταχύνεται η διαδικασία σύγκλισης και εκπαίδευσης του νευρωνικού δικτύου, δίχως να επιβαρύνεται το τελικό ποσοστό ευστοχίας."
   ]
  }
 ],
 "metadata": {
  "interpreter": {
   "hash": "cf3cf9f7a94420ba0a9a738ebf97709f241d4e70ae3007d137086bc68f73655f"
  },
  "kernelspec": {
   "display_name": "Python 3.10.0 64-bit",
   "language": "python",
   "name": "python3"
  },
  "language_info": {
   "codemirror_mode": {
    "name": "ipython",
    "version": 3
   },
   "file_extension": ".py",
   "mimetype": "text/x-python",
   "name": "python",
   "nbconvert_exporter": "python",
   "pygments_lexer": "ipython3",
   "version": "3.10.0"
  },
  "orig_nbformat": 4
 },
 "nbformat": 4,
 "nbformat_minor": 2
}
